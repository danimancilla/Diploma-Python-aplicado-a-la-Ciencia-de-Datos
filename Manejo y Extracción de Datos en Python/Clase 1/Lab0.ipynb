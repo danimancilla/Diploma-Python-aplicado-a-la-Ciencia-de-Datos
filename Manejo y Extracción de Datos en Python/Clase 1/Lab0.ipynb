{
 "cells": [
  {
   "cell_type": "markdown",
   "metadata": {
    "cell_id": "567e3e8f1ac2430483c12975f41b3306",
    "deepnote_cell_height": 104.390625,
    "deepnote_cell_type": "markdown",
    "id": "cd7b1b55"
   },
   "source": [
    "![Google Drive Image](https://drive.google.com/uc?export=view&id=1zLi1EkeMV8U5nADzIndtPJj041F51g0y)"
   ]
  },
  {
   "cell_type": "markdown",
   "metadata": {
    "id": "utyG_vN8E09R"
   },
   "source": [
    "<h1><center>Laboratorio 0: Python y Google Colab 📷</center></h1>\n",
    "\n",
    "<center><strong>Introducción a Google Colab y Python </strong></center>"
   ]
  },
  {
   "cell_type": "markdown",
   "metadata": {
    "cell_id": "4464ba8e552d41a19d445e7746b72ef6",
    "deepnote_cell_height": 165.1875,
    "deepnote_cell_type": "markdown",
    "id": "Vp_vOHK7V97e"
   },
   "source": [
    "### Cuerpo Docente:\n",
    "\n",
    "- Profesor de Catedra: [Pablo Badilla](https://github.com/pbadillatorrealba/)\n",
    "- Profesor Practico  : [Gabriel Iturra-Bocaz](https://giturra.cl/)."
   ]
  },
  {
   "cell_type": "markdown",
   "metadata": {
    "cell_id": "4979683740cb498ab200a981cfafc91c",
    "deepnote_cell_height": 171.796875,
    "deepnote_cell_type": "markdown",
    "id": "4N_5AYgyWKyA"
   },
   "source": [
    "### Equipo\n",
    "- Nombre de alumno 1: Daniela Mancilla\n",
    "- Nombre de alumno 2: Gabriela Martínez\n"
   ]
  },
  {
   "cell_type": "markdown",
   "metadata": {
    "cell_id": "e30789b4d0e545569e96fe8c91897281",
    "deepnote_cell_height": 271.796875,
    "deepnote_cell_type": "markdown",
    "id": "9el9ERaKWW3i"
   },
   "source": [
    "### Reglas:\n",
    "\n",
    "- **Grupos de 2 personas**.\n",
    "- **Ausentes** deberán realizar la actividad solos.\n",
    "- Cualquier duda fuera del horario de clases al foro. Mensajes al equipo docente serán respondidos por este medio.\n",
    "- Prohibidas las copias.\n",
    "- Pueden usar cualquier material del curso que estimen conveniente, si utiliza material extra debe citarlo."
   ]
  },
  {
   "cell_type": "markdown",
   "metadata": {
    "id": "Y6q7qlZTE09U"
   },
   "source": [
    "### Objetivos principales del laboratorio\n",
    "\n",
    "- Comprender y aprovechar las ventajas que nos ofrece utilizar ```Jupyter Notebook``` para correr archivos en la nube. `Jupyter Notebook` es una aplicación que nos permite escribir texto `Markdown` y `Python` al mismo tiempo.\n",
    "- Poner en práctica los tópicos básicos del lenguaje de programación Python vistos en clases.\n",
    "\n",
    "    - Variables, Operadores y Expresiones.\n",
    "    - Estructuras de Control (if/else).\n",
    "    - Iteraciones.\n",
    "    - Listas y Diccionarios.\n",
    "    - Funciones\n",
    "\n"
   ]
  },
  {
   "cell_type": "markdown",
   "metadata": {
    "id": "Ql_ijDgtE09V"
   },
   "source": [
    "### Introducción a Colab\n",
    "\n",
    "Google Colab es una herramienta para la enseñanza e investigación de Machine Learning. Es un entorno de Jupyter notebook que no requiere configuración para su uso. Colab ofrece un servicio gratuito de GPU en la nube alojado por Google para alentar la colaboración en el campo de Machine Learning, sin preocuparse por los requisitos de hardware. Colab fue lanzado al público por Google en octubre de 2017."
   ]
  },
  {
   "cell_type": "markdown",
   "metadata": {
    "id": "87wwxVsFE09V"
   },
   "source": [
    "#### Markdown\n",
    "\n",
    "**Markdown** es un lenguaje de marcado ligero creado por *John Gruber* que trata de conseguir la **máxima legibilidad** y **facilidad** de publicación.\n",
    "\n",
    "Esto es un parrafo, `esto esta en codigo`, **esto esta en negrita**, *esto esta en cursiva*\n",
    "\n",
    "Se puede insertar codigo multilinea tambien.\n",
    "\n",
    "```python\n",
    "print(\"hello world!\")\n",
    "```\n",
    "\n",
    "Se pueden insertar lineas para separar texto\n",
    "\n",
    "---\n",
    "\n",
    "Se pueden insertar tablas!\n",
    "\n",
    "| 0,1       | 0,2  | 0,3  | 0,4   | 0,5     |\n",
    "|-----------|------|------|-------|---------|\n",
    "| 1,1       | 1,2  | 1,3  | 1,4   | 1,5     |\n",
    "| 2,1       | 2,2  | 2,3  | 2,4   | 2,5     |\n",
    "\n",
    "Se puede \"citar\" texto usando cabezas de pescado\n",
    "> Esta es una frase celebre de algun famoso\n",
    ">\n",
    "> -- Albert Einstein\n",
    "\n",
    "Tambien se puede insertar formulas de $\\LaTeX$ dentro del mismo texto: $a = \\frac{e^y\\sqrt{x+2}}{x^2}$. Se puede insertar $\\LaTeX$ en general tambien.\n",
    "\n",
    "\\begin{equation}\n",
    "\\it{CE}(p,q)=\\sum_{x}p(x)\\log \\bigg(\\frac{1}{q(x)}\\bigg)=- \\sum_{x}p(x)\\log q(x)\n",
    "\\end{equation}\n",
    "\n",
    "Tambien se puede escribir `html`.\n",
    "\n",
    "<strong> Esto esta en negrita usando html </strong>\n",
    "\n",
    "Aca dejo mas recursos sobre Markdown, Colab y Jupyter Notebook:\n",
    "* https://help.github.com/en/github/writing-on-github/basic-writing-and-formatting-syntax\n",
    "* https://es.wikipedia.org/wiki/Markdown\n",
    "* https://colab.research.google.com/notebooks/intro.ipynb\n",
    "* https://jupyter.org/\n",
    "* https://nbviewer.jupyter.org/github/ipython/ipython/blob/1.x/examples/notebooks/Cell%20Magics.ipynb"
   ]
  },
  {
   "cell_type": "markdown",
   "metadata": {
    "cell_id": "9085bd920a594bc2a52a3bfdce32e21f",
    "deepnote_cell_height": 567.09375,
    "deepnote_cell_type": "markdown",
    "id": "d58b089c"
   },
   "source": [
    "## 🍋 Frutas 🍓\n",
    "\n",
    "\n",
    "<div align='center'>\n",
    "<img src='https://github.com/pbadillatorrealba/DEDCCPYAC02-recursos/blob/master/labs/lab0/frutas.jpg' width=600/>\n",
    "</div>"
   ]
  },
  {
   "cell_type": "markdown",
   "metadata": {
    "cell_id": "f6bb1ca25b6c4e159a32bf0b9630447d",
    "deepnote_cell_height": 259.59375,
    "deepnote_cell_type": "markdown",
    "id": "5fdf6b19"
   },
   "source": [
    "Defina las siguientes frutas como diccionarios a partir de sus características (nombre, color, tipo y si posee o no pepas):\n",
    "\n",
    "| Nombre    | Tipo     | Color    | Pepas |\n",
    "|-----------|----------|----------|-------|\n",
    "| limon     | cítrica  | amarillo | True  |\n",
    "| naranja   | cítrica  | naranjo  | True  |\n",
    "| plátano   | tropical | amarillo | False |\n",
    "| piña      | tropical | amarillo | False |\n",
    "| frutilla  | bosque   | rojo     | True |\n",
    "| frambuesa | bosque   | rojo     | True |"
   ]
  },
  {
   "cell_type": "markdown",
   "metadata": {
    "cell_id": "4566ac14c4fc4a9c9dec81e5def40a60",
    "deepnote_cell_height": 122.796875,
    "deepnote_cell_type": "markdown",
    "id": "33aed47b"
   },
   "source": [
    "### Estructurar Datos\n",
    "\n",
    "Agregue Piña, Frutilla y Frambuesa como diccionarios (siga los ejemplos de las frutas dadas) y luego cree una lista que contenga estas frutas.\n"
   ]
  },
  {
   "cell_type": "code",
   "execution_count": 2,
   "metadata": {
    "cell_id": "85cec9afb1044dfc9e588800f2ec12cf",
    "deepnote_cell_type": "code",
    "deepnote_to_be_reexecuted": false,
    "execution_millis": 22,
    "execution_start": 1648863016482,
    "id": "26d23e26",
    "source_hash": "56db5a38"
   },
   "outputs": [],
   "source": [
    "limon = {\n",
    "    \"nombre\": \"limón\",\n",
    "    \"tipo\": \"cítrica\",\n",
    "    \"color\": \"amarillo\",\n",
    "    \"pepas\": True\n",
    "    }\n",
    "\n",
    "naranja = {\"nombre\": \"naranja\",\n",
    "           \"tipo\": \"cítrica\",\n",
    "           \"color\": \"naranjo\",\n",
    "           \"pepas\": True\n",
    "          }\n",
    "\n",
    "platano = {\"nombre\": \"plátano\",\n",
    "           \"tipo\": \"tropical\",\n",
    "           \"color\": \"amarillo\",\n",
    "           \"pepas\": False\n",
    "          }\n",
    "\n",
    "piña = {\"nombre\": \"piña\",\n",
    "           \"tipo\": \"tropical\",\n",
    "           \"color\": \"amarillo\",\n",
    "           \"pepas\": False\n",
    "          }\n",
    "\n",
    "frutilla = {\"nombre\": \"frutilla\",\n",
    "           \"tipo\": \"bosque\",\n",
    "           \"color\": \"rojo\",\n",
    "           \"pepas\": True\n",
    "          }\n",
    "frambuesa = {\"nombre\": \"frambuesa\",\n",
    "           \"tipo\": \"bosque\",\n",
    "           \"color\": \"rojo\",\n",
    "           \"pepas\": True\n",
    "          }"
   ]
  },
  {
   "cell_type": "markdown",
   "metadata": {
    "cell_id": "450f0542818f4605b92e4aa94d47ce25",
    "deepnote_cell_height": 52.390625,
    "deepnote_cell_type": "markdown",
    "id": "259ee333"
   },
   "source": [
    "Ahora, agregue todas las frutas a una lista."
   ]
  },
  {
   "cell_type": "code",
   "execution_count": 3,
   "metadata": {
    "cell_id": "fcf275e66bb44531b98ec3f19a7da467",
    "deepnote_cell_type": "code",
    "deepnote_to_be_reexecuted": false,
    "execution_millis": 29,
    "execution_start": 1648863016524,
    "id": "fcf62186",
    "source_hash": "78d4e62"
   },
   "outputs": [],
   "source": [
    "# Ojo: agregue los datos en el mismo orden que aparecen en la tabla\n",
    "datos = [limon, naranja, platano, piña, frutilla, frambuesa]"
   ]
  },
  {
   "cell_type": "markdown",
   "metadata": {
    "cell_id": "6368768f93684ef3a2684d4dbcfdb6df",
    "deepnote_cell_height": 52.390625,
    "deepnote_cell_type": "markdown",
    "id": "2ed7730e"
   },
   "source": [
    "Esta lista será la información con la que se trabajará durante el lab."
   ]
  },
  {
   "cell_type": "markdown",
   "metadata": {
    "cell_id": "521da380d1c94a21a3bbdec5077e4cba",
    "deepnote_cell_type": "markdown",
    "id": "eybUeHS6E09a"
   },
   "source": [
    "\n",
    "\n",
    "**1. La función `generar_descripcion(fruta)` que reciba una fruta genere una descripción de la fruta de la siguiente manera:**\n",
    "\n",
    "```{El/La} {...} es una fruta de tipo {...} de color {...}. {Presenta/No presenta} pepas en su interior.```\n",
    "    \n",
    "Por ejemplo, `generar_descripcion(plátano)` debe generar el siguiente string:\n",
    "    \n",
    "```\n",
    "'El plátano es una fruta de tipo tropical de color amarillo. No presenta pepas en su interior.'\n",
    "```\n",
    "    \n",
    "Indicaciones:\n",
    "- Usen formateo o suma de strings, if, else y for.\n",
    "- Para saber si ocupar 'El' o 'La', pueden acceder al nombre de la fruta y ver cual es el último carácter a través de indexadores `string[indice]`."
   ]
  },
  {
   "cell_type": "code",
   "execution_count": 4,
   "metadata": {
    "cell_id": "533c38d09f7546a9ba5ede71227f9409",
    "deepnote_cell_type": "code",
    "id": "IX1kouH0E09a"
   },
   "outputs": [],
   "source": [
    "def generar_descripcion(fruta):\n",
    "    indice=datos.index(fruta)\n",
    "    diccionario=datos[indice]\n",
    "    if diccionario[\"nombre\"][-1] == \"a\":\n",
    "        genero= \"La \"\n",
    "    else:\n",
    "        genero=\"El \"\n",
    "    if diccionario[\"pepas\"]:\n",
    "        tiene_pepas = \" Presenta \"\n",
    "    else:\n",
    "        tiene_pepas = \" No presenta \"\n",
    "    descripcion = genero + diccionario[\"nombre\"] + \" es una fruta de tipo \"+ diccionario[\"tipo\"]+\" de color \"+ diccionario[\"color\"] +\".\" + tiene_pepas + \"pepas en su interior.\"\n",
    "    return descripcion"
   ]
  },
  {
   "cell_type": "code",
   "execution_count": 18,
   "metadata": {
    "colab": {
     "base_uri": "https://localhost:8080/",
     "height": 35
    },
    "id": "OO_FLtxAx-6a",
    "outputId": "9c11577e-4375-49e7-e23d-72c690afd7b9"
   },
   "outputs": [
    {
     "data": {
      "text/plain": [
       "'El plátano es una fruta de tipo tropical de color amarillo. No presenta pepas en su interior.'"
      ]
     },
     "execution_count": 18,
     "metadata": {},
     "output_type": "execute_result"
    }
   ],
   "source": [
    "generar_descripcion(platano)"
   ]
  },
  {
   "cell_type": "markdown",
   "metadata": {
    "cell_id": "40f4763a10004bf9ac8f8d94a8cbe482",
    "deepnote_cell_type": "markdown",
    "id": "MKvCmbGKE09a"
   },
   "source": [
    "**2. La función `describir(datos)` que generalice la función `generar_descripcion` para recibir una lista de frutas y devolver una lista con las descripciones de cada una:**\n",
    "\n",
    "Por ejemplo, `describir([limon, naranja]])` deberá devolver una lista de la forma `[descripcion_limon, descripcion_naranja]`"
   ]
  },
  {
   "cell_type": "code",
   "execution_count": 6,
   "metadata": {
    "cell_id": "5b9a31f617b84bb9b8af2aa71a8249a8",
    "deepnote_cell_type": "code",
    "id": "F_P8tAKoE09a"
   },
   "outputs": [],
   "source": [
    "def describir(datos):\n",
    "    descripciones =[]\n",
    "    for fruta in datos:\n",
    "        descripciones.append(generar_descripcion(fruta))\n",
    "    return descripciones"
   ]
  },
  {
   "cell_type": "code",
   "execution_count": 19,
   "metadata": {
    "id": "_W_i38OyQy0A"
   },
   "outputs": [
    {
     "data": {
      "text/plain": [
       "['El limón es una fruta de tipo cítrica de color amarillo. Presenta pepas en su interior.',\n",
       " 'La naranja es una fruta de tipo cítrica de color naranjo. Presenta pepas en su interior.']"
      ]
     },
     "execution_count": 19,
     "metadata": {},
     "output_type": "execute_result"
    }
   ],
   "source": [
    "describir([limon, naranja])"
   ]
  },
  {
   "cell_type": "markdown",
   "metadata": {
    "cell_id": "096d40181b344935a8daed1ef59e1ed3",
    "deepnote_cell_type": "markdown",
    "id": "9uW4yZ8eE09b"
   },
   "source": [
    "**3. La función `filtrar_por_pepa(datos, tiene_pepas)` que dado un tipo de fruta y un booleano, retorne las frutas que tienen o no tienen pepas (según el valor de `tiene_pepas`).**\n",
    "    \n",
    "\n",
    "Por ejemplo, `filtrar_por_pepa(datos, True)` deberá retornar una lista con los diccionarios de: naranja, limon, frutilla y frambuesa."
   ]
  },
  {
   "cell_type": "code",
   "execution_count": 8,
   "metadata": {
    "cell_id": "4b929adaff504132824ce55493656849",
    "deepnote_cell_type": "code",
    "id": "ZdMMfJ_XE09b"
   },
   "outputs": [],
   "source": [
    "def filtrar_por_pepa(datos, tiene_pepas):\n",
    "    filtrados = []\n",
    "    for diccionario in datos:\n",
    "         if diccionario[\"pepas\"] == tiene_pepas:\n",
    "             filtrados.append(diccionario)\n",
    "    return filtrados"
   ]
  },
  {
   "cell_type": "code",
   "execution_count": 20,
   "metadata": {
    "id": "dRcwKUFrSTub"
   },
   "outputs": [
    {
     "data": {
      "text/plain": [
       "[{'nombre': 'plátano',\n",
       "  'tipo': 'tropical',\n",
       "  'color': 'amarillo',\n",
       "  'pepas': False},\n",
       " {'nombre': 'piña', 'tipo': 'tropical', 'color': 'amarillo', 'pepas': False}]"
      ]
     },
     "execution_count": 20,
     "metadata": {},
     "output_type": "execute_result"
    }
   ],
   "source": [
    "filtrar_por_pepa(datos, False)"
   ]
  },
  {
   "cell_type": "markdown",
   "metadata": {
    "cell_id": "31929b2f72f84543b98fa78cbac46745",
    "deepnote_cell_type": "markdown",
    "id": "hjnMmj1AE09b"
   },
   "source": [
    "**4. La función `conteo_colores(datos)` que cree un diccionario que haga un conteo los colores de las frutas.**\n",
    "\n",
    "Para estos datos, la función debería retornar el siguiente diccionario:\n",
    "    \n",
    "```python\n",
    "{\"amarillo\": 3, \"naranjo\": 1, \"rojo\": 2}\n",
    "```"
   ]
  },
  {
   "cell_type": "code",
   "execution_count": 10,
   "metadata": {
    "cell_id": "9d58aa3406854329853f32316b6b0d07",
    "deepnote_cell_type": "code",
    "id": "rAryonT6E09c"
   },
   "outputs": [],
   "source": [
    "def conteo_colores(datos):\n",
    "    conteo = {}\n",
    "    for diccionario in datos:\n",
    "        if diccionario[\"color\"]  in conteo:\n",
    "            conteo[diccionario[\"color\"]] += 1\n",
    "        else:\n",
    "            conteo[diccionario[\"color\"]] =1\n",
    "    return conteo"
   ]
  },
  {
   "cell_type": "code",
   "execution_count": 21,
   "metadata": {
    "id": "DunY-lyOTnv4"
   },
   "outputs": [
    {
     "data": {
      "text/plain": [
       "{'amarillo': 3, 'naranjo': 1, 'rojo': 2}"
      ]
     },
     "execution_count": 21,
     "metadata": {},
     "output_type": "execute_result"
    }
   ],
   "source": [
    "conteo_colores(datos)"
   ]
  },
  {
   "cell_type": "markdown",
   "metadata": {
    "cell_id": "680376561e244482aef7b577c1753252",
    "deepnote_cell_type": "markdown",
    "id": "HjZRp5stE09c"
   },
   "source": [
    "**5. La función `obtener_tipos` que devuelva una lista con los tipos únicos de fruta usando `set()`**.\n",
    "\n",
    "Por ejemplo, `obtener_tipos([limon, naranja, platano])` debería devolver `[\"citrica\", \"tropical\"]`"
   ]
  },
  {
   "cell_type": "code",
   "execution_count": 12,
   "metadata": {
    "cell_id": "0815c695d16d4e10afdc0de3e9e75edd",
    "deepnote_cell_type": "code",
    "id": "q-PpV8_EE09c"
   },
   "outputs": [],
   "source": [
    "def obtener_tipos(datos):\n",
    "    tipos = []\n",
    "    for diccionario in datos:\n",
    "        if diccionario[\"tipo\"] not in tipos:\n",
    "            tipos.append(diccionario[\"tipo\"])\n",
    "    return tipos"
   ]
  },
  {
   "cell_type": "code",
   "execution_count": 22,
   "metadata": {
    "id": "AoxWeiN2URM2"
   },
   "outputs": [
    {
     "data": {
      "text/plain": [
       "['cítrica', 'tropical']"
      ]
     },
     "execution_count": 22,
     "metadata": {},
     "output_type": "execute_result"
    }
   ],
   "source": [
    "obtener_tipos([limon, naranja, platano])"
   ]
  },
  {
   "cell_type": "markdown",
   "metadata": {
    "cell_id": "745ed4bbc60044f182fbc3c4caec5c84",
    "deepnote_cell_type": "markdown",
    "id": "QnYPNu53E09d"
   },
   "source": [
    "**6. Programe nuevamente las funciones `describir`, `filtrar_por_pepa` y `obtener_tipos`, pero esta vez usando *comprehensions*.**\n",
    "\n",
    "*Hint: Pueden reutilizar la documentación escrita en la pregunta 5*"
   ]
  },
  {
   "cell_type": "markdown",
   "metadata": {
    "id": "ZalbNV1ZE09d"
   },
   "source": [
    "### Un pequeño recordatorio de que son las Lista de Comprehensions.\n",
    "\n",
    "#### List Comprehensions\n",
    "\n",
    "Es una forma *elegante* de crear listas.\n",
    "\n",
    "Supongamos que queremos crear una lista con todas las letras de la palabra `cuaderno`."
   ]
  },
  {
   "cell_type": "code",
   "execution_count": 14,
   "metadata": {
    "colab": {
     "base_uri": "https://localhost:8080/"
    },
    "id": "OTqu6cAvE09d",
    "outputId": "6803387a-6848-40c4-cd08-ed4f597feaf5"
   },
   "outputs": [
    {
     "name": "stdout",
     "output_type": "stream",
     "text": [
      "Agregué a la lista: C\n",
      "Agregué a la lista: U\n",
      "Agregué a la lista: A\n",
      "Agregué a la lista: D\n",
      "Agregué a la lista: E\n",
      "Agregué a la lista: R\n",
      "Agregué a la lista: N\n",
      "Agregué a la lista: O\n",
      "Agregué a la lista:  \n",
      "Agregué a la lista: 📗\n"
     ]
    },
    {
     "data": {
      "text/plain": [
       "['C', 'U', 'A', 'D', 'E', 'R', 'N', 'O', ' ', '📗']"
      ]
     },
     "execution_count": 14,
     "metadata": {},
     "output_type": "execute_result"
    }
   ],
   "source": [
    "letras = []\n",
    "palabra = 'Cuaderno 📗'\n",
    "\n",
    "for letra in palabra:\n",
    "    letras.append(letra.upper())\n",
    "    print(f'Agregué a la lista: {letra.upper()}')\n",
    "\n",
    "letras"
   ]
  },
  {
   "cell_type": "markdown",
   "metadata": {
    "id": "EZksOYNpE09e"
   },
   "source": [
    "Podemos reemplazar este ciclo `for` por una sintaxis mas compacta:"
   ]
  },
  {
   "cell_type": "code",
   "execution_count": 15,
   "metadata": {
    "id": "SDAzgLVPE09e",
    "outputId": "f16acde3-ff63-4c4d-bc01-498299cbf6df"
   },
   "outputs": [
    {
     "data": {
      "text/plain": [
       "['C', 'U', 'A', 'D', 'E', 'R', 'N', 'O', ' ', '📗']"
      ]
     },
     "execution_count": 15,
     "metadata": {},
     "output_type": "execute_result"
    }
   ],
   "source": [
    "letras = [letra.upper() for letra in palabra]\n",
    "letras"
   ]
  },
  {
   "cell_type": "markdown",
   "metadata": {
    "id": "U7R3Q8C_E09e"
   },
   "source": [
    "### Ahora el ejercicio"
   ]
  },
  {
   "cell_type": "code",
   "execution_count": 16,
   "metadata": {
    "cell_id": "18b1fa6908a3456483d9bc7f87788b8d",
    "deepnote_cell_type": "code",
    "id": "wxLMxmm8E09f"
   },
   "outputs": [],
   "source": [
    "def obtener_descripciones_v2(datos):\n",
    "    descripciones = [generar_descripcion(fruta) for fruta in datos]\n",
    "    return descripciones\n",
    "\n",
    "def filtrar_por_pepa_v2(datos, tiene_pepas):\n",
    "    filtrados = [fruta for fruta in datos if tiene_pepas == fruta[\"pepas\"]]\n",
    "    return filtrados\n",
    "\n",
    "def obtener_tipos_v2(datos):\n",
    "    tipos =list({fruta[\"tipo\"] for fruta in datos})\n",
    "    return tipos"
   ]
  },
  {
   "cell_type": "code",
   "execution_count": 23,
   "metadata": {
    "id": "EMG_UZ686F8S"
   },
   "outputs": [
    {
     "data": {
      "text/plain": [
       "['La piña es una fruta de tipo tropical de color amarillo. No presenta pepas en su interior.',\n",
       " 'El limón es una fruta de tipo cítrica de color amarillo. Presenta pepas en su interior.',\n",
       " 'La frambuesa es una fruta de tipo bosque de color rojo. Presenta pepas en su interior.']"
      ]
     },
     "execution_count": 23,
     "metadata": {},
     "output_type": "execute_result"
    }
   ],
   "source": [
    "obtener_descripciones_v2([piña,limon,frambuesa])"
   ]
  },
  {
   "cell_type": "code",
   "execution_count": 24,
   "metadata": {},
   "outputs": [
    {
     "data": {
      "text/plain": [
       "[{'nombre': 'limón', 'tipo': 'cítrica', 'color': 'amarillo', 'pepas': True},\n",
       " {'nombre': 'naranja', 'tipo': 'cítrica', 'color': 'naranjo', 'pepas': True},\n",
       " {'nombre': 'frutilla', 'tipo': 'bosque', 'color': 'rojo', 'pepas': True},\n",
       " {'nombre': 'frambuesa', 'tipo': 'bosque', 'color': 'rojo', 'pepas': True}]"
      ]
     },
     "execution_count": 24,
     "metadata": {},
     "output_type": "execute_result"
    }
   ],
   "source": [
    "filtrar_por_pepa_v2(datos,True)"
   ]
  },
  {
   "cell_type": "code",
   "execution_count": 25,
   "metadata": {},
   "outputs": [
    {
     "data": {
      "text/plain": [
       "['cítrica', 'bosque', 'tropical']"
      ]
     },
     "execution_count": 25,
     "metadata": {},
     "output_type": "execute_result"
    }
   ],
   "source": [
    "obtener_tipos_v2(datos)"
   ]
  },
  {
   "cell_type": "markdown",
   "metadata": {
    "created_in_deepnote_cell": true,
    "deepnote_cell_type": "markdown",
    "id": "EVn41LH1E09f"
   },
   "source": [
    "<a style='text-decoration:none;line-height:16px;display:flex;color:#5B5B62;padding:10px;justify-content:end;' href='https://deepnote.com?utm_source=created-in-deepnote-cell&projectId=87110296-876e-426f-b91d-aaf681223468' target=\"_blank\">\n",
    "<img alt='Created in deepnote.com' style='display:inline;max-height:16px;margin:0px;margin-right:7.5px;' src='data:image/svg+xml;base64,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' > </img>\n",
    "Created in <span style='font-weight:600;margin-left:4px;'>Deepnote</span></a>"
   ]
  }
 ],
 "metadata": {
  "colab": {
   "provenance": []
  },
  "deepnote": {},
  "deepnote_execution_queue": [],
  "deepnote_notebook_id": "9ab947a9e176401fb56de9443c666a4a",
  "kernelspec": {
   "display_name": "Python 3 (ipykernel)",
   "language": "python",
   "name": "python3"
  },
  "language_info": {
   "codemirror_mode": {
    "name": "ipython",
    "version": 3
   },
   "file_extension": ".py",
   "mimetype": "text/x-python",
   "name": "python",
   "nbconvert_exporter": "python",
   "pygments_lexer": "ipython3",
   "version": "3.9.6"
  }
 },
 "nbformat": 4,
 "nbformat_minor": 4
}
