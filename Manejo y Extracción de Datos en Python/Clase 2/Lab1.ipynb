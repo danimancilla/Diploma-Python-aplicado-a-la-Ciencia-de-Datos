{
  "cells": [
    {
      "cell_type": "markdown",
      "metadata": {
        "cell_id": "fb533ae35f74471cba8d2021651c5af6",
        "deepnote_cell_height": 358.20001220703125,
        "deepnote_cell_type": "markdown",
        "tags": [],
        "id": "cByd4ODTrJyZ"
      },
      "source": [
        "![Google Drive Image](https://drive.google.com/uc?export=view&id=1zLi1EkeMV8U5nADzIndtPJj041F51g0y)"
      ]
    },
    {
      "cell_type": "markdown",
      "metadata": {
        "cell_id": "7499e712fa2748ddb0be92dc2d608441",
        "deepnote_cell_height": 103.53334045410156,
        "deepnote_cell_type": "markdown",
        "tags": [],
        "id": "zJ0B4sVdrJyc"
      },
      "source": [
        "<h1><center>Laboratorio 1: Numpy 📷</center></h1>\n",
        "\n",
        "<center><strong>Introducción, Entorno de Desarrollo y Manejo de Arreglos con Numpy</strong></center>"
      ]
    },
    {
      "cell_type": "markdown",
      "metadata": {
        "cell_id": "c1b9bd8d5a474fa68819fccfde9eed16",
        "deepnote_cell_height": 139.5,
        "deepnote_cell_type": "markdown",
        "tags": [],
        "id": "-U4Xep_lrJyd"
      },
      "source": [
        "### Cuerpo Docente:\n",
        "\n",
        "- Profesor de Catedra: [Pablo Badilla](https://github.com/pbadillatorrealba/)\n",
        "- Profesor Practico  : [Gabriel Iturra-Bocaz](https://giturra.cl/)."
      ]
    },
    {
      "cell_type": "markdown",
      "metadata": {
        "cell_id": "c39a234f8b0b48eb8365444c7d55fa75",
        "deepnote_cell_height": 242.23333740234375,
        "deepnote_cell_type": "markdown",
        "tags": [],
        "id": "31iambcrrJye"
      },
      "source": [
        "### Reglas:\n",
        "\n",
        "- **Grupos de 2 personas**: Daniela Mancilla y Francisca Quijada\n",
        "- **Ausentes** deberán realizar la actividad solos.\n",
        "- Cualquier duda fuera del horario de clases al foro. Mensajes al equipo docente serán respondidos por este medio.\n",
        "- Pueden usar cualquer matrial del curso que estimen conveniente, si utiliza material extra debe citarlo.\n"
      ]
    },
    {
      "cell_type": "markdown",
      "metadata": {
        "cell_id": "9949bd04e57d4d508775e642e667828b",
        "deepnote_cell_height": 113.81666564941406,
        "deepnote_cell_type": "markdown",
        "tags": [],
        "id": "ZMoM_vBhrJyf"
      },
      "source": [
        "### Temas a tratar:\n",
        "\n",
        "- `Numpy` para manejo de datos en arreglos."
      ]
    },
    {
      "cell_type": "markdown",
      "metadata": {
        "cell_id": "72b14d39c1ff4c489a037a409de652fb",
        "deepnote_cell_height": 184.3000030517578,
        "deepnote_cell_type": "markdown",
        "tags": [],
        "id": "bKUsVOUVrJyg"
      },
      "source": [
        "### Objetivos principales del laboratorio\n",
        "\n",
        "- Comprender y aprovechar las ventajas que nos ofrece la Liberia  `numpy` con respecto a trabajar con las funciones de `Python` de forma nativa.\n",
        "- Verificar que el uso indiscriminado de `for` puede afectar en la eficiencia en al procesar datos masivos.\n",
        "\n",
        "El objetivo principal de este laboratorio es que aprendan a exprimir al máximo las funciones optimizadas que nos entrega `numpy`, las cuales son mucho más eficientes que los iteradores nativos sobre arreglos."
      ]
    },
    {
      "cell_type": "markdown",
      "metadata": {
        "cell_id": "d6a51894ad9f42c28765d065276df450",
        "deepnote_cell_height": 69.13333129882812,
        "deepnote_cell_type": "markdown",
        "tags": [],
        "id": "l7UNdZX_rJyg"
      },
      "source": [
        "## Problema 1: Creación de Arreglos"
      ]
    },
    {
      "cell_type": "markdown",
      "metadata": {
        "cell_id": "359f07558e4f47d4ba42ac80418f3c27",
        "deepnote_cell_height": 90.93333435058594,
        "deepnote_cell_type": "markdown",
        "tags": [],
        "id": "yYVX5n3ArJyh"
      },
      "source": [
        "1. Transforme la lista de python `array_a` dispuesta en la celda de mas abajo en un arreglo Numpy. Agregue su código y muestre sus resultados."
      ]
    },
    {
      "cell_type": "code",
      "execution_count": null,
      "metadata": {
        "cell_id": "1b2d2b6aa75f45f4b311538791ae028e",
        "deepnote_cell_height": 283.70001220703125,
        "deepnote_cell_type": "code",
        "deepnote_output_heights": [
          98
        ],
        "deepnote_to_be_reexecuted": false,
        "execution_millis": 5,
        "execution_start": 1657161667797,
        "source_hash": "8e2ae427",
        "tags": [],
        "id": "c11NBUP2rJyi"
      },
      "outputs": [],
      "source": [
        "# Transforme una lista de Python al formato Numpy Array:\n",
        "\n",
        "# A continuación, se define la lista lista_a\n",
        "lista_a = [[5, 10, 9], [2, 7, 8], [6, 3, 1], [7, 7, 9], [0, 8, 4]]\n",
        "\n",
        "# A partir de la lista anterior, inicialice un arreglo llamado array_a"
      ]
    },
    {
      "cell_type": "code",
      "source": [
        "import numpy as np\n",
        "array_a=np.array(lista_a)\n",
        "array_a"
      ],
      "metadata": {
        "colab": {
          "base_uri": "https://localhost:8080/"
        },
        "id": "GOrC5Q5V6HJR",
        "outputId": "1e32be3a-76fe-4efd-da27-53bd449b25b8"
      },
      "execution_count": null,
      "outputs": [
        {
          "output_type": "execute_result",
          "data": {
            "text/plain": [
              "array([[ 5, 10,  9],\n",
              "       [ 2,  7,  8],\n",
              "       [ 6,  3,  1],\n",
              "       [ 7,  7,  9],\n",
              "       [ 0,  8,  4]])"
            ]
          },
          "metadata": {},
          "execution_count": 3
        }
      ]
    },
    {
      "cell_type": "markdown",
      "metadata": {
        "cell_id": "69d1ea0567454c4d9ed7ee68ec2b3d0c",
        "deepnote_cell_height": 65.53334045410156,
        "deepnote_cell_type": "markdown",
        "tags": [],
        "id": "HOwB-7LprJyk"
      },
      "source": [
        "> **Pregunta ❓**Qué sucederá al ejecutar la siguiente celda?\n"
      ]
    },
    {
      "cell_type": "markdown",
      "source": [],
      "metadata": {
        "id": "at2nh6vklnso"
      }
    },
    {
      "cell_type": "code",
      "execution_count": null,
      "metadata": {
        "cell_id": "213f9eebf83743738c057c734c241ca9",
        "deepnote_cell_height": 80.13333129882812,
        "deepnote_cell_type": "code",
        "deepnote_to_be_reexecuted": false,
        "execution_millis": 4,
        "execution_start": 1657163593422,
        "source_hash": "f996b2c4",
        "tags": [],
        "id": "V0Rrv5elrJym",
        "colab": {
          "base_uri": "https://localhost:8080/"
        },
        "outputId": "fab7c454-27ca-4f2a-da92-80df80ffe29c"
      },
      "outputs": [
        {
          "output_type": "stream",
          "name": "stderr",
          "text": [
            "<ipython-input-6-dff8445882cf>:1: VisibleDeprecationWarning: Creating an ndarray from ragged nested sequences (which is a list-or-tuple of lists-or-tuples-or ndarrays with different lengths or shapes) is deprecated. If you meant to do this, you must specify 'dtype=object' when creating the ndarray.\n",
            "  array_b = np.array([[5, 10, 9], [2, 7, 8], [2]])\n"
          ]
        },
        {
          "output_type": "execute_result",
          "data": {
            "text/plain": [
              "array([list([5, 10, 9]), list([2, 7, 8]), list([2])], dtype=object)"
            ]
          },
          "metadata": {},
          "execution_count": 6
        }
      ],
      "source": [
        "array_b = np.array([[5, 10, 9], [2, 7, 8], [2]])\n",
        "array_b"
      ]
    },
    {
      "cell_type": "markdown",
      "metadata": {
        "cell_id": "42216d194b524835904e2bdea7bdf2d1",
        "deepnote_cell_height": 69.93333435058594,
        "deepnote_cell_type": "markdown",
        "tags": [],
        "id": "25Fj6stmrJyn"
      },
      "source": [
        "```\n",
        "Python no lo interpreta como una matriz y genera una lista (un\n",
        "vector) de listas. Esto ocurre porque el último elemento tiene dimensión 1,\n",
        "mientras que los dos primeros elementos tienen dimensión 3.\n",
        "```"
      ]
    },
    {
      "cell_type": "markdown",
      "metadata": {
        "cell_id": "75f4dc13dafe4c82ac40d50fee331d64",
        "deepnote_cell_height": 90.93333435058594,
        "deepnote_cell_type": "markdown",
        "tags": [],
        "id": "AS73bN5GrJyo"
      },
      "source": [
        "2. Cree arreglos de numpy conformados de unos, ceros y con numeros aleatorios. Considere la creación de los arreglos con las siguiente dimensión: `(2, 5)`."
      ]
    },
    {
      "cell_type": "code",
      "execution_count": null,
      "metadata": {
        "cell_id": "f2ff734488544d22bb2e1468a8a4ecd5",
        "deepnote_cell_height": 206.13333129882812,
        "deepnote_cell_type": "code",
        "deepnote_to_be_reexecuted": false,
        "execution_millis": 2,
        "execution_start": 1657159681379,
        "source_hash": "651379d0",
        "tags": [],
        "id": "M0CMJCpGrJyo"
      },
      "outputs": [],
      "source": [
        "# Arreglos conformados con unos\n",
        "array_unos =np.ones((2,5))\n",
        "\n",
        "# Arreglos conformados por ceros\n",
        "array_ceros =np.zeros((2,5))\n",
        "\n",
        "\n",
        "# Arreglos Aleatorios\n",
        "array_aleatorios =np.random.random((2,5))\n",
        "\n",
        "#array_unos\n",
        "#array_ceros\n",
        "#array_aleatorios"
      ]
    },
    {
      "cell_type": "markdown",
      "metadata": {
        "cell_id": "4d37e5a3707e4d759d31694657d6ae43",
        "deepnote_cell_height": 51.53334045410156,
        "deepnote_cell_type": "markdown",
        "tags": [],
        "id": "tcJAqvv8rJyo"
      },
      "source": [
        "3.- El número de dimensiones del arreglo."
      ]
    },
    {
      "cell_type": "code",
      "execution_count": null,
      "metadata": {
        "cell_id": "23364b401a0c47698b74deafa186b4ef",
        "deepnote_cell_height": 65.13333129882812,
        "deepnote_cell_type": "code",
        "tags": [],
        "id": "JBqdoLuArJyp",
        "colab": {
          "base_uri": "https://localhost:8080/"
        },
        "outputId": "a9f28396-192e-4a09-9d83-0d6309f9889b"
      },
      "outputs": [
        {
          "output_type": "execute_result",
          "data": {
            "text/plain": [
              "2"
            ]
          },
          "metadata": {},
          "execution_count": 35
        }
      ],
      "source": [
        "array_unos.ndim\n",
        "array_ceros.ndim\n",
        "array_aleatorios.ndim"
      ]
    },
    {
      "cell_type": "markdown",
      "metadata": {
        "cell_id": "422ce11c8ce3463b80e2c42bfd3696bc",
        "deepnote_cell_height": 51.53334045410156,
        "deepnote_cell_type": "markdown",
        "tags": [],
        "id": "XJGUNO9irJyp"
      },
      "source": [
        "4.- El número de elementos del arreglo en cada dimensión."
      ]
    },
    {
      "cell_type": "code",
      "execution_count": null,
      "metadata": {
        "cell_id": "78ea89bb6ff443378c349485d9142d0e",
        "deepnote_cell_height": 65.13333129882812,
        "deepnote_cell_type": "code",
        "tags": [],
        "id": "2H3fnHQIrJyp",
        "colab": {
          "base_uri": "https://localhost:8080/"
        },
        "outputId": "3a7d0487-b873-48c2-faa2-69312ed66d3f"
      },
      "outputs": [
        {
          "output_type": "execute_result",
          "data": {
            "text/plain": [
              "(2, 5)"
            ]
          },
          "metadata": {},
          "execution_count": 39
        }
      ],
      "source": [
        "array_unos.shape\n",
        "array_ceros.shape\n",
        "array_aleatorios.shape"
      ]
    },
    {
      "cell_type": "markdown",
      "metadata": {
        "cell_id": "2c4afcc9f85e4eb4aff476d58e70a258",
        "deepnote_cell_height": 51.53334045410156,
        "deepnote_cell_type": "markdown",
        "tags": [],
        "id": "CqCfsCwirJyp"
      },
      "source": [
        "5.- El número total de elementos que contiene el arreglo."
      ]
    },
    {
      "cell_type": "code",
      "execution_count": null,
      "metadata": {
        "cell_id": "ec46cbbee23d406fab9566bb870764ed",
        "deepnote_cell_height": 65.13333129882812,
        "deepnote_cell_type": "code",
        "tags": [],
        "id": "2lpTE6IprJyq",
        "colab": {
          "base_uri": "https://localhost:8080/"
        },
        "outputId": "7baf6c48-1589-44ea-dcfd-39db3622e21e"
      },
      "outputs": [
        {
          "output_type": "execute_result",
          "data": {
            "text/plain": [
              "10"
            ]
          },
          "metadata": {},
          "execution_count": 40
        }
      ],
      "source": [
        "array_unos.size\n",
        "array_ceros.size\n",
        "array_aleatorios.size"
      ]
    },
    {
      "cell_type": "markdown",
      "metadata": {
        "cell_id": "67050381bf8c40d08eef551c107431dc",
        "deepnote_cell_height": 51.53334045410156,
        "deepnote_cell_type": "markdown",
        "tags": [],
        "id": "n2tuKW0nrJyq"
      },
      "source": [
        "6.- El tipo de datos que contiene el arreglo."
      ]
    },
    {
      "cell_type": "code",
      "execution_count": null,
      "metadata": {
        "cell_id": "44a9f6dd798f4109a5c88226ce9e7820",
        "deepnote_cell_height": 65.13333129882812,
        "deepnote_cell_type": "code",
        "tags": [],
        "id": "Wqh3H6BBrJyq",
        "colab": {
          "base_uri": "https://localhost:8080/"
        },
        "outputId": "e9604830-c793-4b5a-ef30-370d74ad36a1"
      },
      "outputs": [
        {
          "output_type": "execute_result",
          "data": {
            "text/plain": [
              "dtype('float64')"
            ]
          },
          "metadata": {},
          "execution_count": 43
        }
      ],
      "source": [
        "array_unos.dtype\n",
        "array_ceros.dtype\n",
        "array_aleatorios.dtype"
      ]
    },
    {
      "cell_type": "markdown",
      "metadata": {
        "cell_id": "0c51eff2b9f341d7b53cd8b668241be0",
        "deepnote_cell_height": 69.13333129882812,
        "deepnote_cell_type": "markdown",
        "tags": [],
        "id": "3RFfm9C9rJyr"
      },
      "source": [
        "## Problema 2: Operaciones con Numpy"
      ]
    },
    {
      "cell_type": "markdown",
      "metadata": {
        "cell_id": "56577fdbea644870ba5881814311e68f",
        "deepnote_cell_height": 68.53334045410156,
        "deepnote_cell_type": "markdown",
        "tags": [],
        "id": "c3Nr0_nBrJyr"
      },
      "source": [
        "1. A cada elemento del arreglo `array_a` sume `3` ."
      ]
    },
    {
      "cell_type": "code",
      "execution_count": null,
      "metadata": {
        "cell_id": "09c92b54aec3494496c957400a499972",
        "deepnote_cell_height": 65.13333129882812,
        "deepnote_cell_type": "code",
        "tags": [],
        "id": "7jMhIx8BrJyr",
        "colab": {
          "base_uri": "https://localhost:8080/"
        },
        "outputId": "894a9873-4a51-4c26-8294-6a315cfa3764"
      },
      "outputs": [
        {
          "output_type": "execute_result",
          "data": {
            "text/plain": [
              "array([[ 8, 13, 12],\n",
              "       [ 5, 10, 11],\n",
              "       [ 9,  6,  4],\n",
              "       [10, 10, 12],\n",
              "       [ 3, 11,  7]])"
            ]
          },
          "metadata": {},
          "execution_count": 46
        }
      ],
      "source": [
        "array_a+3"
      ]
    },
    {
      "cell_type": "markdown",
      "metadata": {
        "cell_id": "f96ebc95c3924497987a06ac34ed9ec3",
        "deepnote_cell_height": 90.93333435058594,
        "deepnote_cell_type": "markdown",
        "tags": [],
        "id": "vBitD7dUrJyr"
      },
      "source": [
        "2. Ahora, genere un arreglo `valores_1 = [1, 2, 3]` el cuál tiene una sola dimensión con 3 elementos, sumelo a `array_a` y guardelo en la variable `resultado_1`. ¿Cómo se aplica la operación en este caso?"
      ]
    },
    {
      "cell_type": "code",
      "execution_count": null,
      "metadata": {
        "cell_id": "f72e3aae766e4628bac7975d72d5e883",
        "deepnote_cell_height": 193.6999969482422,
        "deepnote_cell_type": "code",
        "deepnote_output_heights": [
          98
        ],
        "deepnote_to_be_reexecuted": false,
        "execution_millis": 5,
        "execution_start": 1657160090264,
        "source_hash": "c1274055",
        "tags": [],
        "id": "Sxntghv0rJyr",
        "outputId": "2ac58153-1b71-40cf-c438-c193df4d218a",
        "colab": {
          "base_uri": "https://localhost:8080/"
        }
      },
      "outputs": [
        {
          "output_type": "execute_result",
          "data": {
            "text/plain": [
              "array([[ 6, 12, 12],\n",
              "       [ 3,  9, 11],\n",
              "       [ 7,  5,  4],\n",
              "       [ 8,  9, 12],\n",
              "       [ 1, 10,  7]])"
            ]
          },
          "metadata": {},
          "execution_count": 48
        }
      ],
      "source": [
        "valores_1 =np.array([1,2,3])\n",
        "resultado_1=array_a+valores_1"
      ]
    },
    {
      "cell_type": "code",
      "source": [
        "array_a"
      ],
      "metadata": {
        "colab": {
          "base_uri": "https://localhost:8080/"
        },
        "id": "gQId6tUL9wFe",
        "outputId": "8ec16688-e449-4e19-e0d7-7b84cf006a3a"
      },
      "execution_count": null,
      "outputs": [
        {
          "output_type": "execute_result",
          "data": {
            "text/plain": [
              "array([[ 5, 10,  9],\n",
              "       [ 2,  7,  8],\n",
              "       [ 6,  3,  1],\n",
              "       [ 7,  7,  9],\n",
              "       [ 0,  8,  4]])"
            ]
          },
          "metadata": {},
          "execution_count": 49
        }
      ]
    },
    {
      "cell_type": "markdown",
      "metadata": {
        "cell_id": "243d746843a14ff0b7ec0a11c1f1ba89",
        "deepnote_cell_height": 69.93333435058594,
        "deepnote_cell_type": "markdown",
        "tags": [],
        "id": "r7kgdPCWrJys"
      },
      "source": [
        "```\n",
        "La operación consiste en sumar los elementos del arreglo valores_1 a las columnas del arreglo array_a.\n",
        "Es decir, suma 1 a la primera columna, suma 2 a la segunda columna, y suma 3 a la tercera columna.\n",
        "```"
      ]
    },
    {
      "cell_type": "markdown",
      "metadata": {
        "cell_id": "c86f2e840f5a42a8a0343debff9caaee",
        "deepnote_cell_height": 90.93333435058594,
        "deepnote_cell_type": "markdown",
        "tags": [],
        "id": "lwqQtWVMrJys"
      },
      "source": [
        "3. Sume a `array_a` la siguiente lista `valores_2 = [[100],[3],[10],[22],[30]]` de dimension (5,1). ¿Cómo se aplica la operación en este caso?"
      ]
    },
    {
      "cell_type": "code",
      "execution_count": null,
      "metadata": {
        "cell_id": "03c79fae37f348268de47f6108acca5a",
        "deepnote_cell_height": 193.6999969482422,
        "deepnote_cell_type": "code",
        "deepnote_output_heights": [
          98
        ],
        "deepnote_to_be_reexecuted": false,
        "execution_millis": 2,
        "execution_start": 1657160161378,
        "source_hash": "16f8d175",
        "tags": [],
        "id": "CbsDI_8arJys",
        "outputId": "e7e4a3a9-90c4-4aba-eae7-d894d2bb6c5d",
        "colab": {
          "base_uri": "https://localhost:8080/"
        }
      },
      "outputs": [
        {
          "output_type": "execute_result",
          "data": {
            "text/plain": [
              "array([[105, 110, 109],\n",
              "       [  5,  10,  11],\n",
              "       [ 16,  13,  11],\n",
              "       [ 29,  29,  31],\n",
              "       [ 30,  38,  34]])"
            ]
          },
          "metadata": {},
          "execution_count": 52
        }
      ],
      "source": [
        "valores_2 =np.array([[100],[3],[10],[22],[30]])\n",
        "resultado_2=array_a+valores_2\n",
        "resultado_2"
      ]
    },
    {
      "cell_type": "markdown",
      "source": [
        "```\n",
        "La operación consiste en sumar los elementos del arreglo valores_2 a las filas del arreglo array_a.\n",
        "Es decir, suma 100 a la fila 1, suma 3 a la fila 2, y así sucesivamente.\n",
        "```\n"
      ],
      "metadata": {
        "id": "e4esEN2-AVOi"
      }
    },
    {
      "cell_type": "markdown",
      "metadata": {
        "cell_id": "a68b1c279b164d4a9c915b6d1b8c6788",
        "deepnote_cell_height": 68.53334045410156,
        "deepnote_cell_type": "markdown",
        "tags": [],
        "id": "Hbpr2HOOrJys"
      },
      "source": [
        "4. Intente sumar a `array_a` la siguiente lista `valores_3 = [100, 3, 10 , 22 , 30]` de dimension (5). ¿Qué sucede en este caso y por qué?"
      ]
    },
    {
      "cell_type": "code",
      "source": [
        "valores_3 = np.array([100, 3, 10 , 22 , 30])\n",
        "resultado_3=array_a+valores_3\n",
        "resultado_3"
      ],
      "metadata": {
        "colab": {
          "base_uri": "https://localhost:8080/",
          "height": 268
        },
        "id": "5hqZgpwLAta0",
        "outputId": "6f7ea69c-8c42-4838-f918-c48353edd268"
      },
      "execution_count": null,
      "outputs": [
        {
          "output_type": "error",
          "ename": "ValueError",
          "evalue": "ignored",
          "traceback": [
            "\u001b[0;31m---------------------------------------------------------------------------\u001b[0m",
            "\u001b[0;31mValueError\u001b[0m                                Traceback (most recent call last)",
            "\u001b[0;32m<ipython-input-54-a3231bffefe2>\u001b[0m in \u001b[0;36m<cell line: 2>\u001b[0;34m()\u001b[0m\n\u001b[1;32m      1\u001b[0m \u001b[0mvalores_3\u001b[0m \u001b[0;34m=\u001b[0m \u001b[0mnp\u001b[0m\u001b[0;34m.\u001b[0m\u001b[0marray\u001b[0m\u001b[0;34m(\u001b[0m\u001b[0;34m[\u001b[0m\u001b[0;36m100\u001b[0m\u001b[0;34m,\u001b[0m \u001b[0;36m3\u001b[0m\u001b[0;34m,\u001b[0m \u001b[0;36m10\u001b[0m \u001b[0;34m,\u001b[0m \u001b[0;36m22\u001b[0m \u001b[0;34m,\u001b[0m \u001b[0;36m30\u001b[0m\u001b[0;34m]\u001b[0m\u001b[0;34m)\u001b[0m\u001b[0;34m\u001b[0m\u001b[0;34m\u001b[0m\u001b[0m\n\u001b[0;32m----> 2\u001b[0;31m \u001b[0mresultado_3\u001b[0m\u001b[0;34m=\u001b[0m\u001b[0marray_a\u001b[0m\u001b[0;34m+\u001b[0m\u001b[0mvalores_3\u001b[0m\u001b[0;34m\u001b[0m\u001b[0;34m\u001b[0m\u001b[0m\n\u001b[0m\u001b[1;32m      3\u001b[0m \u001b[0mresultado_3\u001b[0m\u001b[0;34m\u001b[0m\u001b[0;34m\u001b[0m\u001b[0m\n",
            "\u001b[0;31mValueError\u001b[0m: operands could not be broadcast together with shapes (5,3) (5,) "
          ]
        }
      ]
    },
    {
      "cell_type": "markdown",
      "metadata": {
        "cell_id": "101e97a636f04605ab954f556d25ff37",
        "deepnote_cell_height": 69.93333435058594,
        "deepnote_cell_type": "markdown",
        "tags": [],
        "id": "-t0KLaMxrJyt"
      },
      "source": [
        "```\n",
        "Entrega un error, pues intenta sumar 5 valores a las columnas que son 3.\n",
        "```"
      ]
    },
    {
      "cell_type": "markdown",
      "metadata": {
        "cell_id": "8b6949227fe54351a7563bddea043891",
        "deepnote_cell_height": 144.96665954589844,
        "deepnote_cell_type": "markdown",
        "tags": [],
        "id": "Lq2tmi52rJyt"
      },
      "source": [
        "5. Aplique la ecuación definida mas abajo a cada uno de los valores del arreglo `array_a` :\n",
        "\n",
        "    - $$ tan(x) = \\dfrac{sin(x)}{cos(x)} $$\n",
        "\n",
        "**Nota:** No utilice directamente la función `tan` de numpy.\n"
      ]
    },
    {
      "cell_type": "code",
      "execution_count": null,
      "metadata": {
        "cell_id": "0a469547e19b44f0a452935740660786",
        "deepnote_cell_height": 193.6999969482422,
        "deepnote_cell_type": "code",
        "deepnote_output_heights": [
          98
        ],
        "deepnote_to_be_reexecuted": false,
        "execution_millis": 6,
        "execution_start": 1657160552011,
        "source_hash": "a2e16710",
        "tags": [],
        "id": "xdg5oNiWrJyt",
        "outputId": "6ad0afde-ccad-44df-aad9-6e1ef8b5a803",
        "colab": {
          "base_uri": "https://localhost:8080/"
        }
      },
      "outputs": [
        {
          "output_type": "execute_result",
          "data": {
            "text/plain": [
              "array([[-3.38051501,  0.64836083, -0.45231566],\n",
              "       [-2.18503986,  0.87144798, -6.79971146],\n",
              "       [-0.29100619, -0.14254654,  1.55740772],\n",
              "       [ 0.87144798,  0.87144798, -0.45231566],\n",
              "       [ 0.        , -6.79971146,  1.15782128]])"
            ]
          },
          "metadata": {},
          "execution_count": 65
        }
      ],
      "source": [
        "tan=np.sin(array_a)/np.cos(array_a)\n",
        "tan"
      ]
    },
    {
      "cell_type": "markdown",
      "metadata": {
        "cell_id": "86c2109130e44c509f7b2788de994d7f",
        "deepnote_cell_height": 117.94999694824219,
        "deepnote_cell_type": "markdown",
        "tags": [],
        "id": "InGUWAFurJyu"
      },
      "source": [
        "6. Aplique la ecuación definida mas abajo a cada uno de los valores del arreglo `array_a` [0.1 puntos]:\n",
        "\n",
        "- $$ sigmoide(x) = \\dfrac{1}{1 + e^{-x}} $$\n"
      ]
    },
    {
      "cell_type": "code",
      "execution_count": null,
      "metadata": {
        "cell_id": "ad9f48adfcc34c99a465b94dbac25ae9",
        "deepnote_cell_height": 189.53334045410156,
        "deepnote_cell_type": "code",
        "deepnote_to_be_reexecuted": false,
        "execution_millis": 6,
        "execution_start": 1657161072155,
        "source_hash": "57e563d6",
        "tags": [],
        "id": "Kn03iMRPrJyu",
        "outputId": "f0a6cb48-423b-4893-8c61-17c0a5da1ea7",
        "colab": {
          "base_uri": "https://localhost:8080/"
        }
      },
      "outputs": [
        {
          "output_type": "execute_result",
          "data": {
            "text/plain": [
              "array([[0.99330715, 0.9999546 , 0.99987661],\n",
              "       [0.88079708, 0.99908895, 0.99966465],\n",
              "       [0.99752738, 0.95257413, 0.73105858],\n",
              "       [0.99908895, 0.99908895, 0.99987661],\n",
              "       [0.5       , 0.99966465, 0.98201379]])"
            ]
          },
          "metadata": {},
          "execution_count": 4
        }
      ],
      "source": [
        "sigmoid =1/(1+np.exp(-array_a))\n",
        "sigmoid"
      ]
    },
    {
      "cell_type": "markdown",
      "metadata": {
        "cell_id": "1fd16e043d8b4f7faf8d63269042fd0e",
        "deepnote_cell_height": 68.53334045410156,
        "deepnote_cell_type": "markdown",
        "tags": [],
        "id": "0UQGATr5rJyu"
      },
      "source": [
        "7. Encuentre los valores máximo y el mínimo del arreglo `array_a`"
      ]
    },
    {
      "cell_type": "code",
      "execution_count": null,
      "metadata": {
        "cell_id": "bb7b7b37282749bd8194c4f0f3592d4f",
        "deepnote_cell_height": 116.69999694824219,
        "deepnote_cell_type": "code",
        "deepnote_output_heights": [
          21
        ],
        "deepnote_to_be_reexecuted": false,
        "execution_millis": 12,
        "execution_start": 1657162352231,
        "source_hash": "ec84bae8",
        "tags": [],
        "id": "iBdSfdPgrJyu",
        "outputId": "16c2d823-26e4-4b97-f00d-f7c02ccddcb2",
        "colab": {
          "base_uri": "https://localhost:8080/"
        }
      },
      "outputs": [
        {
          "output_type": "execute_result",
          "data": {
            "text/plain": [
              "(10, 0)"
            ]
          },
          "metadata": {},
          "execution_count": 5
        }
      ],
      "source": [
        "maximo=np.max(array_a)\n",
        "minimo=np.min(array_a)\n",
        "maximo,minimo"
      ]
    },
    {
      "cell_type": "markdown",
      "metadata": {
        "cell_id": "ad18ba9cba6344cdb7ba04dc234565d5",
        "deepnote_cell_height": 69.13333129882812,
        "deepnote_cell_type": "markdown",
        "tags": [],
        "id": "HiRBG3WtrJyv"
      },
      "source": [
        "## Problema 3: Indexadores"
      ]
    },
    {
      "cell_type": "markdown",
      "metadata": {
        "cell_id": "d425ff4fc55b43439234db5a15643724",
        "deepnote_cell_height": 68.53334045410156,
        "deepnote_cell_type": "markdown",
        "tags": [],
        "id": "1Q4uceqirJyv"
      },
      "source": [
        "1. Obtenga la segunda fila del arreglo `array_a`"
      ]
    },
    {
      "cell_type": "code",
      "execution_count": null,
      "metadata": {
        "cell_id": "53df6ae2049745d5b3b1edae51e618b6",
        "deepnote_cell_height": 116.69999694824219,
        "deepnote_cell_type": "code",
        "deepnote_output_heights": [
          21
        ],
        "deepnote_to_be_reexecuted": false,
        "execution_millis": 10,
        "execution_start": 1657160890929,
        "source_hash": "ddd7951b",
        "tags": [],
        "id": "QorP3KwprJyv",
        "outputId": "0e0e3f85-12f6-44ce-9429-76bd994a05c0",
        "colab": {
          "base_uri": "https://localhost:8080/"
        }
      },
      "outputs": [
        {
          "output_type": "execute_result",
          "data": {
            "text/plain": [
              "array([2, 7, 8])"
            ]
          },
          "metadata": {},
          "execution_count": 71
        }
      ],
      "source": [
        "array_a[1]"
      ]
    },
    {
      "cell_type": "markdown",
      "metadata": {
        "cell_id": "97f36f7cecf044c88d885310b38aec40",
        "deepnote_cell_height": 68.53334045410156,
        "deepnote_cell_type": "markdown",
        "tags": [],
        "id": "ZgEpGLB8rJyv"
      },
      "source": [
        "2. Obtenga las filas 1, 2 y 3 del arreglo `array_a`"
      ]
    },
    {
      "cell_type": "code",
      "execution_count": null,
      "metadata": {
        "cell_id": "48ca15d3759f413d9aceec1c49bf76de",
        "deepnote_cell_height": 155.6999969482422,
        "deepnote_cell_type": "code",
        "deepnote_output_heights": [
          60
        ],
        "deepnote_to_be_reexecuted": false,
        "execution_millis": 2,
        "execution_start": 1657160934658,
        "source_hash": "91e69cad",
        "tags": [],
        "id": "6h7-ElcyrJyw",
        "outputId": "3f2488dd-47a0-4f1c-d73d-10b60b8b4ced",
        "colab": {
          "base_uri": "https://localhost:8080/"
        }
      },
      "outputs": [
        {
          "output_type": "execute_result",
          "data": {
            "text/plain": [
              "array([[ 5, 10,  9],\n",
              "       [ 2,  7,  8],\n",
              "       [ 6,  3,  1]])"
            ]
          },
          "metadata": {},
          "execution_count": 73
        }
      ],
      "source": [
        "array_a[0:3]"
      ]
    },
    {
      "cell_type": "markdown",
      "metadata": {
        "cell_id": "413dcefbf19f42989c5e69a217b9d03b",
        "deepnote_cell_height": 68.53334045410156,
        "deepnote_cell_type": "markdown",
        "tags": [],
        "id": "EWrv51PxrJyw"
      },
      "source": [
        "3. Obtenga todas las filas a partir de la fila 3 (incluyendola)."
      ]
    },
    {
      "cell_type": "code",
      "source": [
        "array_a[2:]"
      ],
      "metadata": {
        "colab": {
          "base_uri": "https://localhost:8080/"
        },
        "id": "k6oAPA4AEQqC",
        "outputId": "e9885859-ce1b-4580-e294-be8c37c9e161"
      },
      "execution_count": null,
      "outputs": [
        {
          "output_type": "execute_result",
          "data": {
            "text/plain": [
              "array([[6, 3, 1],\n",
              "       [7, 7, 9],\n",
              "       [0, 8, 4]])"
            ]
          },
          "metadata": {},
          "execution_count": 80
        }
      ]
    },
    {
      "cell_type": "markdown",
      "metadata": {
        "cell_id": "584997a7ebc24b43941992d6da76129f",
        "deepnote_cell_height": 68.53334045410156,
        "deepnote_cell_type": "markdown",
        "tags": [],
        "id": "izc198wErJyx"
      },
      "source": [
        "4. Obtenga las filas 2 y 4"
      ]
    },
    {
      "cell_type": "code",
      "execution_count": null,
      "metadata": {
        "cell_id": "4e6d7d684c2b4771b67dfcb1a6f5c9b2",
        "deepnote_cell_height": 135.6999969482422,
        "deepnote_cell_type": "code",
        "deepnote_output_heights": [
          40
        ],
        "deepnote_to_be_reexecuted": false,
        "execution_millis": 4,
        "execution_start": 1657161281470,
        "source_hash": "c6d154b6",
        "tags": [],
        "id": "ffPF-KMCrJyx",
        "outputId": "2563146d-11e3-48fd-e89f-69ca9ea37f84",
        "colab": {
          "base_uri": "https://localhost:8080/"
        }
      },
      "outputs": [
        {
          "output_type": "execute_result",
          "data": {
            "text/plain": [
              "array([[2, 7, 8],\n",
              "       [7, 7, 9]])"
            ]
          },
          "metadata": {},
          "execution_count": 81
        }
      ],
      "source": [
        "array_a[[1,3]]"
      ]
    },
    {
      "cell_type": "markdown",
      "metadata": {
        "cell_id": "9d2966b3f3d94fb59a624e7c6bbd4e8e",
        "deepnote_cell_height": 68.53334045410156,
        "deepnote_cell_type": "markdown",
        "tags": [],
        "id": "EwYC4annrJyx"
      },
      "source": [
        "5. Repita el ejercicio anterior, pero ahora usando valores booleanos (`True`, `False`)"
      ]
    },
    {
      "cell_type": "code",
      "execution_count": null,
      "metadata": {
        "cell_id": "827aef65ffbe4db0aec90a37dadf7440",
        "deepnote_cell_height": 135.6999969482422,
        "deepnote_cell_type": "code",
        "deepnote_output_heights": [
          40
        ],
        "deepnote_to_be_reexecuted": false,
        "execution_millis": 7,
        "execution_start": 1657161241118,
        "source_hash": "8e1d9113",
        "tags": [],
        "id": "PDpgphaRrJyx",
        "outputId": "fd7ff7e2-2281-4c39-9164-d7f62dc0c226",
        "colab": {
          "base_uri": "https://localhost:8080/"
        }
      },
      "outputs": [
        {
          "output_type": "execute_result",
          "data": {
            "text/plain": [
              "array([[2, 7, 8],\n",
              "       [7, 7, 9]])"
            ]
          },
          "metadata": {},
          "execution_count": 84
        }
      ],
      "source": [
        "array_a[[False, True, False, True, False]]"
      ]
    },
    {
      "cell_type": "markdown",
      "metadata": {
        "cell_id": "7f1b1e85386647fbac38cf6e91d615cd",
        "deepnote_cell_height": 68.53334045410156,
        "deepnote_cell_type": "markdown",
        "tags": [],
        "id": "5eF_AmAjrJyy"
      },
      "source": [
        "6. Obtenga todos los valores de la segunda columna"
      ]
    },
    {
      "cell_type": "code",
      "execution_count": null,
      "metadata": {
        "cell_id": "32f7a0abeaa24792aa12f6659f63f36a",
        "deepnote_cell_height": 116.69999694824219,
        "deepnote_cell_type": "code",
        "deepnote_output_heights": [
          21
        ],
        "deepnote_to_be_reexecuted": false,
        "execution_millis": 7,
        "execution_start": 1657161123596,
        "source_hash": "ca23565b",
        "tags": [],
        "id": "4SDx2mXTrJyy",
        "outputId": "30f37b9d-a125-45a9-d78b-71ed4d71051b",
        "colab": {
          "base_uri": "https://localhost:8080/"
        }
      },
      "outputs": [
        {
          "output_type": "execute_result",
          "data": {
            "text/plain": [
              "array([10,  7,  3,  7,  8])"
            ]
          },
          "metadata": {},
          "execution_count": 86
        }
      ],
      "source": [
        "array_a[:,1]"
      ]
    },
    {
      "cell_type": "markdown",
      "metadata": {
        "cell_id": "2b9affa6fe504bbc8b9116dc976073ac",
        "deepnote_cell_height": 68.53334045410156,
        "deepnote_cell_type": "markdown",
        "tags": [],
        "id": "EOWUlteKrJyz"
      },
      "source": [
        "7. Obtenga de la segunda y tercera fila, la primera y última columna. [0.2 puntos]"
      ]
    },
    {
      "cell_type": "code",
      "execution_count": null,
      "metadata": {
        "cell_id": "7f6e152d334645c3b0a05877ca26ba52",
        "deepnote_cell_height": 116.69999694824219,
        "deepnote_cell_type": "code",
        "deepnote_output_heights": [
          21
        ],
        "deepnote_to_be_reexecuted": false,
        "execution_millis": 4,
        "execution_start": 1657161400238,
        "source_hash": "9f12be05",
        "tags": [],
        "id": "5Gk-MPZMrJyz",
        "outputId": "61b5633b-07d1-45d1-8e85-be11bfc28ba0",
        "colab": {
          "base_uri": "https://localhost:8080/"
        }
      },
      "outputs": [
        {
          "output_type": "execute_result",
          "data": {
            "text/plain": [
              "array([[2, 8],\n",
              "       [6, 1]])"
            ]
          },
          "metadata": {},
          "execution_count": 89
        }
      ],
      "source": [
        "array_a[1:3,[0,2]]"
      ]
    },
    {
      "cell_type": "markdown",
      "metadata": {
        "cell_id": "9f5e2aef9957451b97122e836a418975",
        "deepnote_cell_height": 143.93333435058594,
        "deepnote_cell_type": "markdown",
        "tags": [],
        "id": "QxubsnFsrJyz"
      },
      "source": [
        "## Problema 4: Consultas\n",
        "\n",
        "En esta sección le solicitamos seleccionar ciertos datos el arreglo original `array_a` a través de consultas.\n",
        "\n",
        "Es muy recomendable que antes de seleccionar los datos, impriman el arreglo que contiene los valores booleanos con los cuales seleccionarán los datos."
      ]
    },
    {
      "cell_type": "markdown",
      "metadata": {
        "cell_id": "66d8df9ca80247a1843bb201077cf3f0",
        "deepnote_cell_height": 68.53334045410156,
        "deepnote_cell_type": "markdown",
        "tags": [],
        "id": "Dgpb3MOnrJy0"
      },
      "source": [
        "1. Obtenga todos los valores iguales a 7 en el `array_a`."
      ]
    },
    {
      "cell_type": "code",
      "source": [
        "array_a == 7"
      ],
      "metadata": {
        "colab": {
          "base_uri": "https://localhost:8080/"
        },
        "id": "37Qhc028hqim",
        "outputId": "06ab4357-2b65-4ec9-98a3-84d8d1509bd6"
      },
      "execution_count": null,
      "outputs": [
        {
          "output_type": "execute_result",
          "data": {
            "text/plain": [
              "array([[False, False, False],\n",
              "       [False,  True, False],\n",
              "       [False, False, False],\n",
              "       [ True,  True, False],\n",
              "       [False, False, False]])"
            ]
          },
          "metadata": {},
          "execution_count": 115
        }
      ]
    },
    {
      "cell_type": "code",
      "execution_count": null,
      "metadata": {
        "cell_id": "3ade99420faa4c80b952864366e7581b",
        "deepnote_cell_height": 116.69999694824219,
        "deepnote_cell_type": "code",
        "deepnote_output_heights": [
          21
        ],
        "deepnote_to_be_reexecuted": false,
        "execution_millis": 2,
        "execution_start": 1657161711138,
        "source_hash": "3a1e2869",
        "tags": [],
        "id": "H5OxHhNCrJy0",
        "outputId": "4a3ca2df-8bd5-411a-cf08-153c71d6f201",
        "colab": {
          "base_uri": "https://localhost:8080/"
        }
      },
      "outputs": [
        {
          "output_type": "execute_result",
          "data": {
            "text/plain": [
              "array([7, 7, 7])"
            ]
          },
          "metadata": {},
          "execution_count": 94
        }
      ],
      "source": [
        "array_a[array_a == 7]"
      ]
    },
    {
      "cell_type": "markdown",
      "metadata": {
        "cell_id": "6001c33d62ab43538c63d44aad7b3cb0",
        "deepnote_cell_height": 68.53334045410156,
        "deepnote_cell_type": "markdown",
        "tags": [],
        "id": "_hNoQAr8rJy1"
      },
      "source": [
        "2. Obtenga todos los valores mayores a 7"
      ]
    },
    {
      "cell_type": "code",
      "source": [
        "array_a > 7"
      ],
      "metadata": {
        "colab": {
          "base_uri": "https://localhost:8080/"
        },
        "id": "kJ2cv3kphxBH",
        "outputId": "319519c1-7de8-4129-c36b-13d48cc12075"
      },
      "execution_count": null,
      "outputs": [
        {
          "output_type": "execute_result",
          "data": {
            "text/plain": [
              "array([[False,  True,  True],\n",
              "       [False, False,  True],\n",
              "       [False, False, False],\n",
              "       [False, False,  True],\n",
              "       [False,  True, False]])"
            ]
          },
          "metadata": {},
          "execution_count": 116
        }
      ]
    },
    {
      "cell_type": "code",
      "execution_count": null,
      "metadata": {
        "cell_id": "d201f907e7bf45b58c3ce9dde816580d",
        "deepnote_cell_height": 116.69999694824219,
        "deepnote_cell_type": "code",
        "deepnote_output_heights": [
          21
        ],
        "deepnote_to_be_reexecuted": false,
        "execution_millis": 4,
        "execution_start": 1657161884798,
        "source_hash": "70462108",
        "tags": [],
        "id": "qGbLW0q1rJy2",
        "outputId": "6f5f2432-2afe-4f6f-d093-7fcedafd04a5",
        "colab": {
          "base_uri": "https://localhost:8080/"
        }
      },
      "outputs": [
        {
          "output_type": "execute_result",
          "data": {
            "text/plain": [
              "array([10,  9,  8,  9,  8])"
            ]
          },
          "metadata": {},
          "execution_count": 117
        }
      ],
      "source": [
        "array_a[array_a > 7]"
      ]
    },
    {
      "cell_type": "markdown",
      "metadata": {
        "cell_id": "f72e328547f64e1dad6b4d863bd71944",
        "deepnote_cell_height": 68.53334045410156,
        "deepnote_cell_type": "markdown",
        "tags": [],
        "id": "nQpKH_3qrJy2"
      },
      "source": [
        "3. Obtenga todos los números impares"
      ]
    },
    {
      "cell_type": "code",
      "source": [
        "array_a % 2==1"
      ],
      "metadata": {
        "colab": {
          "base_uri": "https://localhost:8080/"
        },
        "id": "kaDzZ8WUh05D",
        "outputId": "c5ddf70e-483d-4472-cb7e-512cf53175ee"
      },
      "execution_count": null,
      "outputs": [
        {
          "output_type": "execute_result",
          "data": {
            "text/plain": [
              "array([[ True, False,  True],\n",
              "       [False,  True, False],\n",
              "       [False,  True,  True],\n",
              "       [ True,  True,  True],\n",
              "       [False, False, False]])"
            ]
          },
          "metadata": {},
          "execution_count": 118
        }
      ]
    },
    {
      "cell_type": "code",
      "execution_count": null,
      "metadata": {
        "cell_id": "cbe869e4c7744dfe8150446df677027f",
        "deepnote_cell_height": 116.69999694824219,
        "deepnote_cell_type": "code",
        "deepnote_output_heights": [
          21
        ],
        "deepnote_to_be_reexecuted": false,
        "execution_millis": 532,
        "execution_start": 1657161882855,
        "source_hash": "2e83e57f",
        "tags": [],
        "id": "Tit0MTTTrJy3",
        "outputId": "c89e794a-47ab-4b4b-d421-41e5522924e7",
        "colab": {
          "base_uri": "https://localhost:8080/"
        }
      },
      "outputs": [
        {
          "output_type": "execute_result",
          "data": {
            "text/plain": [
              "array([5, 9, 7, 3, 1, 7, 7, 9])"
            ]
          },
          "metadata": {},
          "execution_count": 97
        }
      ],
      "source": [
        "array_a[array_a % 2==1]"
      ]
    },
    {
      "cell_type": "markdown",
      "metadata": {
        "cell_id": "0709a9b19c764f35ac187415e3e7689b",
        "deepnote_cell_height": 68.53334045410156,
        "deepnote_cell_type": "markdown",
        "tags": [],
        "id": "3gC56IXfrJy3"
      },
      "source": [
        "4. Obtenga todos los valores abarcados entre 6 y 8 incluyendo ambos."
      ]
    },
    {
      "cell_type": "code",
      "execution_count": null,
      "metadata": {
        "cell_id": "9f959daba4d646c4b206f348ec27b799",
        "deepnote_cell_height": 116.69999694824219,
        "deepnote_cell_type": "code",
        "deepnote_output_heights": [
          21
        ],
        "deepnote_to_be_reexecuted": false,
        "execution_millis": 2,
        "execution_start": 1657161956510,
        "source_hash": "f40a3ad4",
        "tags": [],
        "id": "Cx-RIXIrrJy4",
        "outputId": "72b302a3-93d5-4414-e9bd-26951ba035f6",
        "colab": {
          "base_uri": "https://localhost:8080/"
        }
      },
      "outputs": [
        {
          "output_type": "execute_result",
          "data": {
            "text/plain": [
              "array([7, 8, 6, 7, 7, 8])"
            ]
          },
          "metadata": {},
          "execution_count": 112
        }
      ],
      "source": [
        "condition_1 = array_a >= 6\n",
        "condition_2 = array_a <= 8\n",
        "array_a[np.logical_and(condition_1,condition_2)]"
      ]
    },
    {
      "cell_type": "markdown",
      "metadata": {
        "cell_id": "cc525d757c1f43bab2e5c5e4c68204d8",
        "deepnote_cell_height": 68.53334045410156,
        "deepnote_cell_type": "markdown",
        "tags": [],
        "id": "e1wq8-P1rJy4"
      },
      "source": [
        "5. Fije el valor 0 para todos los valores superiores a 5 en el `array_a`."
      ]
    },
    {
      "cell_type": "code",
      "source": [
        "array_a*(array_a<=5)"
      ],
      "metadata": {
        "colab": {
          "base_uri": "https://localhost:8080/"
        },
        "id": "W5Ky_LibgoOp",
        "outputId": "88b31b04-be8d-4eb2-b301-dd4c2e1a01a8"
      },
      "execution_count": null,
      "outputs": [
        {
          "output_type": "execute_result",
          "data": {
            "text/plain": [
              "array([[5, 0, 0],\n",
              "       [2, 0, 0],\n",
              "       [0, 3, 1],\n",
              "       [0, 0, 0],\n",
              "       [0, 0, 4]])"
            ]
          },
          "metadata": {},
          "execution_count": 130
        }
      ]
    },
    {
      "cell_type": "markdown",
      "metadata": {
        "cell_id": "14fdfdfe3e484f7b813c03a0337090e6",
        "deepnote_cell_height": 143.93333435058594,
        "deepnote_cell_type": "markdown",
        "tags": [],
        "id": "qRnf6GIZrJy5"
      },
      "source": [
        "## Problema 5: Operaciones sobre las dimensiones (Propuesto)\n",
        "\n",
        "En este item se le solicita ejecutar acciones sobre las distintas dimensiones que componen el arreglo.\n",
        "\n",
        "Recordatorio: utilizar el parámetro `axis` para indicar la dimensión en donde se desea ejecutar la acción."
      ]
    },
    {
      "cell_type": "markdown",
      "metadata": {
        "cell_id": "361a91438cb64e8ebc2c269117ff2180",
        "deepnote_cell_height": 68.53334045410156,
        "deepnote_cell_type": "markdown",
        "tags": [],
        "id": "RLvBf9ERrJy5"
      },
      "source": [
        "1. Sume todos los valores de las filas."
      ]
    },
    {
      "cell_type": "code",
      "execution_count": null,
      "metadata": {
        "cell_id": "65d0791590914c6282d1787136fde63c",
        "deepnote_cell_height": 116.69999694824219,
        "deepnote_cell_type": "code",
        "deepnote_output_heights": [
          21
        ],
        "deepnote_to_be_reexecuted": false,
        "execution_millis": 621,
        "execution_start": 1657162235546,
        "source_hash": "6cf457b0",
        "tags": [],
        "id": "FZneaLN3rJy5",
        "outputId": "df3f3486-d79b-43bf-b64f-82a25b3622ac",
        "colab": {
          "base_uri": "https://localhost:8080/"
        }
      },
      "outputs": [
        {
          "output_type": "execute_result",
          "data": {
            "text/plain": [
              "array([24, 17, 10, 23, 12])"
            ]
          },
          "metadata": {},
          "execution_count": 9
        }
      ],
      "source": [
        "array_a.sum(axis=1)"
      ]
    },
    {
      "cell_type": "markdown",
      "metadata": {
        "cell_id": "4458a9979c9142929f51330ed107ecec",
        "deepnote_cell_height": 68.53334045410156,
        "deepnote_cell_type": "markdown",
        "tags": [],
        "id": "z1jFSwGtrJy6"
      },
      "source": [
        "2. Sume todos los valores de las columnas."
      ]
    },
    {
      "cell_type": "code",
      "execution_count": null,
      "metadata": {
        "cell_id": "c659315fda364960b55e196fe9384521",
        "deepnote_cell_height": 116.69999694824219,
        "deepnote_cell_type": "code",
        "deepnote_output_heights": [
          21
        ],
        "deepnote_to_be_reexecuted": false,
        "execution_millis": 37,
        "execution_start": 1657162261392,
        "source_hash": "acb87537",
        "tags": [],
        "id": "8YSv3dEKrJy6",
        "outputId": "e672f451-c15b-42b2-c05e-1c0fc97f199f",
        "colab": {
          "base_uri": "https://localhost:8080/"
        }
      },
      "outputs": [
        {
          "output_type": "execute_result",
          "data": {
            "text/plain": [
              "array([20, 35, 31])"
            ]
          },
          "metadata": {},
          "execution_count": 10
        }
      ],
      "source": [
        "array_a.sum(axis=0)"
      ]
    },
    {
      "cell_type": "markdown",
      "metadata": {
        "cell_id": "115a794e889a407ba1ba75b932e40a0e",
        "deepnote_cell_height": 68.53334045410156,
        "deepnote_cell_type": "markdown",
        "tags": [],
        "id": "GkLVgNs5rJy6"
      },
      "source": [
        "3. Encuentre el máximo de cada columna"
      ]
    },
    {
      "cell_type": "code",
      "execution_count": null,
      "metadata": {
        "cell_id": "77a80416292c4547b6bf8ea31a0935c5",
        "deepnote_cell_height": 116.69999694824219,
        "deepnote_cell_type": "code",
        "deepnote_output_heights": [
          21
        ],
        "deepnote_to_be_reexecuted": false,
        "execution_millis": 5,
        "execution_start": 1657162372341,
        "source_hash": "634d9261",
        "tags": [],
        "id": "mMq6oRBrrJy7",
        "outputId": "978e983d-6742-4fa6-c7d4-46082347b699",
        "colab": {
          "base_uri": "https://localhost:8080/"
        }
      },
      "outputs": [
        {
          "output_type": "execute_result",
          "data": {
            "text/plain": [
              "array([ 7, 10,  9])"
            ]
          },
          "metadata": {},
          "execution_count": 138
        }
      ],
      "source": [
        "array_a.max(axis=0)"
      ]
    },
    {
      "cell_type": "markdown",
      "metadata": {
        "cell_id": "85d2307f344d4a70a04185e1fc2b2335",
        "deepnote_cell_height": 68.53334045410156,
        "deepnote_cell_type": "markdown",
        "tags": [],
        "id": "kUK5i1VSrJy7"
      },
      "source": [
        "4. Encuentre el mínimo de cada fila"
      ]
    },
    {
      "cell_type": "code",
      "execution_count": null,
      "metadata": {
        "cell_id": "e6c635d19c354f319979acd8099d2b2f",
        "deepnote_cell_height": 116.69999694824219,
        "deepnote_cell_type": "code",
        "deepnote_output_heights": [
          21
        ],
        "deepnote_to_be_reexecuted": false,
        "execution_millis": 4,
        "execution_start": 1657162400451,
        "source_hash": "6491de03",
        "tags": [],
        "id": "-iDMu8-IrJy7",
        "outputId": "ca44f6ba-9588-4f8b-e07c-a21197ba51c5",
        "colab": {
          "base_uri": "https://localhost:8080/"
        }
      },
      "outputs": [
        {
          "output_type": "execute_result",
          "data": {
            "text/plain": [
              "array([5, 2, 1, 7, 0])"
            ]
          },
          "metadata": {},
          "execution_count": 140
        }
      ],
      "source": [
        "array_a.min(axis=1)"
      ]
    },
    {
      "cell_type": "markdown",
      "metadata": {
        "created_in_deepnote_cell": true,
        "deepnote_cell_type": "markdown",
        "tags": [],
        "id": "fPa2y1EErJy8"
      },
      "source": [
        "<a style='text-decoration:none;line-height:16px;display:flex;color:#5B5B62;padding:10px;justify-content:end;' href='https://deepnote.com?utm_source=created-in-deepnote-cell&projectId=87110296-876e-426f-b91d-aaf681223468' target=\"_blank\">\n",
        "<img alt='Created in deepnote.com' style='display:inline;max-height:16px;margin:0px;margin-right:7.5px;' src='data:image/svg+xml;base64,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' > </img>\n",
        "Created in <span style='font-weight:600;margin-left:4px;'>Deepnote</span></a>"
      ]
    }
  ],
  "metadata": {
    "deepnote": {},
    "deepnote_execution_queue": [],
    "deepnote_notebook_id": "53e9eb80718b4812b48862ba836cd27e",
    "language_info": {
      "name": "python"
    },
    "orig_nbformat": 2,
    "colab": {
      "provenance": []
    },
    "kernelspec": {
      "name": "python3",
      "display_name": "Python 3"
    }
  },
  "nbformat": 4,
  "nbformat_minor": 0
}