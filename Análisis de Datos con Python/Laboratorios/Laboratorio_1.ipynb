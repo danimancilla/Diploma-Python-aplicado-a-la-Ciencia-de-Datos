{
  "cells": [
    {
      "cell_type": "markdown",
      "metadata": {
        "id": "p_XcuC2rXQWb",
        "pycharm": {}
      },
      "source": [
        "# Laboratorio 1: Clasificación\n",
        "\n"
      ]
    },
    {
      "cell_type": "markdown",
      "metadata": {
        "id": "SMUzxXj7XQWi",
        "pycharm": {}
      },
      "source": [
        "## Instrucciones\n",
        "\n",
        "- Haz una copia de este notebook en `File -> Save a copy in Drive`.\n",
        "- Al final de la sesión, descarga el notebook `File -> Download -> Download .ipynb` y súbelo en la sección Tareas de U-Cursos que se abrirá para esta sesión.\n"
      ]
    },
    {
      "cell_type": "markdown",
      "metadata": {
        "id": "-qwxA7rowsaf"
      },
      "source": [
        "## Preguntas teóricas"
      ]
    },
    {
      "cell_type": "markdown",
      "metadata": {
        "id": "OLjWbFhxwsaf"
      },
      "source": [
        "### Pregunta 1\n",
        "\n",
        "1. Un consultor en datos tiene la siguiente estrategia al momento de enfrentar un problema de clasificación: probar todos los modelos posibles hasta encontrar el que tenga mayor accuracy. Comente la estrategia del consultor, exponga los posibles problemas de esta evaluación y proponga una estrategia alternativa para evaluar el desempeño de los modelos.\n",
        "\n",
        "**Respuesta:**\n",
        "\n",
        "La estrategia del consultor no es necesariamente adecuada, pues **accuracy** no es la única métrica que existe para evaluar el desempeño de un modelo. En particular, podría ser problemático si la clase está desbalanceada.\n",
        "\n",
        "\n",
        "Una estrategia alternativa consistiría en determinar qué es lo más importante que debe predecir el modelo, y cuáles son los costos de los errores que se pudieran cometer, y en base a ello escoger otra métrica para evaluar el desempeño.\n",
        "\n",
        "Por ejemplo, **precision** es una buena medida cuando el costo de los falsos positivos es alta, mientras que **recall** es una buena medida cuando el costo de los falsos negativos es alta.\n"
      ]
    },
    {
      "cell_type": "markdown",
      "metadata": {
        "id": "tuH8cg6Nwsaf"
      },
      "source": [
        "### Pregunta 2\n",
        "\n",
        "Verdadero o Falso (si la afirmación es falsa justifique):\n",
        "\n",
        "1. Si se quieren predecir las clases en un dataset que está desbalanceado es SIEMPRE útil aplicar técnicas de subsampling u oversampling sobre todo el conjunto de datos.\n",
        "\n",
        "**Respuesta:**\n",
        "\n",
        "Falso. No siempre es útil aplicar esas técnicas, lo ideal es comparar los distintos métodos utilizados. Además, las ténicas de subsampling y oversampling sólo se deben aplicar sobre el conjunto de datos de entrenamiento, no sobre los de evaluación.\n",
        "\n",
        "\n",
        "\n",
        "2. La clasificación es un método de aprendizaje supervisado que se caracteriza por no necesitar datos etiquetados.\n",
        "\n",
        "**Respuesta:**\n",
        "\n",
        "Falso. Si bien es un método de aprendizaje supervisado, sí necesita tener datos etiquetados.\n"
      ]
    },
    {
      "cell_type": "markdown",
      "metadata": {
        "id": "pROuyoGOwsaf"
      },
      "source": [
        "## Preguntas prácticas\n",
        "\n",
        "Usaremos un dataset de enfermedades cardíacas el cual describe, a través de la clase `target`, si está o no presente este tipo de complicaciones. Cada fila a su vez esta definida por una serie de atributos que podrían estar relacionado a la ocurrencia de la clase. En mayor detalle puede acceder al link de Kaggle tal como se presenta a continuación:\n",
        "\n",
        "https://www.kaggle.com/datasets/johnsmith88/heart-disease-dataset\n",
        "\n",
        "El dataset que usaremos está en u-cursos y debe ser cargado con las siguientes líneas de código."
      ]
    },
    {
      "cell_type": "code",
      "execution_count": 1,
      "metadata": {
        "colab": {
          "base_uri": "https://localhost:8080/",
          "height": 73
        },
        "id": "FwrEtK8v_-Tr",
        "outputId": "9b23dea9-315c-44ad-f1d1-a2c3e1550bc4"
      },
      "outputs": [
        {
          "data": {
            "text/html": [
              "\n",
              "     <input type=\"file\" id=\"files-d0f48f1e-8ce8-4da2-8d14-45b7fbe18989\" name=\"files[]\" multiple disabled\n",
              "        style=\"border:none\" />\n",
              "     <output id=\"result-d0f48f1e-8ce8-4da2-8d14-45b7fbe18989\">\n",
              "      Upload widget is only available when the cell has been executed in the\n",
              "      current browser session. Please rerun this cell to enable.\n",
              "      </output>\n",
              "      <script>// Copyright 2017 Google LLC\n",
              "//\n",
              "// Licensed under the Apache License, Version 2.0 (the \"License\");\n",
              "// you may not use this file except in compliance with the License.\n",
              "// You may obtain a copy of the License at\n",
              "//\n",
              "//      http://www.apache.org/licenses/LICENSE-2.0\n",
              "//\n",
              "// Unless required by applicable law or agreed to in writing, software\n",
              "// distributed under the License is distributed on an \"AS IS\" BASIS,\n",
              "// WITHOUT WARRANTIES OR CONDITIONS OF ANY KIND, either express or implied.\n",
              "// See the License for the specific language governing permissions and\n",
              "// limitations under the License.\n",
              "\n",
              "/**\n",
              " * @fileoverview Helpers for google.colab Python module.\n",
              " */\n",
              "(function(scope) {\n",
              "function span(text, styleAttributes = {}) {\n",
              "  const element = document.createElement('span');\n",
              "  element.textContent = text;\n",
              "  for (const key of Object.keys(styleAttributes)) {\n",
              "    element.style[key] = styleAttributes[key];\n",
              "  }\n",
              "  return element;\n",
              "}\n",
              "\n",
              "// Max number of bytes which will be uploaded at a time.\n",
              "const MAX_PAYLOAD_SIZE = 100 * 1024;\n",
              "\n",
              "function _uploadFiles(inputId, outputId) {\n",
              "  const steps = uploadFilesStep(inputId, outputId);\n",
              "  const outputElement = document.getElementById(outputId);\n",
              "  // Cache steps on the outputElement to make it available for the next call\n",
              "  // to uploadFilesContinue from Python.\n",
              "  outputElement.steps = steps;\n",
              "\n",
              "  return _uploadFilesContinue(outputId);\n",
              "}\n",
              "\n",
              "// This is roughly an async generator (not supported in the browser yet),\n",
              "// where there are multiple asynchronous steps and the Python side is going\n",
              "// to poll for completion of each step.\n",
              "// This uses a Promise to block the python side on completion of each step,\n",
              "// then passes the result of the previous step as the input to the next step.\n",
              "function _uploadFilesContinue(outputId) {\n",
              "  const outputElement = document.getElementById(outputId);\n",
              "  const steps = outputElement.steps;\n",
              "\n",
              "  const next = steps.next(outputElement.lastPromiseValue);\n",
              "  return Promise.resolve(next.value.promise).then((value) => {\n",
              "    // Cache the last promise value to make it available to the next\n",
              "    // step of the generator.\n",
              "    outputElement.lastPromiseValue = value;\n",
              "    return next.value.response;\n",
              "  });\n",
              "}\n",
              "\n",
              "/**\n",
              " * Generator function which is called between each async step of the upload\n",
              " * process.\n",
              " * @param {string} inputId Element ID of the input file picker element.\n",
              " * @param {string} outputId Element ID of the output display.\n",
              " * @return {!Iterable<!Object>} Iterable of next steps.\n",
              " */\n",
              "function* uploadFilesStep(inputId, outputId) {\n",
              "  const inputElement = document.getElementById(inputId);\n",
              "  inputElement.disabled = false;\n",
              "\n",
              "  const outputElement = document.getElementById(outputId);\n",
              "  outputElement.innerHTML = '';\n",
              "\n",
              "  const pickedPromise = new Promise((resolve) => {\n",
              "    inputElement.addEventListener('change', (e) => {\n",
              "      resolve(e.target.files);\n",
              "    });\n",
              "  });\n",
              "\n",
              "  const cancel = document.createElement('button');\n",
              "  inputElement.parentElement.appendChild(cancel);\n",
              "  cancel.textContent = 'Cancel upload';\n",
              "  const cancelPromise = new Promise((resolve) => {\n",
              "    cancel.onclick = () => {\n",
              "      resolve(null);\n",
              "    };\n",
              "  });\n",
              "\n",
              "  // Wait for the user to pick the files.\n",
              "  const files = yield {\n",
              "    promise: Promise.race([pickedPromise, cancelPromise]),\n",
              "    response: {\n",
              "      action: 'starting',\n",
              "    }\n",
              "  };\n",
              "\n",
              "  cancel.remove();\n",
              "\n",
              "  // Disable the input element since further picks are not allowed.\n",
              "  inputElement.disabled = true;\n",
              "\n",
              "  if (!files) {\n",
              "    return {\n",
              "      response: {\n",
              "        action: 'complete',\n",
              "      }\n",
              "    };\n",
              "  }\n",
              "\n",
              "  for (const file of files) {\n",
              "    const li = document.createElement('li');\n",
              "    li.append(span(file.name, {fontWeight: 'bold'}));\n",
              "    li.append(span(\n",
              "        `(${file.type || 'n/a'}) - ${file.size} bytes, ` +\n",
              "        `last modified: ${\n",
              "            file.lastModifiedDate ? file.lastModifiedDate.toLocaleDateString() :\n",
              "                                    'n/a'} - `));\n",
              "    const percent = span('0% done');\n",
              "    li.appendChild(percent);\n",
              "\n",
              "    outputElement.appendChild(li);\n",
              "\n",
              "    const fileDataPromise = new Promise((resolve) => {\n",
              "      const reader = new FileReader();\n",
              "      reader.onload = (e) => {\n",
              "        resolve(e.target.result);\n",
              "      };\n",
              "      reader.readAsArrayBuffer(file);\n",
              "    });\n",
              "    // Wait for the data to be ready.\n",
              "    let fileData = yield {\n",
              "      promise: fileDataPromise,\n",
              "      response: {\n",
              "        action: 'continue',\n",
              "      }\n",
              "    };\n",
              "\n",
              "    // Use a chunked sending to avoid message size limits. See b/62115660.\n",
              "    let position = 0;\n",
              "    do {\n",
              "      const length = Math.min(fileData.byteLength - position, MAX_PAYLOAD_SIZE);\n",
              "      const chunk = new Uint8Array(fileData, position, length);\n",
              "      position += length;\n",
              "\n",
              "      const base64 = btoa(String.fromCharCode.apply(null, chunk));\n",
              "      yield {\n",
              "        response: {\n",
              "          action: 'append',\n",
              "          file: file.name,\n",
              "          data: base64,\n",
              "        },\n",
              "      };\n",
              "\n",
              "      let percentDone = fileData.byteLength === 0 ?\n",
              "          100 :\n",
              "          Math.round((position / fileData.byteLength) * 100);\n",
              "      percent.textContent = `${percentDone}% done`;\n",
              "\n",
              "    } while (position < fileData.byteLength);\n",
              "  }\n",
              "\n",
              "  // All done.\n",
              "  yield {\n",
              "    response: {\n",
              "      action: 'complete',\n",
              "    }\n",
              "  };\n",
              "}\n",
              "\n",
              "scope.google = scope.google || {};\n",
              "scope.google.colab = scope.google.colab || {};\n",
              "scope.google.colab._files = {\n",
              "  _uploadFiles,\n",
              "  _uploadFilesContinue,\n",
              "};\n",
              "})(self);\n",
              "</script> "
            ],
            "text/plain": [
              "<IPython.core.display.HTML object>"
            ]
          },
          "metadata": {},
          "output_type": "display_data"
        },
        {
          "name": "stdout",
          "output_type": "stream",
          "text": [
            "Saving heart.csv to heart.csv\n"
          ]
        }
      ],
      "source": [
        "from google.colab import files\n",
        "uploaded = files.upload()"
      ]
    },
    {
      "cell_type": "code",
      "execution_count": 2,
      "metadata": {
        "id": "xJYmUcpWA9oS"
      },
      "outputs": [],
      "source": [
        "import io\n",
        "import pandas as pd\n",
        "import numpy as np\n",
        "df = pd.read_csv(io.BytesIO(uploaded['heart.csv']))\n"
      ]
    },
    {
      "cell_type": "code",
      "execution_count": 3,
      "metadata": {
        "colab": {
          "base_uri": "https://localhost:8080/",
          "height": 143
        },
        "id": "aqkN4DQfd9YI",
        "outputId": "031c41ff-6276-4a51-fe51-5c42e09dee6d"
      },
      "outputs": [
        {
          "data": {
            "text/html": [
              "\n",
              "  <div id=\"df-e2ed8531-20b0-4548-a33a-d2df24e90ee2\" class=\"colab-df-container\">\n",
              "    <div>\n",
              "<style scoped>\n",
              "    .dataframe tbody tr th:only-of-type {\n",
              "        vertical-align: middle;\n",
              "    }\n",
              "\n",
              "    .dataframe tbody tr th {\n",
              "        vertical-align: top;\n",
              "    }\n",
              "\n",
              "    .dataframe thead th {\n",
              "        text-align: right;\n",
              "    }\n",
              "</style>\n",
              "<table border=\"1\" class=\"dataframe\">\n",
              "  <thead>\n",
              "    <tr style=\"text-align: right;\">\n",
              "      <th></th>\n",
              "      <th>age</th>\n",
              "      <th>sex</th>\n",
              "      <th>cp</th>\n",
              "      <th>trestbps</th>\n",
              "      <th>chol</th>\n",
              "      <th>fbs</th>\n",
              "      <th>restecg</th>\n",
              "      <th>thalach</th>\n",
              "      <th>exang</th>\n",
              "      <th>oldpeak</th>\n",
              "      <th>slope</th>\n",
              "      <th>ca</th>\n",
              "      <th>thal</th>\n",
              "      <th>target</th>\n",
              "    </tr>\n",
              "  </thead>\n",
              "  <tbody>\n",
              "    <tr>\n",
              "      <th>0</th>\n",
              "      <td>52</td>\n",
              "      <td>1</td>\n",
              "      <td>0</td>\n",
              "      <td>125</td>\n",
              "      <td>212</td>\n",
              "      <td>0</td>\n",
              "      <td>1</td>\n",
              "      <td>168</td>\n",
              "      <td>0</td>\n",
              "      <td>1.0</td>\n",
              "      <td>2</td>\n",
              "      <td>2</td>\n",
              "      <td>3</td>\n",
              "      <td>0</td>\n",
              "    </tr>\n",
              "    <tr>\n",
              "      <th>1</th>\n",
              "      <td>53</td>\n",
              "      <td>1</td>\n",
              "      <td>0</td>\n",
              "      <td>140</td>\n",
              "      <td>203</td>\n",
              "      <td>1</td>\n",
              "      <td>0</td>\n",
              "      <td>155</td>\n",
              "      <td>1</td>\n",
              "      <td>3.1</td>\n",
              "      <td>0</td>\n",
              "      <td>0</td>\n",
              "      <td>3</td>\n",
              "      <td>0</td>\n",
              "    </tr>\n",
              "    <tr>\n",
              "      <th>2</th>\n",
              "      <td>70</td>\n",
              "      <td>1</td>\n",
              "      <td>0</td>\n",
              "      <td>145</td>\n",
              "      <td>174</td>\n",
              "      <td>0</td>\n",
              "      <td>1</td>\n",
              "      <td>125</td>\n",
              "      <td>1</td>\n",
              "      <td>2.6</td>\n",
              "      <td>0</td>\n",
              "      <td>0</td>\n",
              "      <td>3</td>\n",
              "      <td>0</td>\n",
              "    </tr>\n",
              "  </tbody>\n",
              "</table>\n",
              "</div>\n",
              "    <div class=\"colab-df-buttons\">\n",
              "\n",
              "  <div class=\"colab-df-container\">\n",
              "    <button class=\"colab-df-convert\" onclick=\"convertToInteractive('df-e2ed8531-20b0-4548-a33a-d2df24e90ee2')\"\n",
              "            title=\"Convert this dataframe to an interactive table.\"\n",
              "            style=\"display:none;\">\n",
              "\n",
              "  <svg xmlns=\"http://www.w3.org/2000/svg\" height=\"24px\" viewBox=\"0 -960 960 960\">\n",
              "    <path d=\"M120-120v-720h720v720H120Zm60-500h600v-160H180v160Zm220 220h160v-160H400v160Zm0 220h160v-160H400v160ZM180-400h160v-160H180v160Zm440 0h160v-160H620v160ZM180-180h160v-160H180v160Zm440 0h160v-160H620v160Z\"/>\n",
              "  </svg>\n",
              "    </button>\n",
              "\n",
              "  <style>\n",
              "    .colab-df-container {\n",
              "      display:flex;\n",
              "      gap: 12px;\n",
              "    }\n",
              "\n",
              "    .colab-df-convert {\n",
              "      background-color: #E8F0FE;\n",
              "      border: none;\n",
              "      border-radius: 50%;\n",
              "      cursor: pointer;\n",
              "      display: none;\n",
              "      fill: #1967D2;\n",
              "      height: 32px;\n",
              "      padding: 0 0 0 0;\n",
              "      width: 32px;\n",
              "    }\n",
              "\n",
              "    .colab-df-convert:hover {\n",
              "      background-color: #E2EBFA;\n",
              "      box-shadow: 0px 1px 2px rgba(60, 64, 67, 0.3), 0px 1px 3px 1px rgba(60, 64, 67, 0.15);\n",
              "      fill: #174EA6;\n",
              "    }\n",
              "\n",
              "    .colab-df-buttons div {\n",
              "      margin-bottom: 4px;\n",
              "    }\n",
              "\n",
              "    [theme=dark] .colab-df-convert {\n",
              "      background-color: #3B4455;\n",
              "      fill: #D2E3FC;\n",
              "    }\n",
              "\n",
              "    [theme=dark] .colab-df-convert:hover {\n",
              "      background-color: #434B5C;\n",
              "      box-shadow: 0px 1px 3px 1px rgba(0, 0, 0, 0.15);\n",
              "      filter: drop-shadow(0px 1px 2px rgba(0, 0, 0, 0.3));\n",
              "      fill: #FFFFFF;\n",
              "    }\n",
              "  </style>\n",
              "\n",
              "    <script>\n",
              "      const buttonEl =\n",
              "        document.querySelector('#df-e2ed8531-20b0-4548-a33a-d2df24e90ee2 button.colab-df-convert');\n",
              "      buttonEl.style.display =\n",
              "        google.colab.kernel.accessAllowed ? 'block' : 'none';\n",
              "\n",
              "      async function convertToInteractive(key) {\n",
              "        const element = document.querySelector('#df-e2ed8531-20b0-4548-a33a-d2df24e90ee2');\n",
              "        const dataTable =\n",
              "          await google.colab.kernel.invokeFunction('convertToInteractive',\n",
              "                                                    [key], {});\n",
              "        if (!dataTable) return;\n",
              "\n",
              "        const docLinkHtml = 'Like what you see? Visit the ' +\n",
              "          '<a target=\"_blank\" href=https://colab.research.google.com/notebooks/data_table.ipynb>data table notebook</a>'\n",
              "          + ' to learn more about interactive tables.';\n",
              "        element.innerHTML = '';\n",
              "        dataTable['output_type'] = 'display_data';\n",
              "        await google.colab.output.renderOutput(dataTable, element);\n",
              "        const docLink = document.createElement('div');\n",
              "        docLink.innerHTML = docLinkHtml;\n",
              "        element.appendChild(docLink);\n",
              "      }\n",
              "    </script>\n",
              "  </div>\n",
              "\n",
              "\n",
              "<div id=\"df-aad42421-bcae-41fe-833a-c27a63b68be0\">\n",
              "  <button class=\"colab-df-quickchart\" onclick=\"quickchart('df-aad42421-bcae-41fe-833a-c27a63b68be0')\"\n",
              "            title=\"Suggest charts\"\n",
              "            style=\"display:none;\">\n",
              "\n",
              "<svg xmlns=\"http://www.w3.org/2000/svg\" height=\"24px\"viewBox=\"0 0 24 24\"\n",
              "     width=\"24px\">\n",
              "    <g>\n",
              "        <path d=\"M19 3H5c-1.1 0-2 .9-2 2v14c0 1.1.9 2 2 2h14c1.1 0 2-.9 2-2V5c0-1.1-.9-2-2-2zM9 17H7v-7h2v7zm4 0h-2V7h2v10zm4 0h-2v-4h2v4z\"/>\n",
              "    </g>\n",
              "</svg>\n",
              "  </button>\n",
              "\n",
              "<style>\n",
              "  .colab-df-quickchart {\n",
              "      --bg-color: #E8F0FE;\n",
              "      --fill-color: #1967D2;\n",
              "      --hover-bg-color: #E2EBFA;\n",
              "      --hover-fill-color: #174EA6;\n",
              "      --disabled-fill-color: #AAA;\n",
              "      --disabled-bg-color: #DDD;\n",
              "  }\n",
              "\n",
              "  [theme=dark] .colab-df-quickchart {\n",
              "      --bg-color: #3B4455;\n",
              "      --fill-color: #D2E3FC;\n",
              "      --hover-bg-color: #434B5C;\n",
              "      --hover-fill-color: #FFFFFF;\n",
              "      --disabled-bg-color: #3B4455;\n",
              "      --disabled-fill-color: #666;\n",
              "  }\n",
              "\n",
              "  .colab-df-quickchart {\n",
              "    background-color: var(--bg-color);\n",
              "    border: none;\n",
              "    border-radius: 50%;\n",
              "    cursor: pointer;\n",
              "    display: none;\n",
              "    fill: var(--fill-color);\n",
              "    height: 32px;\n",
              "    padding: 0;\n",
              "    width: 32px;\n",
              "  }\n",
              "\n",
              "  .colab-df-quickchart:hover {\n",
              "    background-color: var(--hover-bg-color);\n",
              "    box-shadow: 0 1px 2px rgba(60, 64, 67, 0.3), 0 1px 3px 1px rgba(60, 64, 67, 0.15);\n",
              "    fill: var(--button-hover-fill-color);\n",
              "  }\n",
              "\n",
              "  .colab-df-quickchart-complete:disabled,\n",
              "  .colab-df-quickchart-complete:disabled:hover {\n",
              "    background-color: var(--disabled-bg-color);\n",
              "    fill: var(--disabled-fill-color);\n",
              "    box-shadow: none;\n",
              "  }\n",
              "\n",
              "  .colab-df-spinner {\n",
              "    border: 2px solid var(--fill-color);\n",
              "    border-color: transparent;\n",
              "    border-bottom-color: var(--fill-color);\n",
              "    animation:\n",
              "      spin 1s steps(1) infinite;\n",
              "  }\n",
              "\n",
              "  @keyframes spin {\n",
              "    0% {\n",
              "      border-color: transparent;\n",
              "      border-bottom-color: var(--fill-color);\n",
              "      border-left-color: var(--fill-color);\n",
              "    }\n",
              "    20% {\n",
              "      border-color: transparent;\n",
              "      border-left-color: var(--fill-color);\n",
              "      border-top-color: var(--fill-color);\n",
              "    }\n",
              "    30% {\n",
              "      border-color: transparent;\n",
              "      border-left-color: var(--fill-color);\n",
              "      border-top-color: var(--fill-color);\n",
              "      border-right-color: var(--fill-color);\n",
              "    }\n",
              "    40% {\n",
              "      border-color: transparent;\n",
              "      border-right-color: var(--fill-color);\n",
              "      border-top-color: var(--fill-color);\n",
              "    }\n",
              "    60% {\n",
              "      border-color: transparent;\n",
              "      border-right-color: var(--fill-color);\n",
              "    }\n",
              "    80% {\n",
              "      border-color: transparent;\n",
              "      border-right-color: var(--fill-color);\n",
              "      border-bottom-color: var(--fill-color);\n",
              "    }\n",
              "    90% {\n",
              "      border-color: transparent;\n",
              "      border-bottom-color: var(--fill-color);\n",
              "    }\n",
              "  }\n",
              "</style>\n",
              "\n",
              "  <script>\n",
              "    async function quickchart(key) {\n",
              "      const quickchartButtonEl =\n",
              "        document.querySelector('#' + key + ' button');\n",
              "      quickchartButtonEl.disabled = true;  // To prevent multiple clicks.\n",
              "      quickchartButtonEl.classList.add('colab-df-spinner');\n",
              "      try {\n",
              "        const charts = await google.colab.kernel.invokeFunction(\n",
              "            'suggestCharts', [key], {});\n",
              "      } catch (error) {\n",
              "        console.error('Error during call to suggestCharts:', error);\n",
              "      }\n",
              "      quickchartButtonEl.classList.remove('colab-df-spinner');\n",
              "      quickchartButtonEl.classList.add('colab-df-quickchart-complete');\n",
              "    }\n",
              "    (() => {\n",
              "      let quickchartButtonEl =\n",
              "        document.querySelector('#df-aad42421-bcae-41fe-833a-c27a63b68be0 button');\n",
              "      quickchartButtonEl.style.display =\n",
              "        google.colab.kernel.accessAllowed ? 'block' : 'none';\n",
              "    })();\n",
              "  </script>\n",
              "</div>\n",
              "    </div>\n",
              "  </div>\n"
            ],
            "text/plain": [
              "   age  sex  cp  trestbps  chol  fbs  restecg  thalach  exang  oldpeak  slope  \\\n",
              "0   52    1   0       125   212    0        1      168      0      1.0      2   \n",
              "1   53    1   0       140   203    1        0      155      1      3.1      0   \n",
              "2   70    1   0       145   174    0        1      125      1      2.6      0   \n",
              "\n",
              "   ca  thal  target  \n",
              "0   2     3       0  \n",
              "1   0     3       0  \n",
              "2   0     3       0  "
            ]
          },
          "execution_count": 3,
          "metadata": {},
          "output_type": "execute_result"
        }
      ],
      "source": [
        "df.head(3)"
      ]
    },
    {
      "cell_type": "markdown",
      "metadata": {
        "id": "2YmdapoZTfoW"
      },
      "source": [
        "## Pregunta 1\n",
        "\n",
        "Muestre cuál es el número de instancias de cada clase en el dataset. Utilice el método que desee en Python."
      ]
    },
    {
      "cell_type": "code",
      "execution_count": 4,
      "metadata": {
        "colab": {
          "base_uri": "https://localhost:8080/"
        },
        "id": "NZUR3zns1pWn",
        "outputId": "9a24aacb-0c68-44ed-bb76-48cbfb3e97ce"
      },
      "outputs": [
        {
          "data": {
            "text/plain": [
              "1    526\n",
              "0    499\n",
              "Name: target, dtype: int64"
            ]
          },
          "execution_count": 4,
          "metadata": {},
          "output_type": "execute_result"
        }
      ],
      "source": [
        "df[\"target\"].value_counts()"
      ]
    },
    {
      "cell_type": "markdown",
      "metadata": {},
      "source": [
        "La clase \"target\" tiene dos valores posibles, el 1 que tiene 526 instancias y  el 0 que tiene 499 instancias."
      ]
    },
    {
      "cell_type": "markdown",
      "metadata": {
        "id": "syz4NtApUk01"
      },
      "source": [
        "## Pregunta 2"
      ]
    },
    {
      "cell_type": "markdown",
      "metadata": {
        "id": "yQlJkMIbEKUq"
      },
      "source": [
        "Ahora lo que haremos será dividir nuestro dataset en 70% entrenar (***training set***) y 30% para testear (***testing set***). Use la función ***train_test_split()*** de *sklearn* y utilice las variables `X_train, X_test, y_train, y_test`.\n",
        "\n",
        "Escriba el código necesario para dividir los datos, entrenar el modelo utilizando `Decision Tree` e indicar el **accuracy**, **precision** y **recall** del clasificador.\n",
        "Entrene usando el ***training set*** y pruebe sobre el ***testing set***, en base a la división 70%-30%, respectivamente\n",
        "\n",
        "**NOTA: al dividir el dataset use el parámetro `stratify=y`.**\n"
      ]
    },
    {
      "cell_type": "code",
      "execution_count": 18,
      "metadata": {
        "colab": {
          "base_uri": "https://localhost:8080/"
        },
        "id": "rQu7j4HZfB8U",
        "outputId": "23a3cbaa-693e-47e5-961d-79e0c899495b"
      },
      "outputs": [
        {
          "name": "stdout",
          "output_type": "stream",
          "text": [
            "Accuracy: 0.9772727272727273\n",
            "Precision: 0.9748427672955975\n",
            "Recall: 0.9810126582278481\n"
          ]
        }
      ],
      "source": [
        "#Se importan las funciones de las librerías a utilizar\n",
        "from sklearn.model_selection import train_test_split\n",
        "from sklearn.tree import DecisionTreeClassifier\n",
        "from sklearn.metrics import accuracy_score, precision_score, recall_score\n",
        "\n",
        "#Se extraen los atributos (X) y la clase (y) desde el dataset (df)\n",
        "X = np.array(df.iloc[:,:-1])\n",
        "y = df.iloc[: , -1]\n",
        "\n",
        "#Se dividen los datos en training y testing, en este caso un 70% y 30%, respectivamente, (test_size=0.3)\n",
        "X_train, X_test, y_train, y_test = train_test_split(X, y, test_size=.3, random_state=36, stratify=y)\n",
        "\n",
        "#Se escoge el clasificador a utilizar, en este caso se utiliza el modelo Decision Tree\n",
        "clf = DecisionTreeClassifier()\n",
        "#Se fitea el modelo con los datos de training (entrenamiento)\n",
        "clf.fit(X_train, y_train)\n",
        "#Se obtiene las predicciones a partir de los atributos de testeo (prueba)\n",
        "y_pred = clf.predict(X_test)\n",
        "\n",
        "#Se pueden obtener distintas métricas comparando los valores predichos (y_pred) con los reales (y_test)\n",
        "print(\"Accuracy:\", accuracy_score(y_test, y_pred))\n",
        "print(\"Precision:\", precision_score(y_test, y_pred))\n",
        "print(\"Recall:\", recall_score(y_test, y_pred))"
      ]
    },
    {
      "cell_type": "markdown",
      "metadata": {
        "id": "Hbh0ll5nXhDI"
      },
      "source": [
        "## Pregunta 3\n",
        "\n",
        "Genere la matriz de confusión de los resultados obtenidos anteriormente. Describa 2 observaciones de los valores donde el clasificador acierta y falla."
      ]
    },
    {
      "cell_type": "code",
      "execution_count": 21,
      "metadata": {
        "colab": {
          "base_uri": "https://localhost:8080/",
          "height": 493
        },
        "id": "iP_5dkaJiZuX",
        "outputId": "f0004232-1bc5-427b-e86a-061090ff7acc"
      },
      "outputs": [
        {
          "data": {
            "image/png": "[encoded data removed]",
            "text/plain": [
              "<Figure size 640x480 with 2 Axes>"
            ]
          },
          "metadata": {},
          "output_type": "display_data"
        }
      ],
      "source": [
        "#Se importan las funciones y librerías a utilizar\n",
        "from sklearn.metrics import confusion_matrix\n",
        "from sklearn.utils.multiclass import unique_labels\n",
        "import seaborn as sns;\n",
        "import matplotlib.pyplot as plt\n",
        "\n",
        "#Se crea la confusion matrix a partir de los valores predichos y los reales, esta matriz identifica los\n",
        "#False positivos y negativos, y los\n",
        "#True positivos y negativos\n",
        "cm = confusion_matrix(y_test, y_pred)\n",
        "classes = unique_labels(y_test, y_pred)\n",
        "\n",
        "#Se pasa la matriz a formato dataframe\n",
        "matrix = pd.DataFrame(cm, index = classes, columns = classes)\n",
        "\n",
        "#Usando seaborn se crea un mapa de calor (heatmap) a partir de la matriz\n",
        "g = sns.heatmap(matrix, annot=True, cmap=\"Blues\",fmt='d')\n",
        "\n",
        "#Se asigna un título y nombres a los ejes\n",
        "plt.title('Matriz de confusión \\n')\n",
        "plt.xlabel('Etiqueta predicha')\n",
        "plt.ylabel('Etiqueta real')\n",
        "plt.autoscale()"
      ]
    },
    {
      "cell_type": "markdown",
      "metadata": {
        "id": "7QLgATMjkUZk"
      },
      "source": [
        "- El clasificador falla en 7 casos (3 falsos negativos y 4 falsos positivos).\n",
        "- La matriz de confusión muestra que hay 3 falsos negativos donde la persona sí presenta la enfermedad, pero ha sido predicho que no, y 4 falsos positivos donde la persona no presenta la enfermedad y ha sido predicho que sí.\n",
        "- El clasificador acierta en 301 casos (146 negativos y 155 positivos)."
      ]
    },
    {
      "cell_type": "markdown",
      "metadata": {
        "id": "MmHbxkFtb8HY"
      },
      "source": [
        "## Pregunta 4\n",
        "\n",
        "Dada la naturaleza del dataset utilizado ¿Qué valores serían más críticos de poder reducir entre Falsos Positivos y Falsos Negativos? Comente al respecto."
      ]
    },
    {
      "cell_type": "markdown",
      "metadata": {
        "id": "9aavMi6UlF6h"
      },
      "source": [
        "- En este dataset los valores de la clase \"target\" representan: 1 que hay enfermedad, y 0 que no hay enfermedad.\n",
        "- Debería ser crítico intentar reducir los falsos negativos, pues es \"más grave\" decirle a una persona que no posee la enfermedad siendo que sí la posee, versus decirle a una persona que sí posee la enfermedad siendo que no la posee. Pues en el primer caso no se le daría el tratamiento necesario al paciente."
      ]
    },
    {
      "cell_type": "markdown",
      "metadata": {
        "id": "c1fnao1rYIQg"
      },
      "source": [
        "## Pregunta 5\n",
        "\n",
        "Aplique k-fold cross validation para evaluar el clasificador. Pruebe con valores de `k` entre 2 y 4. Reporte los valores promedios obtenidos sobre el conjunto de prueba de las métricas de f1-score, precision y recall para cada `k`. También incluya el valor de la desviación estándar.\n",
        "\n",
        "¿Cambian los valores al modificar `k`? De ser así, ¿por qué cree que esto ocurre?"
      ]
    },
    {
      "cell_type": "markdown",
      "metadata": {},
      "source": [
        "- Dado que los datos están bastante balanceados (526, 499) no es necesario usar técnicas de oversampling and undersampling."
      ]
    },
    {
      "cell_type": "code",
      "execution_count": 24,
      "metadata": {
        "colab": {
          "base_uri": "https://localhost:8080/"
        },
        "id": "5l84SChJmPP0",
        "outputId": "300e6495-c459-478c-8a6e-48a395f4483a"
      },
      "outputs": [
        {
          "name": "stdout",
          "output_type": "stream",
          "text": [
            "Resultados para: k=2\n",
            "Precision\n",
            "Promedio: 0.9603325827126278\n",
            "Desviación estándar: 0.0038108435821929687\n",
            "Recall\n",
            "Promedio: 0.9201520912547528\n",
            "Desviación estándar: 0.0\n",
            "f1 score\n",
            "Promedio: 0.9398093686845836\n",
            "Desviación estándar: 0.0018248725605525817\n",
            "\n",
            "Resultados para: k=3\n",
            "Precision\n",
            "Promedio: 0.9625100262858949\n",
            "Desviación estándar: 0.0030707813812338603\n",
            "Recall\n",
            "Promedio: 0.9772077922077922\n",
            "Desviación estándar: 0.016116720909216474\n",
            "f1 score\n",
            "Promedio: 0.9697606116370904\n",
            "Desviación estándar: 0.009465334231553596\n",
            "\n",
            "Resultados para: k=4\n",
            "Precision\n",
            "Promedio: 1.0\n",
            "Desviación estándar: 0.0\n",
            "Recall\n",
            "Promedio: 0.9866990515845477\n",
            "Desviación estándar: 0.01355597371049997\n",
            "f1 score\n",
            "Promedio: 0.9932580932580932\n",
            "Desviación estándar: 0.006874578565236806\n",
            "\n"
          ]
        }
      ],
      "source": [
        "from sklearn.model_selection import cross_validate\n",
        "#Las métricas que se piden son f1-score, precision y recall\n",
        "scoring = ['f1', 'precision', 'recall']\n",
        "#Usamos un while para evaluar el clasificador para k=(2,3,4)\n",
        "\n",
        "k=2\n",
        "while k<5:\n",
        "  cv_results = cross_validate(clf, X, y, cv = k, scoring = scoring, return_train_score= True)\n",
        "  print(\"Resultados para: k=\"+ str(k))\n",
        "  print(\"Precision\")\n",
        "  print('Promedio:', np.mean(cv_results['test_precision']))\n",
        "  print('Desviación estándar:', np.std(cv_results['test_precision']))\n",
        "  print(\"Recall\")\n",
        "  print('Promedio:', np.mean(cv_results['test_recall']))\n",
        "  print('Desviación estándar:', np.std(cv_results['test_recall']))\n",
        "  print(\"f1 score\")\n",
        "  print('Promedio:', np.mean(cv_results['test_f1']))\n",
        "  print('Desviación estándar:', np.std(cv_results['test_f1']))\n",
        "  print(\"\")\n",
        "  k=k+1"
      ]
    },
    {
      "cell_type": "markdown",
      "metadata": {
        "id": "9_XwUq95fapV"
      },
      "source": [
        "- Los valores obtenidos del promedio y desviación estándar, para las distintas métricas, cambian al modificar el k.\n",
        "- Esto se debe a que los porcentajes de training y testing cambian para cada valor de k.\n",
        "    - Para k=2 se tiene un 50% y 50%, respectivamente.\n",
        "    - Para k=3 se tiene un 66.6% y 33.3%, respectivamente.\n",
        "    - Para k=4 se tiene un 75% y 25%, respectivamente.\n"
      ]
    },
    {
      "cell_type": "markdown",
      "metadata": {},
      "source": []
    }
  ],
  "metadata": {
    "anaconda-cloud": {},
    "colab": {
      "provenance": []
    },
    "hide_input": false,
    "kernelspec": {
      "display_name": "Python 3.10.3 64-bit ('3.10.3')",
      "language": "python",
      "name": "python3"
    },
    "language_info": {
      "codemirror_mode": {
        "name": "ipython",
        "version": 3
      },
      "file_extension": ".py",
      "mimetype": "text/x-python",
      "name": "python",
      "nbconvert_exporter": "python",
      "pygments_lexer": "ipython3",
      "version": "3.10.3"
    },
    "toc": {
      "base_numbering": 1,
      "nav_menu": {},
      "number_sections": true,
      "sideBar": true,
      "skip_h1_title": false,
      "title_cell": "Table of Contents",
      "title_sidebar": "Contents",
      "toc_cell": false,
      "toc_position": {},
      "toc_section_display": true,
      "toc_window_display": false
    },
    "varInspector": {
      "cols": {
        "lenName": 16,
        "lenType": 16,
        "lenVar": 40
      },
      "kernels_config": {
        "python": {
          "delete_cmd_postfix": "",
          "delete_cmd_prefix": "del ",
          "library": "var_list.py",
          "varRefreshCmd": "print(var_dic_list())"
        },
        "r": {
          "delete_cmd_postfix": ") ",
          "delete_cmd_prefix": "rm(",
          "library": "var_list.r",
          "varRefreshCmd": "cat(var_dic_list()) "
        }
      },
      "types_to_exclude": [
        "module",
        "function",
        "builtin_function_or_method",
        "instance",
        "_Feature"
      ],
      "window_display": false
    },
    "vscode": {
      "interpreter": {
        "hash": "ec640c004a33e3a5fbe89d17d2b0d3e578155b6673deceba9e0c93844e493d82"
      }
    }
  },
  "nbformat": 4,
  "nbformat_minor": 0
}
