{
  "nbformat": 4,
  "nbformat_minor": 0,
  "metadata": {
    "colab": {
      "provenance": []
    },
    "kernelspec": {
      "name": "python3",
      "display_name": "Python 3"
    },
    "language_info": {
      "name": "python"
    }
  },
  "cells": [
    {
      "cell_type": "markdown",
      "source": [
        "#Taller Final\n",
        "###Nombre estudiante: Daniela Mancilla\n",
        "\n",
        "En este taller final, se espera que haga uso de transacciones para mantener un sistema de arriendo de herramientas. Hay tres tablas en la base de datos, de las cuales se les muestran sus respectivos `CREATE TABLE` para que conozca sus nombres y columnas.\n",
        "\n",
        "### Tabla cliente\n",
        "\n",
        "Tiene una columna id que es la llave primaria y un nombre\n",
        "\n",
        "```sql\n",
        "CREATE TABLE cliente (\n",
        "    id integer primary key,\n",
        "    nombre varchar(200)\n",
        ")\n",
        "```"
      ],
      "metadata": {
        "id": "e1rnGU0pRNH4"
      }
    },
    {
      "cell_type": "markdown",
      "source": [
        "### Tabla herramienta\n",
        "\n",
        "Tiene una columna id que es la llave primaria, un nombre de la herramienta, un stock que no puede ser menor que 0 y un precio por día.\n",
        "\n",
        "```sql\n",
        "CREATE TABLE herramienta (\n",
        "    id integer primary key,\n",
        "    nombre varchar(200),\n",
        "    stock integer check (stock >= 0),\n",
        "    precio_diario float\n",
        ")\n",
        "```"
      ],
      "metadata": {
        "id": "tocZ4XOnSC8D"
      }
    },
    {
      "cell_type": "markdown",
      "source": [
        "### Tabla arriendo\n",
        "\n",
        "Tiene el id de la herramienta arrendada, el id de el cliente que arrienda, el timestamp (tiempo actual) en que se realiza el arriendo y la cantidad de días que durará el arriendo. La llave primaria está conformada por las tres primeras columnas\n",
        "\n",
        "```sql\n",
        "CREATE TABLE arriendo (\n",
        "    cliente integer REFERENCES cliente(id),\n",
        "    herramienta integer REFERENCES herramienta(id),\n",
        "    fecha TIMESTAMP,\n",
        "    dias integer,\n",
        "    PRIMARY KEY (cliente, herramienta, fecha)\n",
        ")\n",
        "```"
      ],
      "metadata": {
        "id": "Gkpsp47YRLk5"
      }
    },
    {
      "cell_type": "markdown",
      "source": [
        "## Lo que Ud. debe realizar:\n",
        "\n",
        "Primero debe mantener un objeto de conexión a la base de datos del curso y generar un cursor, para hacer consultas de tipo `INSERT` y `UPDATE`"
      ],
      "metadata": {
        "id": "JG0zf-lqTNRw"
      }
    },
    {
      "cell_type": "code",
      "source": [
        "import psycopg2\n",
        "\n",
        "db_dict = {\n",
        "    'host': 'lin-29996-12677-pgsql-primary.servers.linodedb.net',\n",
        "    'database': 'viajes',\n",
        "    'user': 'diplo',\n",
        "    'password': 'diplo_python',\n",
        "    'port': '5432'\n",
        "}\n",
        "conn = psycopg2.connect(**db_dict)\n",
        "cursor = conn.cursor()"
      ],
      "metadata": {
        "id": "ri6lFgiPTYxs"
      },
      "execution_count": 1,
      "outputs": []
    },
    {
      "cell_type": "markdown",
      "source": [
        "Luego puede ver los datos disponibles:"
      ],
      "metadata": {
        "id": "vchrrTjXX5bh"
      }
    },
    {
      "cell_type": "code",
      "source": [
        "cursor.execute(\"SELECT * FROM herramienta\")\n",
        "for r in cursor.fetchall():\n",
        "  print(r)"
      ],
      "metadata": {
        "colab": {
          "base_uri": "https://localhost:8080/"
        },
        "id": "mjbbzhDbX4Wy",
        "outputId": "c410d93c-3601-421b-9958-470598b87813"
      },
      "execution_count": 2,
      "outputs": [
        {
          "output_type": "stream",
          "name": "stdout",
          "text": [
            "(1, 'martillo', 0, 500.0)\n",
            "(2, 'sierra electrica', 1, 7000.0)\n",
            "(4, 'lijadora', 0, 3000.0)\n",
            "(5, 'soldadora', 3, 12000.0)\n",
            "(6, 'nivel laser', 4, 4000.0)\n",
            "(3, 'taladro', 8, 2500.0)\n"
          ]
        }
      ]
    },
    {
      "cell_type": "code",
      "source": [
        "cursor.execute(\"SELECT * FROM cliente\")\n",
        "for r in cursor.fetchall():\n",
        "  print(r)"
      ],
      "metadata": {
        "colab": {
          "base_uri": "https://localhost:8080/"
        },
        "id": "DWfAlPlbh-9G",
        "outputId": "76c1f51e-5712-44a8-a0fd-ea0b3ac50869"
      },
      "execution_count": 3,
      "outputs": [
        {
          "output_type": "stream",
          "name": "stdout",
          "text": [
            "(1, 'Pedro')\n",
            "(2, 'Juana')\n",
            "(3, 'Isabel')\n",
            "(4, 'Ernesto')\n",
            "(5, 'Mario')\n",
            "(6, 'Ana')\n",
            "(7, 'Emilio')\n",
            "(8, 'Sara')\n"
          ]
        }
      ]
    },
    {
      "cell_type": "markdown",
      "source": [
        "En la siguiente celda, pida un id de herramienta (usando `input`) y luego un\n",
        "id de cliente. Debe verificar que existe una herramienta en la tabla Herramienta con el id ingresado. Debe hacer la misma verificación con el id de cliente en la tabla cliente.\n",
        "\n",
        "En caso de no encontrar al cliente o a la herramienta, muestre un mensaje de error.\n",
        "\n",
        "Si se encuentra tanto el cliente como la herramienta, debe pedir ingresar la cantidad de días de duración del arriendo. Verifique que el número ingresado es mayor o igual a 1 y, de ser así, imprima el precio a pagar. Si todo está\n",
        "correcto inserte una fila en la tabla Arriendo, con el id de la herramienta, el id del cliente, la fecha y hora actual, y la cantidad de días. No olvide hacer commit.\n",
        "\n",
        "Verifique que su código use sentencias precompiladas, para que no sea posible realizar inyecciones SQL."
      ],
      "metadata": {
        "id": "aefmDi0mTkp6"
      }
    },
    {
      "cell_type": "code",
      "source": [
        "from datetime import datetime"
      ],
      "metadata": {
        "id": "1p18xq802eYp"
      },
      "execution_count": 9,
      "outputs": []
    },
    {
      "cell_type": "code",
      "source": [
        "def arrendar():\n",
        "  id_herramienta = input(\"Ingrese ID de herramienta: \")\n",
        "  cursor.execute(\"SELECT id FROM herramienta WHERE id=%s\", (id_herramienta,))\n",
        "  if len(cursor.fetchall())==0:\n",
        "    print(\"No existe la herramienta \"+id_herramienta)\n",
        "    conn.rollback()  #hacer rollback en caso de error\n",
        "    return\n",
        "  #validar id cliente\n",
        "  id_cliente = input(\"Ingrese ID cliente: \")\n",
        "  cursor.execute(\"SELECT id FROM cliente WHERE id=%s\", (id_cliente,))\n",
        "  if len(cursor.fetchall())==0:\n",
        "    print(\"No existe el cliente \"+id_cliente)\n",
        "    conn.rollback()  #hacer rollback en caso de error\n",
        "    return\n",
        "  #pedir días de arriendo y verificar que es mayor o igual que 1\n",
        "  dias = input(\"Ingrese los días de arriendo: \")\n",
        "  if int(dias)<1:\n",
        "    print(\"El número de días ingresado no es válido\")\n",
        "    conn.rollback()  #hacer rollback en caso de error\n",
        "    return\n",
        "  #imprima precio a pagar\n",
        "  cursor.execute(\"SELECT precio_diario FROM herramienta WHERE id=%s\", (id_herramienta,))\n",
        "  precio_diario=cursor.fetchall()[0][0]\n",
        "  precio_pagar=int(dias)*precio_diario\n",
        "  print(\"El precio a pagar es: \" + str(precio_pagar))\n",
        "  #inserte en la tabla arriedo\n",
        "  fecha=datetime.now()\n",
        "  cursor.execute(\"INSERT INTO arriendo VALUES (%s,%s,%s,%s)\",(id_cliente,id_herramienta, fecha, dias,))\n",
        "  #haga commit (conn.commit())\n",
        "  conn.commit()"
      ],
      "metadata": {
        "id": "Qw_z2OdzUKiY"
      },
      "execution_count": 30,
      "outputs": []
    },
    {
      "cell_type": "code",
      "source": [
        "#ejecutamos la función\n",
        "arrendar()"
      ],
      "metadata": {
        "colab": {
          "base_uri": "https://localhost:8080/"
        },
        "id": "_hMmgb4wY5N6",
        "outputId": "5be813e9-1a7b-4aaf-c204-61b04554ba53"
      },
      "execution_count": 31,
      "outputs": [
        {
          "output_type": "stream",
          "name": "stdout",
          "text": [
            "Ingrese ID de herramienta: 3\n",
            "Ingrese ID cliente: 1\n",
            "Ingrese los días de arriendo: 100\n",
            "El precio a pagar es: 250000.0\n"
          ]
        }
      ]
    },
    {
      "cell_type": "code",
      "source": [
        "conn.rollback()"
      ],
      "metadata": {
        "id": "RtMWF07ugNTy"
      },
      "execution_count": 11,
      "outputs": []
    },
    {
      "cell_type": "markdown",
      "source": [
        "Usted habrá notado que no hemos verificado que haya stock de la herramienta solicitada. Agregue una validación que revise si el stock es mayor o igual a uno antes de pedir el id del cliente."
      ],
      "metadata": {
        "id": "eiAmIiEzZFhQ"
      }
    },
    {
      "cell_type": "code",
      "source": [
        "def arrendar2():\n",
        "  id_herramienta = input(\"Ingrese ID de herramienta :\")\n",
        "  cursor.execute(\"SELECT id FROM herramienta WHERE id=%s\", (id_herramienta,))\n",
        "  if len(cursor.fetchall())==0:\n",
        "    print(\"No existe la herramienta \"+id_herramienta)\n",
        "    conn.rollback()  #hacer rollback en caso de error\n",
        "    return\n",
        "  #verificar stock\n",
        "  cursor.execute(\"SELECT stock FROM herramienta WHERE id=%s\", (id_herramienta,))\n",
        "  stock=cursor.fetchall()[0][0]\n",
        "  if stock<1:\n",
        "    print(\"No hay suficiente stock\")\n",
        "    conn.rollback()  #hacer rollback en caso de error\n",
        "    return\n",
        "  #validar id cliente\n",
        "  id_cliente = input(\"Ingrese ID cliente: \")\n",
        "  cursor.execute(\"SELECT id FROM cliente WHERE id=%s\", (id_cliente,))\n",
        "  if len(cursor.fetchall())==0:\n",
        "    print(\"No existe el cliente \"+id_cliente)\n",
        "    conn.rollback()  #hacer rollback en caso de error\n",
        "    return\n",
        "  #pedir días de arriendo y verificar que es mayor o igual que 1\n",
        "  dias = input(\"Ingrese los días de arriendo: \")\n",
        "  if int(dias)<1:\n",
        "    print(\"El número de días ingresado no es válido\")\n",
        "    conn.rollback()  #hacer rollback en caso de error\n",
        "    return\n",
        "  #imprima precio a pagar\n",
        "  cursor.execute(\"SELECT precio_diario FROM herramienta WHERE id=%s\", (id_herramienta,))\n",
        "  precio_diario=cursor.fetchall()[0][0]\n",
        "  precio_pagar=int(dias)*precio_diario\n",
        "  print(\"El precio a pagar es: \" + str(precio_pagar))\n",
        "  #inserte en la tabla arriedo\n",
        "  fecha=datetime.now()\n",
        "  cursor.execute(\"INSERT INTO arriendo VALUES (%s,%s,%s,%s)\",(id_cliente,id_herramienta, fecha, dias,))\n",
        "  #haga commit (conn.commit())\n",
        "  conn.commit()"
      ],
      "metadata": {
        "id": "Ymgs1BEQZMVs"
      },
      "execution_count": 32,
      "outputs": []
    },
    {
      "cell_type": "code",
      "source": [
        "#probamos la nueva función\n",
        "arrendar2()"
      ],
      "metadata": {
        "id": "Z09Ojr4rZVWF",
        "colab": {
          "base_uri": "https://localhost:8080/"
        },
        "outputId": "7ca5aa73-a776-4807-ec48-9c75e48924e9"
      },
      "execution_count": 33,
      "outputs": [
        {
          "output_type": "stream",
          "name": "stdout",
          "text": [
            "Ingrese ID de herramienta :1\n",
            "No hay suficiente stock\n"
          ]
        }
      ]
    },
    {
      "cell_type": "code",
      "source": [
        "conn.rollback()"
      ],
      "metadata": {
        "id": "AJaiVD9DrG15"
      },
      "execution_count": null,
      "outputs": []
    },
    {
      "cell_type": "markdown",
      "source": [
        "Finalmente, usted notará que también es necesario reducir el stock en la tabla herramienta, cada vez que se inserta una fila en la tabla Arriendo.\n",
        "\n",
        "A continuación, explique los problemas que pueden surgir al hacer el insert en Arriendo y el update en Herramienta sin usar transacciones:\n",
        "\n",
        "Si no usamos transacciones, y dos usuarios quisieran arrendar al mismo tiempo, la misma herramienta que tenga stock 1, a quién se la damos? Por esta razón es necesario actualizar el stock al mismo tiempo que el arriendo, de lo contrario, al ir a buscar la herramienta a la bodega, podríamos encontrarnos con que ya fue arrendada por otro cliente."
      ],
      "metadata": {
        "id": "BHREI9dgZYlG"
      }
    },
    {
      "cell_type": "markdown",
      "source": [
        "Haga una implementacion final que inserte el arriendo y actualice el stock en la misma transacción:"
      ],
      "metadata": {
        "id": "4BJm27peZoQv"
      }
    },
    {
      "cell_type": "code",
      "source": [
        "def arrendar3():\n",
        "  id_herramienta = input(\"Ingrese ID de herramienta :\")\n",
        "  cursor.execute(\"SELECT id FROM herramienta WHERE id=%s\", (id_herramienta,))\n",
        "  if len(cursor.fetchall())==0:\n",
        "    print(\"No existe la herramienta \"+id_herramienta)\n",
        "    conn.rollback()  #hacer rollback en caso de error\n",
        "    return\n",
        "  #verificar stock\n",
        "  cursor.execute(\"SELECT stock FROM herramienta WHERE id=%s\", (id_herramienta,))\n",
        "  stock=cursor.fetchall()[0][0]\n",
        "  if stock<1:\n",
        "    print(\"No hay suficiente stock\")\n",
        "    conn.rollback()  #hacer rollback en caso de error\n",
        "    return\n",
        "  #validar id cliente\n",
        "  id_cliente = input(\"Ingrese ID cliente: \")\n",
        "  cursor.execute(\"SELECT id FROM cliente WHERE id=%s\", (id_cliente,))\n",
        "  if len(cursor.fetchall())==0:\n",
        "    print(\"No existe el cliente \"+id_cliente)\n",
        "    conn.rollback()  #hacer rollback en caso de error\n",
        "    return\n",
        "  #pedir días de arriendo y verificar que es mayor o igual que 1\n",
        "  dias = input(\"Ingrese los días de arriendo: \")\n",
        "  if int(dias)<1:\n",
        "    print(\"El número de días ingresado no es válido\")\n",
        "    conn.rollback()  #hacer rollback en caso de error\n",
        "    return\n",
        "  #imprima precio a pagar\n",
        "  cursor.execute(\"SELECT precio_diario FROM herramienta WHERE id=%s\", (id_herramienta,))\n",
        "  precio_diario=cursor.fetchall()[0][0]\n",
        "  precio_pagar=int(dias)*precio_diario\n",
        "  print(\"El precio a pagar es: \" + str(precio_pagar))\n",
        "  #inserte en la tabla arriedo\n",
        "  fecha=datetime.now()\n",
        "  #d = fecha.strftime()\n",
        "  cursor.execute(\"INSERT INTO arriendo VALUES (%s,%s,%s,%s)\",(id_cliente,id_herramienta, fecha, dias,))\n",
        "  #actualice el stock en la tabla herramienta\n",
        "  cursor.execute(\"SELECT stock FROM herramienta WHERE id=%s\", (id_herramienta,))\n",
        "  new_stock=cursor.fetchall()[0][0]-1\n",
        "  cursor.execute(\"UPDATE herramienta SET stock=%s WHERE id=%s\",(new_stock,id_herramienta,))\n",
        "  cursor.execute(\"SELECT * FROM herramienta WHERE id=%s\",(id_herramienta,))\n",
        "  #haga commit (conn.commit())\n",
        "  conn.commit()"
      ],
      "metadata": {
        "id": "_e7a_iPLZ2lR"
      },
      "execution_count": 34,
      "outputs": []
    },
    {
      "cell_type": "code",
      "source": [
        "#probamos la función final\n",
        "arrendar3()"
      ],
      "metadata": {
        "id": "xOlP9ChfZ9Q5",
        "colab": {
          "base_uri": "https://localhost:8080/"
        },
        "outputId": "ceb47032-6ab2-4372-d43d-5d2b6c3648b7"
      },
      "execution_count": 35,
      "outputs": [
        {
          "output_type": "stream",
          "name": "stdout",
          "text": [
            "Ingrese ID de herramienta :5\n",
            "Ingrese ID cliente: 3\n",
            "Ingrese los días de arriendo: 1000\n",
            "El precio a pagar es: 12000000.0\n"
          ]
        }
      ]
    },
    {
      "cell_type": "code",
      "source": [
        "#probamos la función final\n",
        "arrendar3()"
      ],
      "metadata": {
        "colab": {
          "base_uri": "https://localhost:8080/"
        },
        "id": "2LNipNan4C5_",
        "outputId": "6c31474c-eaae-4358-8c89-0e4dedf00352"
      },
      "execution_count": 36,
      "outputs": [
        {
          "output_type": "stream",
          "name": "stdout",
          "text": [
            "Ingrese ID de herramienta :1\n",
            "No hay suficiente stock\n"
          ]
        }
      ]
    },
    {
      "cell_type": "code",
      "source": [
        "#probamos la función final\n",
        "arrendar3()"
      ],
      "metadata": {
        "colab": {
          "base_uri": "https://localhost:8080/"
        },
        "id": "XR9hLjDP4FE8",
        "outputId": "b66ada56-85c2-4247-c6d5-7b4af71239ac"
      },
      "execution_count": 37,
      "outputs": [
        {
          "output_type": "stream",
          "name": "stdout",
          "text": [
            "Ingrese ID de herramienta :3\n",
            "Ingrese ID cliente: 10\n",
            "No existe el cliente 10\n"
          ]
        }
      ]
    },
    {
      "cell_type": "code",
      "source": [
        "#probamos la función final\n",
        "arrendar3()"
      ],
      "metadata": {
        "colab": {
          "base_uri": "https://localhost:8080/"
        },
        "id": "M4E_KXp_4Uu9",
        "outputId": "4170c615-0fbe-49c2-fed0-9ba1600fb32a"
      },
      "execution_count": 40,
      "outputs": [
        {
          "output_type": "stream",
          "name": "stdout",
          "text": [
            "Ingrese ID de herramienta :3\n",
            "Ingrese ID cliente: 8\n",
            "Ingrese los días de arriendo: 20\n",
            "El precio a pagar es: 50000.0\n"
          ]
        }
      ]
    },
    {
      "cell_type": "code",
      "source": [
        "conn.rollback()"
      ],
      "metadata": {
        "id": "m59g0loot_7L"
      },
      "execution_count": 26,
      "outputs": []
    }
  ]
}