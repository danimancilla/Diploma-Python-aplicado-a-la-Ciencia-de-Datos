{
  "cells": [
    {
      "cell_type": "markdown",
      "metadata": {
        "id": "t4_MW8gi00Wj"
      },
      "source": [
        "# Laboratorio 2: Técnicas de visualización para estadística descriptiva\n",
        "\n",
        "Noviembre 2023"
      ]
    },
    {
      "cell_type": "markdown",
      "metadata": {
        "id": "yACxc3HY0_60"
      },
      "source": [
        "# Instrucciones\n",
        "\n",
        "- Trabajar en grupos de dos o tres personas.\n",
        "- Hacer una copia de este notebook en `File -> Save a copy in Drive`.\n",
        "- Se recomienda que uno de los integrantes transmita su pantalla con el notebook mientras conversan en equipo.\n",
        "- Al final de la sesión, descargar el notebook `File -> Download -> Download .ipynb` y subirlo en la sección Tareas de U-Cursos que se abrirá para esta sesión. Se debe realizar una entrega por grupo.\n"
      ]
    },
    {
      "cell_type": "markdown",
      "metadata": {
        "id": "ROYFrFRT1CFq"
      },
      "source": [
        "**Nombres:**\n",
        "\n",
        "Daniela Mancilla\n",
        "\n",
        "Gabriela Martínez\n",
        "\n",
        "Francisca Quijada\n",
        "\n"
      ]
    },
    {
      "cell_type": "markdown",
      "metadata": {
        "id": "nfLVassDiK7R"
      },
      "source": [
        "# Datos\n",
        "\n",
        "Salarios de trabajos de ciencia de datos. El dataset tiene 607 registros y 11 atributos. Fuente: ai-jobs.net Salaries\n",
        "\n",
        "Ver documentación en: https://www.kaggle.com/datasets/ruchi798/data-science-job-salaries"
      ]
    },
    {
      "cell_type": "code",
      "execution_count": 1,
      "metadata": {
        "colab": {
          "base_uri": "https://localhost:8080/",
          "height": 365
        },
        "id": "WhW9Y4Z61YUa",
        "outputId": "47b6b5cd-d9f3-4b5d-96e3-9014bd8a4be7"
      },
      "outputs": [
        {
          "data": {
            "text/html": [
              "<div>\n",
              "<style scoped>\n",
              "    .dataframe tbody tr th:only-of-type {\n",
              "        vertical-align: middle;\n",
              "    }\n",
              "\n",
              "    .dataframe tbody tr th {\n",
              "        vertical-align: top;\n",
              "    }\n",
              "\n",
              "    .dataframe thead th {\n",
              "        text-align: right;\n",
              "    }\n",
              "</style>\n",
              "<table border=\"1\" class=\"dataframe\">\n",
              "  <thead>\n",
              "    <tr style=\"text-align: right;\">\n",
              "      <th></th>\n",
              "      <th>work_year</th>\n",
              "      <th>experience_level</th>\n",
              "      <th>employment_type</th>\n",
              "      <th>job_title</th>\n",
              "      <th>salary</th>\n",
              "      <th>salary_currency</th>\n",
              "      <th>salary_in_usd</th>\n",
              "      <th>employee_residence</th>\n",
              "      <th>remote_ratio</th>\n",
              "      <th>company_location</th>\n",
              "      <th>company_size</th>\n",
              "    </tr>\n",
              "  </thead>\n",
              "  <tbody>\n",
              "    <tr>\n",
              "      <th>0</th>\n",
              "      <td>2020</td>\n",
              "      <td>MI</td>\n",
              "      <td>FT</td>\n",
              "      <td>Data Scientist</td>\n",
              "      <td>70000</td>\n",
              "      <td>EUR</td>\n",
              "      <td>79833</td>\n",
              "      <td>DE</td>\n",
              "      <td>0</td>\n",
              "      <td>DE</td>\n",
              "      <td>L</td>\n",
              "    </tr>\n",
              "    <tr>\n",
              "      <th>1</th>\n",
              "      <td>2020</td>\n",
              "      <td>SE</td>\n",
              "      <td>FT</td>\n",
              "      <td>Machine Learning Scientist</td>\n",
              "      <td>260000</td>\n",
              "      <td>USD</td>\n",
              "      <td>260000</td>\n",
              "      <td>JP</td>\n",
              "      <td>0</td>\n",
              "      <td>JP</td>\n",
              "      <td>S</td>\n",
              "    </tr>\n",
              "    <tr>\n",
              "      <th>2</th>\n",
              "      <td>2020</td>\n",
              "      <td>SE</td>\n",
              "      <td>FT</td>\n",
              "      <td>Big Data Engineer</td>\n",
              "      <td>85000</td>\n",
              "      <td>GBP</td>\n",
              "      <td>109024</td>\n",
              "      <td>GB</td>\n",
              "      <td>50</td>\n",
              "      <td>GB</td>\n",
              "      <td>M</td>\n",
              "    </tr>\n",
              "    <tr>\n",
              "      <th>3</th>\n",
              "      <td>2020</td>\n",
              "      <td>MI</td>\n",
              "      <td>FT</td>\n",
              "      <td>Product Data Analyst</td>\n",
              "      <td>20000</td>\n",
              "      <td>USD</td>\n",
              "      <td>20000</td>\n",
              "      <td>HN</td>\n",
              "      <td>0</td>\n",
              "      <td>HN</td>\n",
              "      <td>S</td>\n",
              "    </tr>\n",
              "    <tr>\n",
              "      <th>4</th>\n",
              "      <td>2020</td>\n",
              "      <td>SE</td>\n",
              "      <td>FT</td>\n",
              "      <td>Machine Learning Engineer</td>\n",
              "      <td>150000</td>\n",
              "      <td>USD</td>\n",
              "      <td>150000</td>\n",
              "      <td>US</td>\n",
              "      <td>50</td>\n",
              "      <td>US</td>\n",
              "      <td>L</td>\n",
              "    </tr>\n",
              "  </tbody>\n",
              "</table>\n",
              "</div>"
            ],
            "text/plain": [
              "   work_year experience_level employment_type                   job_title  \\\n",
              "0       2020               MI              FT              Data Scientist   \n",
              "1       2020               SE              FT  Machine Learning Scientist   \n",
              "2       2020               SE              FT           Big Data Engineer   \n",
              "3       2020               MI              FT        Product Data Analyst   \n",
              "4       2020               SE              FT   Machine Learning Engineer   \n",
              "\n",
              "   salary salary_currency  salary_in_usd employee_residence  remote_ratio  \\\n",
              "0   70000             EUR          79833                 DE             0   \n",
              "1  260000             USD         260000                 JP             0   \n",
              "2   85000             GBP         109024                 GB            50   \n",
              "3   20000             USD          20000                 HN             0   \n",
              "4  150000             USD         150000                 US            50   \n",
              "\n",
              "  company_location company_size  \n",
              "0               DE            L  \n",
              "1               JP            S  \n",
              "2               GB            M  \n",
              "3               HN            S  \n",
              "4               US            L  "
            ]
          },
          "execution_count": 1,
          "metadata": {},
          "output_type": "execute_result"
        }
      ],
      "source": [
        "import pandas as pd\n",
        "\n",
        "data = pd.read_csv(\"https://raw.githubusercontent.com/cinthiasanchez/visualization/main/ds_salaries.csv\")\n",
        "del data['Unnamed: 0'] #ignoramos esta columna de índices\n",
        "data.head()"
      ]
    },
    {
      "cell_type": "markdown",
      "metadata": {
        "id": "oDnqZ2bVioQ6"
      },
      "source": [
        "**Para cada una de las siguientes preguntas cree una visualización usando matplotlib, seaborn o ploty. Describa el mapeo visual y su interpretación del gráfico en respuesta a la pregunta planteada. En cada caso, agregue un título y etiquetas necesarias para que la visualización se entienda por sí misma.**"
      ]
    },
    {
      "cell_type": "code",
      "execution_count": 2,
      "metadata": {
        "id": "FCw76rHysAqN"
      },
      "outputs": [],
      "source": [
        "import matplotlib.pyplot as plt\n",
        "import plotly.express as px\n",
        "import seaborn as sns"
      ]
    },
    {
      "cell_type": "markdown",
      "metadata": {
        "id": "iHC11_XljUQl"
      },
      "source": [
        "**Pregunta 1:** Visualice el top-10 de empleos (job_title) mejores pagados (en usd), ordenado de forma descendente."
      ]
    },
    {
      "cell_type": "code",
      "execution_count": 3,
      "metadata": {
        "colab": {
          "base_uri": "https://localhost:8080/",
          "height": 417
        },
        "id": "UUPIG2EcMKFk",
        "outputId": "47c4a91a-90b1-4312-bf6c-ce74e3fa16c0"
      },
      "outputs": [
        {
          "data": {
            "text/html": [
              "<div>\n",
              "<style scoped>\n",
              "    .dataframe tbody tr th:only-of-type {\n",
              "        vertical-align: middle;\n",
              "    }\n",
              "\n",
              "    .dataframe tbody tr th {\n",
              "        vertical-align: top;\n",
              "    }\n",
              "\n",
              "    .dataframe thead th {\n",
              "        text-align: right;\n",
              "    }\n",
              "</style>\n",
              "<table border=\"1\" class=\"dataframe\">\n",
              "  <thead>\n",
              "    <tr style=\"text-align: right;\">\n",
              "      <th></th>\n",
              "      <th>job_title</th>\n",
              "      <th>salary_in_usd</th>\n",
              "    </tr>\n",
              "  </thead>\n",
              "  <tbody>\n",
              "    <tr>\n",
              "      <th>0</th>\n",
              "      <td>Data Analytics Lead</td>\n",
              "      <td>405000.0</td>\n",
              "    </tr>\n",
              "    <tr>\n",
              "      <th>1</th>\n",
              "      <td>Principal Data Engineer</td>\n",
              "      <td>328333.0</td>\n",
              "    </tr>\n",
              "    <tr>\n",
              "      <th>2</th>\n",
              "      <td>Financial Data Analyst</td>\n",
              "      <td>275000.0</td>\n",
              "    </tr>\n",
              "    <tr>\n",
              "      <th>3</th>\n",
              "      <td>Principal Data Scientist</td>\n",
              "      <td>215242.0</td>\n",
              "    </tr>\n",
              "    <tr>\n",
              "      <th>4</th>\n",
              "      <td>Director of Data Science</td>\n",
              "      <td>195074.0</td>\n",
              "    </tr>\n",
              "    <tr>\n",
              "      <th>5</th>\n",
              "      <td>Data Architect</td>\n",
              "      <td>177874.0</td>\n",
              "    </tr>\n",
              "    <tr>\n",
              "      <th>6</th>\n",
              "      <td>Applied Data Scientist</td>\n",
              "      <td>175655.0</td>\n",
              "    </tr>\n",
              "    <tr>\n",
              "      <th>7</th>\n",
              "      <td>Analytics Engineer</td>\n",
              "      <td>175000.0</td>\n",
              "    </tr>\n",
              "    <tr>\n",
              "      <th>8</th>\n",
              "      <td>Data Specialist</td>\n",
              "      <td>165000.0</td>\n",
              "    </tr>\n",
              "    <tr>\n",
              "      <th>9</th>\n",
              "      <td>Head of Data</td>\n",
              "      <td>160163.0</td>\n",
              "    </tr>\n",
              "  </tbody>\n",
              "</table>\n",
              "</div>"
            ],
            "text/plain": [
              "                  job_title  salary_in_usd\n",
              "0       Data Analytics Lead       405000.0\n",
              "1   Principal Data Engineer       328333.0\n",
              "2    Financial Data Analyst       275000.0\n",
              "3  Principal Data Scientist       215242.0\n",
              "4  Director of Data Science       195074.0\n",
              "5            Data Architect       177874.0\n",
              "6    Applied Data Scientist       175655.0\n",
              "7        Analytics Engineer       175000.0\n",
              "8           Data Specialist       165000.0\n",
              "9              Head of Data       160163.0"
            ]
          },
          "execution_count": 3,
          "metadata": {},
          "output_type": "execute_result"
        }
      ],
      "source": [
        "data1=data.groupby([\"job_title\"])['salary_in_usd'].mean().sort_values( ascending=False).round(0).head(10)\n",
        "data1=data1.reset_index()\n",
        "data1"
      ]
    },
    {
      "cell_type": "code",
      "execution_count": 4,
      "metadata": {
        "colab": {
          "base_uri": "https://localhost:8080/",
          "height": 567
        },
        "id": "KO1twZ3sQJ7M",
        "outputId": "c5c468ea-a62b-47dc-9618-2ee12c50ee83"
      },
      "outputs": [
        {
          "data": {
            "application/vnd.plotly.v1+json": {
              "config": {
                "plotlyServerURL": "https://plot.ly"
              },
              "data": [
                {
                  "alignmentgroup": "True",
                  "hovertemplate": "Empleo=%{x}<br>Salario en USD=%{y}<extra></extra>",
                  "legendgroup": "",
                  "marker": {
                    "color": "#636efa",
                    "pattern": {
                      "shape": ""
                    }
                  },
                  "name": "",
                  "offsetgroup": "",
                  "orientation": "v",
                  "showlegend": false,
                  "textposition": "outside",
                  "texttemplate": "%{y:.0f}",
                  "type": "bar",
                  "x": [
                    "Data Analytics Lead",
                    "Principal Data Engineer",
                    "Financial Data Analyst",
                    "Principal Data Scientist",
                    "Director of Data Science",
                    "Data Architect",
                    "Applied Data Scientist",
                    "Analytics Engineer",
                    "Data Specialist",
                    "Head of Data"
                  ],
                  "xaxis": "x",
                  "y": [
                    405000,
                    328333,
                    275000,
                    215242,
                    195074,
                    177874,
                    175655,
                    175000,
                    165000,
                    160163
                  ],
                  "yaxis": "y"
                }
              ],
              "layout": {
                "barmode": "relative",
                "height": 550,
                "legend": {
                  "tracegroupgap": 0
                },
                "template": {
                  "data": {
                    "bar": [
                      {
                        "error_x": {
                          "color": "#2a3f5f"
                        },
                        "error_y": {
                          "color": "#2a3f5f"
                        },
                        "marker": {
                          "line": {
                            "color": "#E5ECF6",
                            "width": 0.5
                          },
                          "pattern": {
                            "fillmode": "overlay",
                            "size": 10,
                            "solidity": 0.2
                          }
                        },
                        "type": "bar"
                      }
                    ],
                    "barpolar": [
                      {
                        "marker": {
                          "line": {
                            "color": "#E5ECF6",
                            "width": 0.5
                          },
                          "pattern": {
                            "fillmode": "overlay",
                            "size": 10,
                            "solidity": 0.2
                          }
                        },
                        "type": "barpolar"
                      }
                    ],
                    "carpet": [
                      {
                        "aaxis": {
                          "endlinecolor": "#2a3f5f",
                          "gridcolor": "white",
                          "linecolor": "white",
                          "minorgridcolor": "white",
                          "startlinecolor": "#2a3f5f"
                        },
                        "baxis": {
                          "endlinecolor": "#2a3f5f",
                          "gridcolor": "white",
                          "linecolor": "white",
                          "minorgridcolor": "white",
                          "startlinecolor": "#2a3f5f"
                        },
                        "type": "carpet"
                      }
                    ],
                    "choropleth": [
                      {
                        "colorbar": {
                          "outlinewidth": 0,
                          "ticks": ""
                        },
                        "type": "choropleth"
                      }
                    ],
                    "contour": [
                      {
                        "colorbar": {
                          "outlinewidth": 0,
                          "ticks": ""
                        },
                        "colorscale": [
                          [
                            0,
                            "#0d0887"
                          ],
                          [
                            0.1111111111111111,
                            "#46039f"
                          ],
                          [
                            0.2222222222222222,
                            "#7201a8"
                          ],
                          [
                            0.3333333333333333,
                            "#9c179e"
                          ],
                          [
                            0.4444444444444444,
                            "#bd3786"
                          ],
                          [
                            0.5555555555555556,
                            "#d8576b"
                          ],
                          [
                            0.6666666666666666,
                            "#ed7953"
                          ],
                          [
                            0.7777777777777778,
                            "#fb9f3a"
                          ],
                          [
                            0.8888888888888888,
                            "#fdca26"
                          ],
                          [
                            1,
                            "#f0f921"
                          ]
                        ],
                        "type": "contour"
                      }
                    ],
                    "contourcarpet": [
                      {
                        "colorbar": {
                          "outlinewidth": 0,
                          "ticks": ""
                        },
                        "type": "contourcarpet"
                      }
                    ],
                    "heatmap": [
                      {
                        "colorbar": {
                          "outlinewidth": 0,
                          "ticks": ""
                        },
                        "colorscale": [
                          [
                            0,
                            "#0d0887"
                          ],
                          [
                            0.1111111111111111,
                            "#46039f"
                          ],
                          [
                            0.2222222222222222,
                            "#7201a8"
                          ],
                          [
                            0.3333333333333333,
                            "#9c179e"
                          ],
                          [
                            0.4444444444444444,
                            "#bd3786"
                          ],
                          [
                            0.5555555555555556,
                            "#d8576b"
                          ],
                          [
                            0.6666666666666666,
                            "#ed7953"
                          ],
                          [
                            0.7777777777777778,
                            "#fb9f3a"
                          ],
                          [
                            0.8888888888888888,
                            "#fdca26"
                          ],
                          [
                            1,
                            "#f0f921"
                          ]
                        ],
                        "type": "heatmap"
                      }
                    ],
                    "heatmapgl": [
                      {
                        "colorbar": {
                          "outlinewidth": 0,
                          "ticks": ""
                        },
                        "colorscale": [
                          [
                            0,
                            "#0d0887"
                          ],
                          [
                            0.1111111111111111,
                            "#46039f"
                          ],
                          [
                            0.2222222222222222,
                            "#7201a8"
                          ],
                          [
                            0.3333333333333333,
                            "#9c179e"
                          ],
                          [
                            0.4444444444444444,
                            "#bd3786"
                          ],
                          [
                            0.5555555555555556,
                            "#d8576b"
                          ],
                          [
                            0.6666666666666666,
                            "#ed7953"
                          ],
                          [
                            0.7777777777777778,
                            "#fb9f3a"
                          ],
                          [
                            0.8888888888888888,
                            "#fdca26"
                          ],
                          [
                            1,
                            "#f0f921"
                          ]
                        ],
                        "type": "heatmapgl"
                      }
                    ],
                    "histogram": [
                      {
                        "marker": {
                          "pattern": {
                            "fillmode": "overlay",
                            "size": 10,
                            "solidity": 0.2
                          }
                        },
                        "type": "histogram"
                      }
                    ],
                    "histogram2d": [
                      {
                        "colorbar": {
                          "outlinewidth": 0,
                          "ticks": ""
                        },
                        "colorscale": [
                          [
                            0,
                            "#0d0887"
                          ],
                          [
                            0.1111111111111111,
                            "#46039f"
                          ],
                          [
                            0.2222222222222222,
                            "#7201a8"
                          ],
                          [
                            0.3333333333333333,
                            "#9c179e"
                          ],
                          [
                            0.4444444444444444,
                            "#bd3786"
                          ],
                          [
                            0.5555555555555556,
                            "#d8576b"
                          ],
                          [
                            0.6666666666666666,
                            "#ed7953"
                          ],
                          [
                            0.7777777777777778,
                            "#fb9f3a"
                          ],
                          [
                            0.8888888888888888,
                            "#fdca26"
                          ],
                          [
                            1,
                            "#f0f921"
                          ]
                        ],
                        "type": "histogram2d"
                      }
                    ],
                    "histogram2dcontour": [
                      {
                        "colorbar": {
                          "outlinewidth": 0,
                          "ticks": ""
                        },
                        "colorscale": [
                          [
                            0,
                            "#0d0887"
                          ],
                          [
                            0.1111111111111111,
                            "#46039f"
                          ],
                          [
                            0.2222222222222222,
                            "#7201a8"
                          ],
                          [
                            0.3333333333333333,
                            "#9c179e"
                          ],
                          [
                            0.4444444444444444,
                            "#bd3786"
                          ],
                          [
                            0.5555555555555556,
                            "#d8576b"
                          ],
                          [
                            0.6666666666666666,
                            "#ed7953"
                          ],
                          [
                            0.7777777777777778,
                            "#fb9f3a"
                          ],
                          [
                            0.8888888888888888,
                            "#fdca26"
                          ],
                          [
                            1,
                            "#f0f921"
                          ]
                        ],
                        "type": "histogram2dcontour"
                      }
                    ],
                    "mesh3d": [
                      {
                        "colorbar": {
                          "outlinewidth": 0,
                          "ticks": ""
                        },
                        "type": "mesh3d"
                      }
                    ],
                    "parcoords": [
                      {
                        "line": {
                          "colorbar": {
                            "outlinewidth": 0,
                            "ticks": ""
                          }
                        },
                        "type": "parcoords"
                      }
                    ],
                    "pie": [
                      {
                        "automargin": true,
                        "type": "pie"
                      }
                    ],
                    "scatter": [
                      {
                        "fillpattern": {
                          "fillmode": "overlay",
                          "size": 10,
                          "solidity": 0.2
                        },
                        "type": "scatter"
                      }
                    ],
                    "scatter3d": [
                      {
                        "line": {
                          "colorbar": {
                            "outlinewidth": 0,
                            "ticks": ""
                          }
                        },
                        "marker": {
                          "colorbar": {
                            "outlinewidth": 0,
                            "ticks": ""
                          }
                        },
                        "type": "scatter3d"
                      }
                    ],
                    "scattercarpet": [
                      {
                        "marker": {
                          "colorbar": {
                            "outlinewidth": 0,
                            "ticks": ""
                          }
                        },
                        "type": "scattercarpet"
                      }
                    ],
                    "scattergeo": [
                      {
                        "marker": {
                          "colorbar": {
                            "outlinewidth": 0,
                            "ticks": ""
                          }
                        },
                        "type": "scattergeo"
                      }
                    ],
                    "scattergl": [
                      {
                        "marker": {
                          "colorbar": {
                            "outlinewidth": 0,
                            "ticks": ""
                          }
                        },
                        "type": "scattergl"
                      }
                    ],
                    "scattermapbox": [
                      {
                        "marker": {
                          "colorbar": {
                            "outlinewidth": 0,
                            "ticks": ""
                          }
                        },
                        "type": "scattermapbox"
                      }
                    ],
                    "scatterpolar": [
                      {
                        "marker": {
                          "colorbar": {
                            "outlinewidth": 0,
                            "ticks": ""
                          }
                        },
                        "type": "scatterpolar"
                      }
                    ],
                    "scatterpolargl": [
                      {
                        "marker": {
                          "colorbar": {
                            "outlinewidth": 0,
                            "ticks": ""
                          }
                        },
                        "type": "scatterpolargl"
                      }
                    ],
                    "scatterternary": [
                      {
                        "marker": {
                          "colorbar": {
                            "outlinewidth": 0,
                            "ticks": ""
                          }
                        },
                        "type": "scatterternary"
                      }
                    ],
                    "surface": [
                      {
                        "colorbar": {
                          "outlinewidth": 0,
                          "ticks": ""
                        },
                        "colorscale": [
                          [
                            0,
                            "#0d0887"
                          ],
                          [
                            0.1111111111111111,
                            "#46039f"
                          ],
                          [
                            0.2222222222222222,
                            "#7201a8"
                          ],
                          [
                            0.3333333333333333,
                            "#9c179e"
                          ],
                          [
                            0.4444444444444444,
                            "#bd3786"
                          ],
                          [
                            0.5555555555555556,
                            "#d8576b"
                          ],
                          [
                            0.6666666666666666,
                            "#ed7953"
                          ],
                          [
                            0.7777777777777778,
                            "#fb9f3a"
                          ],
                          [
                            0.8888888888888888,
                            "#fdca26"
                          ],
                          [
                            1,
                            "#f0f921"
                          ]
                        ],
                        "type": "surface"
                      }
                    ],
                    "table": [
                      {
                        "cells": {
                          "fill": {
                            "color": "#EBF0F8"
                          },
                          "line": {
                            "color": "white"
                          }
                        },
                        "header": {
                          "fill": {
                            "color": "#C8D4E3"
                          },
                          "line": {
                            "color": "white"
                          }
                        },
                        "type": "table"
                      }
                    ]
                  },
                  "layout": {
                    "annotationdefaults": {
                      "arrowcolor": "#2a3f5f",
                      "arrowhead": 0,
                      "arrowwidth": 1
                    },
                    "autotypenumbers": "strict",
                    "coloraxis": {
                      "colorbar": {
                        "outlinewidth": 0,
                        "ticks": ""
                      }
                    },
                    "colorscale": {
                      "diverging": [
                        [
                          0,
                          "#8e0152"
                        ],
                        [
                          0.1,
                          "#c51b7d"
                        ],
                        [
                          0.2,
                          "#de77ae"
                        ],
                        [
                          0.3,
                          "#f1b6da"
                        ],
                        [
                          0.4,
                          "#fde0ef"
                        ],
                        [
                          0.5,
                          "#f7f7f7"
                        ],
                        [
                          0.6,
                          "#e6f5d0"
                        ],
                        [
                          0.7,
                          "#b8e186"
                        ],
                        [
                          0.8,
                          "#7fbc41"
                        ],
                        [
                          0.9,
                          "#4d9221"
                        ],
                        [
                          1,
                          "#276419"
                        ]
                      ],
                      "sequential": [
                        [
                          0,
                          "#0d0887"
                        ],
                        [
                          0.1111111111111111,
                          "#46039f"
                        ],
                        [
                          0.2222222222222222,
                          "#7201a8"
                        ],
                        [
                          0.3333333333333333,
                          "#9c179e"
                        ],
                        [
                          0.4444444444444444,
                          "#bd3786"
                        ],
                        [
                          0.5555555555555556,
                          "#d8576b"
                        ],
                        [
                          0.6666666666666666,
                          "#ed7953"
                        ],
                        [
                          0.7777777777777778,
                          "#fb9f3a"
                        ],
                        [
                          0.8888888888888888,
                          "#fdca26"
                        ],
                        [
                          1,
                          "#f0f921"
                        ]
                      ],
                      "sequentialminus": [
                        [
                          0,
                          "#0d0887"
                        ],
                        [
                          0.1111111111111111,
                          "#46039f"
                        ],
                        [
                          0.2222222222222222,
                          "#7201a8"
                        ],
                        [
                          0.3333333333333333,
                          "#9c179e"
                        ],
                        [
                          0.4444444444444444,
                          "#bd3786"
                        ],
                        [
                          0.5555555555555556,
                          "#d8576b"
                        ],
                        [
                          0.6666666666666666,
                          "#ed7953"
                        ],
                        [
                          0.7777777777777778,
                          "#fb9f3a"
                        ],
                        [
                          0.8888888888888888,
                          "#fdca26"
                        ],
                        [
                          1,
                          "#f0f921"
                        ]
                      ]
                    },
                    "colorway": [
                      "#636efa",
                      "#EF553B",
                      "#00cc96",
                      "#ab63fa",
                      "#FFA15A",
                      "#19d3f3",
                      "#FF6692",
                      "#B6E880",
                      "#FF97FF",
                      "#FECB52"
                    ],
                    "font": {
                      "color": "#2a3f5f"
                    },
                    "geo": {
                      "bgcolor": "white",
                      "lakecolor": "white",
                      "landcolor": "#E5ECF6",
                      "showlakes": true,
                      "showland": true,
                      "subunitcolor": "white"
                    },
                    "hoverlabel": {
                      "align": "left"
                    },
                    "hovermode": "closest",
                    "mapbox": {
                      "style": "light"
                    },
                    "paper_bgcolor": "white",
                    "plot_bgcolor": "#E5ECF6",
                    "polar": {
                      "angularaxis": {
                        "gridcolor": "white",
                        "linecolor": "white",
                        "ticks": ""
                      },
                      "bgcolor": "#E5ECF6",
                      "radialaxis": {
                        "gridcolor": "white",
                        "linecolor": "white",
                        "ticks": ""
                      }
                    },
                    "scene": {
                      "xaxis": {
                        "backgroundcolor": "#E5ECF6",
                        "gridcolor": "white",
                        "gridwidth": 2,
                        "linecolor": "white",
                        "showbackground": true,
                        "ticks": "",
                        "zerolinecolor": "white"
                      },
                      "yaxis": {
                        "backgroundcolor": "#E5ECF6",
                        "gridcolor": "white",
                        "gridwidth": 2,
                        "linecolor": "white",
                        "showbackground": true,
                        "ticks": "",
                        "zerolinecolor": "white"
                      },
                      "zaxis": {
                        "backgroundcolor": "#E5ECF6",
                        "gridcolor": "white",
                        "gridwidth": 2,
                        "linecolor": "white",
                        "showbackground": true,
                        "ticks": "",
                        "zerolinecolor": "white"
                      }
                    },
                    "shapedefaults": {
                      "line": {
                        "color": "#2a3f5f"
                      }
                    },
                    "ternary": {
                      "aaxis": {
                        "gridcolor": "white",
                        "linecolor": "white",
                        "ticks": ""
                      },
                      "baxis": {
                        "gridcolor": "white",
                        "linecolor": "white",
                        "ticks": ""
                      },
                      "bgcolor": "#E5ECF6",
                      "caxis": {
                        "gridcolor": "white",
                        "linecolor": "white",
                        "ticks": ""
                      }
                    },
                    "title": {
                      "x": 0.05
                    },
                    "xaxis": {
                      "automargin": true,
                      "gridcolor": "white",
                      "linecolor": "white",
                      "ticks": "",
                      "title": {
                        "standoff": 15
                      },
                      "zerolinecolor": "white",
                      "zerolinewidth": 2
                    },
                    "yaxis": {
                      "automargin": true,
                      "gridcolor": "white",
                      "linecolor": "white",
                      "ticks": "",
                      "title": {
                        "standoff": 15
                      },
                      "zerolinecolor": "white",
                      "zerolinewidth": 2
                    }
                  }
                },
                "title": {
                  "text": "Empleos mejores pagados"
                },
                "width": 700,
                "xaxis": {
                  "anchor": "y",
                  "domain": [
                    0,
                    1
                  ],
                  "title": {
                    "text": "Empleo"
                  }
                },
                "yaxis": {
                  "anchor": "x",
                  "domain": [
                    0,
                    1
                  ],
                  "title": {
                    "text": "Salario en USD"
                  }
                }
              }
            }
          },
          "metadata": {},
          "output_type": "display_data"
        }
      ],
      "source": [
        "fig = px.bar(data1,\n",
        "             x='job_title',\n",
        "             y='salary_in_usd',\n",
        "             title=\"Empleos mejores pagados\",\n",
        "             labels = {'job_title': 'Empleo', 'salary_in_usd': 'Salario en USD'},\n",
        "             text_auto='.0f',\n",
        "             width=700, height=550)\n",
        "fig.update_traces(textposition = \"outside\")\n",
        "fig.show()"
      ]
    },
    {
      "cell_type": "markdown",
      "metadata": {
        "id": "xbxVCnsC9K_Q"
      },
      "source": [
        "Mapeo visual: \n",
        "\n",
        "El eje x representa el nombre del empleo, mientras que el eje y representa el salario promedio en dólares.\n",
        "\n",
        "Interpretación del gráfico: \n",
        "- El rango de los 10 empleos mejores pagados va aproximadamente: desde los 405.000 USD, que corresponde al empleo \"Data Analytics Lead\", hasta los 160.000 USD, correspondiente al empleo \"Head of Data\".\n",
        "- La mayoría de los 10 empleos, 6 de 10, tienen un salario menor a los 200.000 USD, luego 3 de 10 tienen un salario que va entre los 200.000 USD y los 400.000 USD, y sólo 1 supera los 400.000 USD.\n",
        "- Adicionalmente, los empleos con menor salario, desde el \"Head of Data\" hasta el \"Principal Data Scientist\" presentan una baja diferencia del salario entre ellos, siendo casi lineal el aumento, mientras que desde el \"Principal Data Scientist\" hasta el \"Data Analytics Lead\", se observa un aumento del salario con una pendiente mayor. Es decir, en este último grupo, la diferencia del salario es mayor entre los distintos empleos."
      ]
    },
    {
      "cell_type": "markdown",
      "metadata": {
        "id": "UmGcIxn81ejN"
      },
      "source": [
        "**Pregunta 2:** Visualice el salario promedio (en usd) según el nivel de experiencia y tipo de empleo."
      ]
    },
    {
      "cell_type": "code",
      "execution_count": 5,
      "metadata": {
        "colab": {
          "base_uri": "https://localhost:8080/",
          "height": 233
        },
        "id": "5Txg1grgO5rB",
        "outputId": "db6df552-c463-4db1-b30a-776641fc92a0"
      },
      "outputs": [
        {
          "data": {
            "text/html": [
              "<div>\n",
              "<style scoped>\n",
              "    .dataframe tbody tr th:only-of-type {\n",
              "        vertical-align: middle;\n",
              "    }\n",
              "\n",
              "    .dataframe tbody tr th {\n",
              "        vertical-align: top;\n",
              "    }\n",
              "\n",
              "    .dataframe thead th {\n",
              "        text-align: right;\n",
              "    }\n",
              "</style>\n",
              "<table border=\"1\" class=\"dataframe\">\n",
              "  <thead>\n",
              "    <tr style=\"text-align: right;\">\n",
              "      <th></th>\n",
              "      <th>experience_level</th>\n",
              "      <th>employment_type</th>\n",
              "      <th>salary_in_usd</th>\n",
              "    </tr>\n",
              "  </thead>\n",
              "  <tbody>\n",
              "    <tr>\n",
              "      <th>0</th>\n",
              "      <td>EN</td>\n",
              "      <td>CT</td>\n",
              "      <td>65937.500000</td>\n",
              "    </tr>\n",
              "    <tr>\n",
              "      <th>1</th>\n",
              "      <td>EN</td>\n",
              "      <td>FT</td>\n",
              "      <td>64457.455696</td>\n",
              "    </tr>\n",
              "    <tr>\n",
              "      <th>2</th>\n",
              "      <td>EN</td>\n",
              "      <td>PT</td>\n",
              "      <td>28656.857143</td>\n",
              "    </tr>\n",
              "  </tbody>\n",
              "</table>\n",
              "</div>"
            ],
            "text/plain": [
              "  experience_level employment_type  salary_in_usd\n",
              "0               EN              CT   65937.500000\n",
              "1               EN              FT   64457.455696\n",
              "2               EN              PT   28656.857143"
            ]
          },
          "execution_count": 5,
          "metadata": {},
          "output_type": "execute_result"
        }
      ],
      "source": [
        "data2=data.groupby([\"experience_level\",\"employment_type\"])['salary_in_usd'].mean()\n",
        "data2=data2.reset_index()\n",
        "data2.head(3)\n"
      ]
    },
    {
      "cell_type": "code",
      "execution_count": 6,
      "metadata": {
        "colab": {
          "base_uri": "https://localhost:8080/",
          "height": 417
        },
        "id": "6ju7NGytU2fI",
        "outputId": "fa6b3f0e-69dc-474e-93f3-31f43000c146"
      },
      "outputs": [
        {
          "data": {
            "application/vnd.plotly.v1+json": {
              "config": {
                "plotlyServerURL": "https://plot.ly"
              },
              "data": [
                {
                  "alignmentgroup": "True",
                  "hovertemplate": "Experiencia=EX<br>Tipo de empleo=%{x}<br>Salario en USD=%{y}<extra></extra>",
                  "legendgroup": "EX",
                  "marker": {
                    "color": "#253494",
                    "pattern": {
                      "shape": ""
                    }
                  },
                  "name": "Director",
                  "offsetgroup": "EX",
                  "orientation": "v",
                  "showlegend": true,
                  "textposition": "auto",
                  "type": "bar",
                  "x": [
                    "CT",
                    "FT"
                  ],
                  "xaxis": "x",
                  "y": [
                    416000,
                    190727.72
                  ],
                  "yaxis": "y"
                },
                {
                  "alignmentgroup": "True",
                  "hovertemplate": "Experiencia=SE<br>Tipo de empleo=%{x}<br>Salario en USD=%{y}<extra></extra>",
                  "legendgroup": "SE",
                  "marker": {
                    "color": "#2c7fb8",
                    "pattern": {
                      "shape": ""
                    }
                  },
                  "name": "Experto",
                  "offsetgroup": "SE",
                  "orientation": "v",
                  "showlegend": true,
                  "textposition": "auto",
                  "type": "bar",
                  "x": [
                    "CT",
                    "FL",
                    "FT"
                  ],
                  "xaxis": "x",
                  "y": [
                    105000,
                    60000,
                    139021.01438848922
                  ],
                  "yaxis": "y"
                },
                {
                  "alignmentgroup": "True",
                  "hovertemplate": "Experiencia=MI<br>Tipo de empleo=%{x}<br>Salario en USD=%{y}<extra></extra>",
                  "legendgroup": "MI",
                  "marker": {
                    "color": "#41b6c4",
                    "pattern": {
                      "shape": ""
                    }
                  },
                  "name": "Intermedio",
                  "offsetgroup": "MI",
                  "orientation": "v",
                  "showlegend": true,
                  "textposition": "auto",
                  "type": "bar",
                  "x": [
                    "CT",
                    "FL",
                    "FT",
                    "PT"
                  ],
                  "xaxis": "x",
                  "y": [
                    270000,
                    44000,
                    88403.16990291262,
                    43369
                  ],
                  "yaxis": "y"
                },
                {
                  "alignmentgroup": "True",
                  "hovertemplate": "Experiencia=EN<br>Tipo de empleo=%{x}<br>Salario en USD=%{y}<extra></extra>",
                  "legendgroup": "EN",
                  "marker": {
                    "color": "#a1dab4",
                    "pattern": {
                      "shape": ""
                    }
                  },
                  "name": "Básico",
                  "offsetgroup": "EN",
                  "orientation": "v",
                  "showlegend": true,
                  "textposition": "auto",
                  "type": "bar",
                  "x": [
                    "CT",
                    "FT",
                    "PT"
                  ],
                  "xaxis": "x",
                  "y": [
                    65937.5,
                    64457.45569620253,
                    28656.85714285714
                  ],
                  "yaxis": "y"
                }
              ],
              "layout": {
                "barmode": "group",
                "height": 400,
                "legend": {
                  "title": {
                    "text": "Experiencia"
                  },
                  "tracegroupgap": 0
                },
                "template": {
                  "data": {
                    "bar": [
                      {
                        "error_x": {
                          "color": "#2a3f5f"
                        },
                        "error_y": {
                          "color": "#2a3f5f"
                        },
                        "marker": {
                          "line": {
                            "color": "#E5ECF6",
                            "width": 0.5
                          },
                          "pattern": {
                            "fillmode": "overlay",
                            "size": 10,
                            "solidity": 0.2
                          }
                        },
                        "type": "bar"
                      }
                    ],
                    "barpolar": [
                      {
                        "marker": {
                          "line": {
                            "color": "#E5ECF6",
                            "width": 0.5
                          },
                          "pattern": {
                            "fillmode": "overlay",
                            "size": 10,
                            "solidity": 0.2
                          }
                        },
                        "type": "barpolar"
                      }
                    ],
                    "carpet": [
                      {
                        "aaxis": {
                          "endlinecolor": "#2a3f5f",
                          "gridcolor": "white",
                          "linecolor": "white",
                          "minorgridcolor": "white",
                          "startlinecolor": "#2a3f5f"
                        },
                        "baxis": {
                          "endlinecolor": "#2a3f5f",
                          "gridcolor": "white",
                          "linecolor": "white",
                          "minorgridcolor": "white",
                          "startlinecolor": "#2a3f5f"
                        },
                        "type": "carpet"
                      }
                    ],
                    "choropleth": [
                      {
                        "colorbar": {
                          "outlinewidth": 0,
                          "ticks": ""
                        },
                        "type": "choropleth"
                      }
                    ],
                    "contour": [
                      {
                        "colorbar": {
                          "outlinewidth": 0,
                          "ticks": ""
                        },
                        "colorscale": [
                          [
                            0,
                            "#0d0887"
                          ],
                          [
                            0.1111111111111111,
                            "#46039f"
                          ],
                          [
                            0.2222222222222222,
                            "#7201a8"
                          ],
                          [
                            0.3333333333333333,
                            "#9c179e"
                          ],
                          [
                            0.4444444444444444,
                            "#bd3786"
                          ],
                          [
                            0.5555555555555556,
                            "#d8576b"
                          ],
                          [
                            0.6666666666666666,
                            "#ed7953"
                          ],
                          [
                            0.7777777777777778,
                            "#fb9f3a"
                          ],
                          [
                            0.8888888888888888,
                            "#fdca26"
                          ],
                          [
                            1,
                            "#f0f921"
                          ]
                        ],
                        "type": "contour"
                      }
                    ],
                    "contourcarpet": [
                      {
                        "colorbar": {
                          "outlinewidth": 0,
                          "ticks": ""
                        },
                        "type": "contourcarpet"
                      }
                    ],
                    "heatmap": [
                      {
                        "colorbar": {
                          "outlinewidth": 0,
                          "ticks": ""
                        },
                        "colorscale": [
                          [
                            0,
                            "#0d0887"
                          ],
                          [
                            0.1111111111111111,
                            "#46039f"
                          ],
                          [
                            0.2222222222222222,
                            "#7201a8"
                          ],
                          [
                            0.3333333333333333,
                            "#9c179e"
                          ],
                          [
                            0.4444444444444444,
                            "#bd3786"
                          ],
                          [
                            0.5555555555555556,
                            "#d8576b"
                          ],
                          [
                            0.6666666666666666,
                            "#ed7953"
                          ],
                          [
                            0.7777777777777778,
                            "#fb9f3a"
                          ],
                          [
                            0.8888888888888888,
                            "#fdca26"
                          ],
                          [
                            1,
                            "#f0f921"
                          ]
                        ],
                        "type": "heatmap"
                      }
                    ],
                    "heatmapgl": [
                      {
                        "colorbar": {
                          "outlinewidth": 0,
                          "ticks": ""
                        },
                        "colorscale": [
                          [
                            0,
                            "#0d0887"
                          ],
                          [
                            0.1111111111111111,
                            "#46039f"
                          ],
                          [
                            0.2222222222222222,
                            "#7201a8"
                          ],
                          [
                            0.3333333333333333,
                            "#9c179e"
                          ],
                          [
                            0.4444444444444444,
                            "#bd3786"
                          ],
                          [
                            0.5555555555555556,
                            "#d8576b"
                          ],
                          [
                            0.6666666666666666,
                            "#ed7953"
                          ],
                          [
                            0.7777777777777778,
                            "#fb9f3a"
                          ],
                          [
                            0.8888888888888888,
                            "#fdca26"
                          ],
                          [
                            1,
                            "#f0f921"
                          ]
                        ],
                        "type": "heatmapgl"
                      }
                    ],
                    "histogram": [
                      {
                        "marker": {
                          "pattern": {
                            "fillmode": "overlay",
                            "size": 10,
                            "solidity": 0.2
                          }
                        },
                        "type": "histogram"
                      }
                    ],
                    "histogram2d": [
                      {
                        "colorbar": {
                          "outlinewidth": 0,
                          "ticks": ""
                        },
                        "colorscale": [
                          [
                            0,
                            "#0d0887"
                          ],
                          [
                            0.1111111111111111,
                            "#46039f"
                          ],
                          [
                            0.2222222222222222,
                            "#7201a8"
                          ],
                          [
                            0.3333333333333333,
                            "#9c179e"
                          ],
                          [
                            0.4444444444444444,
                            "#bd3786"
                          ],
                          [
                            0.5555555555555556,
                            "#d8576b"
                          ],
                          [
                            0.6666666666666666,
                            "#ed7953"
                          ],
                          [
                            0.7777777777777778,
                            "#fb9f3a"
                          ],
                          [
                            0.8888888888888888,
                            "#fdca26"
                          ],
                          [
                            1,
                            "#f0f921"
                          ]
                        ],
                        "type": "histogram2d"
                      }
                    ],
                    "histogram2dcontour": [
                      {
                        "colorbar": {
                          "outlinewidth": 0,
                          "ticks": ""
                        },
                        "colorscale": [
                          [
                            0,
                            "#0d0887"
                          ],
                          [
                            0.1111111111111111,
                            "#46039f"
                          ],
                          [
                            0.2222222222222222,
                            "#7201a8"
                          ],
                          [
                            0.3333333333333333,
                            "#9c179e"
                          ],
                          [
                            0.4444444444444444,
                            "#bd3786"
                          ],
                          [
                            0.5555555555555556,
                            "#d8576b"
                          ],
                          [
                            0.6666666666666666,
                            "#ed7953"
                          ],
                          [
                            0.7777777777777778,
                            "#fb9f3a"
                          ],
                          [
                            0.8888888888888888,
                            "#fdca26"
                          ],
                          [
                            1,
                            "#f0f921"
                          ]
                        ],
                        "type": "histogram2dcontour"
                      }
                    ],
                    "mesh3d": [
                      {
                        "colorbar": {
                          "outlinewidth": 0,
                          "ticks": ""
                        },
                        "type": "mesh3d"
                      }
                    ],
                    "parcoords": [
                      {
                        "line": {
                          "colorbar": {
                            "outlinewidth": 0,
                            "ticks": ""
                          }
                        },
                        "type": "parcoords"
                      }
                    ],
                    "pie": [
                      {
                        "automargin": true,
                        "type": "pie"
                      }
                    ],
                    "scatter": [
                      {
                        "fillpattern": {
                          "fillmode": "overlay",
                          "size": 10,
                          "solidity": 0.2
                        },
                        "type": "scatter"
                      }
                    ],
                    "scatter3d": [
                      {
                        "line": {
                          "colorbar": {
                            "outlinewidth": 0,
                            "ticks": ""
                          }
                        },
                        "marker": {
                          "colorbar": {
                            "outlinewidth": 0,
                            "ticks": ""
                          }
                        },
                        "type": "scatter3d"
                      }
                    ],
                    "scattercarpet": [
                      {
                        "marker": {
                          "colorbar": {
                            "outlinewidth": 0,
                            "ticks": ""
                          }
                        },
                        "type": "scattercarpet"
                      }
                    ],
                    "scattergeo": [
                      {
                        "marker": {
                          "colorbar": {
                            "outlinewidth": 0,
                            "ticks": ""
                          }
                        },
                        "type": "scattergeo"
                      }
                    ],
                    "scattergl": [
                      {
                        "marker": {
                          "colorbar": {
                            "outlinewidth": 0,
                            "ticks": ""
                          }
                        },
                        "type": "scattergl"
                      }
                    ],
                    "scattermapbox": [
                      {
                        "marker": {
                          "colorbar": {
                            "outlinewidth": 0,
                            "ticks": ""
                          }
                        },
                        "type": "scattermapbox"
                      }
                    ],
                    "scatterpolar": [
                      {
                        "marker": {
                          "colorbar": {
                            "outlinewidth": 0,
                            "ticks": ""
                          }
                        },
                        "type": "scatterpolar"
                      }
                    ],
                    "scatterpolargl": [
                      {
                        "marker": {
                          "colorbar": {
                            "outlinewidth": 0,
                            "ticks": ""
                          }
                        },
                        "type": "scatterpolargl"
                      }
                    ],
                    "scatterternary": [
                      {
                        "marker": {
                          "colorbar": {
                            "outlinewidth": 0,
                            "ticks": ""
                          }
                        },
                        "type": "scatterternary"
                      }
                    ],
                    "surface": [
                      {
                        "colorbar": {
                          "outlinewidth": 0,
                          "ticks": ""
                        },
                        "colorscale": [
                          [
                            0,
                            "#0d0887"
                          ],
                          [
                            0.1111111111111111,
                            "#46039f"
                          ],
                          [
                            0.2222222222222222,
                            "#7201a8"
                          ],
                          [
                            0.3333333333333333,
                            "#9c179e"
                          ],
                          [
                            0.4444444444444444,
                            "#bd3786"
                          ],
                          [
                            0.5555555555555556,
                            "#d8576b"
                          ],
                          [
                            0.6666666666666666,
                            "#ed7953"
                          ],
                          [
                            0.7777777777777778,
                            "#fb9f3a"
                          ],
                          [
                            0.8888888888888888,
                            "#fdca26"
                          ],
                          [
                            1,
                            "#f0f921"
                          ]
                        ],
                        "type": "surface"
                      }
                    ],
                    "table": [
                      {
                        "cells": {
                          "fill": {
                            "color": "#EBF0F8"
                          },
                          "line": {
                            "color": "white"
                          }
                        },
                        "header": {
                          "fill": {
                            "color": "#C8D4E3"
                          },
                          "line": {
                            "color": "white"
                          }
                        },
                        "type": "table"
                      }
                    ]
                  },
                  "layout": {
                    "annotationdefaults": {
                      "arrowcolor": "#2a3f5f",
                      "arrowhead": 0,
                      "arrowwidth": 1
                    },
                    "autotypenumbers": "strict",
                    "coloraxis": {
                      "colorbar": {
                        "outlinewidth": 0,
                        "ticks": ""
                      }
                    },
                    "colorscale": {
                      "diverging": [
                        [
                          0,
                          "#8e0152"
                        ],
                        [
                          0.1,
                          "#c51b7d"
                        ],
                        [
                          0.2,
                          "#de77ae"
                        ],
                        [
                          0.3,
                          "#f1b6da"
                        ],
                        [
                          0.4,
                          "#fde0ef"
                        ],
                        [
                          0.5,
                          "#f7f7f7"
                        ],
                        [
                          0.6,
                          "#e6f5d0"
                        ],
                        [
                          0.7,
                          "#b8e186"
                        ],
                        [
                          0.8,
                          "#7fbc41"
                        ],
                        [
                          0.9,
                          "#4d9221"
                        ],
                        [
                          1,
                          "#276419"
                        ]
                      ],
                      "sequential": [
                        [
                          0,
                          "#0d0887"
                        ],
                        [
                          0.1111111111111111,
                          "#46039f"
                        ],
                        [
                          0.2222222222222222,
                          "#7201a8"
                        ],
                        [
                          0.3333333333333333,
                          "#9c179e"
                        ],
                        [
                          0.4444444444444444,
                          "#bd3786"
                        ],
                        [
                          0.5555555555555556,
                          "#d8576b"
                        ],
                        [
                          0.6666666666666666,
                          "#ed7953"
                        ],
                        [
                          0.7777777777777778,
                          "#fb9f3a"
                        ],
                        [
                          0.8888888888888888,
                          "#fdca26"
                        ],
                        [
                          1,
                          "#f0f921"
                        ]
                      ],
                      "sequentialminus": [
                        [
                          0,
                          "#0d0887"
                        ],
                        [
                          0.1111111111111111,
                          "#46039f"
                        ],
                        [
                          0.2222222222222222,
                          "#7201a8"
                        ],
                        [
                          0.3333333333333333,
                          "#9c179e"
                        ],
                        [
                          0.4444444444444444,
                          "#bd3786"
                        ],
                        [
                          0.5555555555555556,
                          "#d8576b"
                        ],
                        [
                          0.6666666666666666,
                          "#ed7953"
                        ],
                        [
                          0.7777777777777778,
                          "#fb9f3a"
                        ],
                        [
                          0.8888888888888888,
                          "#fdca26"
                        ],
                        [
                          1,
                          "#f0f921"
                        ]
                      ]
                    },
                    "colorway": [
                      "#636efa",
                      "#EF553B",
                      "#00cc96",
                      "#ab63fa",
                      "#FFA15A",
                      "#19d3f3",
                      "#FF6692",
                      "#B6E880",
                      "#FF97FF",
                      "#FECB52"
                    ],
                    "font": {
                      "color": "#2a3f5f"
                    },
                    "geo": {
                      "bgcolor": "white",
                      "lakecolor": "white",
                      "landcolor": "#E5ECF6",
                      "showlakes": true,
                      "showland": true,
                      "subunitcolor": "white"
                    },
                    "hoverlabel": {
                      "align": "left"
                    },
                    "hovermode": "closest",
                    "mapbox": {
                      "style": "light"
                    },
                    "paper_bgcolor": "white",
                    "plot_bgcolor": "#E5ECF6",
                    "polar": {
                      "angularaxis": {
                        "gridcolor": "white",
                        "linecolor": "white",
                        "ticks": ""
                      },
                      "bgcolor": "#E5ECF6",
                      "radialaxis": {
                        "gridcolor": "white",
                        "linecolor": "white",
                        "ticks": ""
                      }
                    },
                    "scene": {
                      "xaxis": {
                        "backgroundcolor": "#E5ECF6",
                        "gridcolor": "white",
                        "gridwidth": 2,
                        "linecolor": "white",
                        "showbackground": true,
                        "ticks": "",
                        "zerolinecolor": "white"
                      },
                      "yaxis": {
                        "backgroundcolor": "#E5ECF6",
                        "gridcolor": "white",
                        "gridwidth": 2,
                        "linecolor": "white",
                        "showbackground": true,
                        "ticks": "",
                        "zerolinecolor": "white"
                      },
                      "zaxis": {
                        "backgroundcolor": "#E5ECF6",
                        "gridcolor": "white",
                        "gridwidth": 2,
                        "linecolor": "white",
                        "showbackground": true,
                        "ticks": "",
                        "zerolinecolor": "white"
                      }
                    },
                    "shapedefaults": {
                      "line": {
                        "color": "#2a3f5f"
                      }
                    },
                    "ternary": {
                      "aaxis": {
                        "gridcolor": "white",
                        "linecolor": "white",
                        "ticks": ""
                      },
                      "baxis": {
                        "gridcolor": "white",
                        "linecolor": "white",
                        "ticks": ""
                      },
                      "bgcolor": "#E5ECF6",
                      "caxis": {
                        "gridcolor": "white",
                        "linecolor": "white",
                        "ticks": ""
                      }
                    },
                    "title": {
                      "x": 0.05
                    },
                    "xaxis": {
                      "automargin": true,
                      "gridcolor": "white",
                      "linecolor": "white",
                      "ticks": "",
                      "title": {
                        "standoff": 15
                      },
                      "zerolinecolor": "white",
                      "zerolinewidth": 2
                    },
                    "yaxis": {
                      "automargin": true,
                      "gridcolor": "white",
                      "linecolor": "white",
                      "ticks": "",
                      "title": {
                        "standoff": 15
                      },
                      "zerolinecolor": "white",
                      "zerolinewidth": 2
                    }
                  }
                },
                "title": {
                  "text": "Salario según el tipo de empleo y el nivel de experiencia"
                },
                "width": 700,
                "xaxis": {
                  "anchor": "y",
                  "categoryarray": [
                    "CT",
                    "FT",
                    "PT",
                    "FL"
                  ],
                  "categoryorder": "array",
                  "domain": [
                    0,
                    1
                  ],
                  "ticktext": [
                    "Contrata",
                    "Tiempo completo",
                    "Tiempo parcial",
                    "Independiente"
                  ],
                  "tickvals": [
                    "CT",
                    "FT",
                    "PT",
                    "FL"
                  ],
                  "title": {
                    "text": "Tipo de empleo"
                  }
                },
                "yaxis": {
                  "anchor": "x",
                  "domain": [
                    0,
                    1
                  ],
                  "title": {
                    "text": "Salario en USD"
                  }
                }
              }
            }
          },
          "metadata": {},
          "output_type": "display_data"
        }
      ],
      "source": [
        "fig = px.bar(data2,\n",
        "             x='employment_type',\n",
        "             y='salary_in_usd',\n",
        "             color=\"experience_level\",\n",
        "             title=\"Salario según el tipo de empleo y el nivel de experiencia\",\n",
        "             barmode=\"group\",\n",
        "             labels = {'employment_type': 'Tipo de empleo','experience_level': 'Experiencia', 'salary_in_usd': 'Salario en USD'},\n",
        "             width=700, height=400,\n",
        "             category_orders={'experience_level':['EX','SE','MI','EN'], 'employment_type':['CT', 'FT', 'PT','FL']},\n",
        "             color_discrete_sequence=(\"#253494\",\"#2c7fb8\",\"#41b6c4\",\"#a1dab4\"),\n",
        "             )\n",
        "fig.update_layout(\n",
        "    xaxis = dict(\n",
        "        tickvals = ['CT','FT', 'PT', 'FL'],\n",
        "        ticktext = ['Contrata', 'Tiempo completo', 'Tiempo parcial', 'Independiente']\n",
        "    )\n",
        ")\n",
        "\n",
        "newnames = {'EX':'Director','SE':'Experto','MI': 'Intermedio', 'EN':'Básico'};\n",
        "fig.for_each_trace(lambda t: t.update(name = newnames[t.name]))\n",
        "fig.show()"
      ]
    },
    {
      "cell_type": "markdown",
      "metadata": {
        "id": "f7Tvi8n_9Myx"
      },
      "source": [
        "Mapeo visual: \n",
        "- El eje x representa el tipo de empleo (o contrato), mientras que el eje y representa el salario promedio en dólares.\n",
        "- El color representa el nivel de experiencia, para lo que se utilizó una escala de colores secuencial. El color oscuro corresponde a la mayor experiencia (Director), mientras que el más claro a la menor experiencia (Básico).\n",
        "\n",
        "Interpretación del gráfico: \n",
        "- Se observa que las personas que trabajan a tiempo parcial tienen un bajo nivel de experiencia y son los que presentan menores ingresos. Asimismo, los que trabajan de forma independiente reciben menos salario que los de tiempo completo y a contrata.\n",
        "- En todos los tipos de empleo se observa que a mayor experiencia (de básico a director), aumenta el salario, excepto para el tipo de empleo a contrata, donde la experiencia experto tiene menor salario que el intermedio.\n",
        "- En términos generales, los sueldos más altos se encuentran en el tipo de empleo a contrata.\n"
      ]
    },
    {
      "cell_type": "markdown",
      "metadata": {
        "id": "C_4ZbIoOziC3"
      },
      "source": [
        "**Pregunta 3:** Visualice la distribución de los salarios (en usd) según el tamaño de la compañía. Se recomienda ocupar histograma o boxplot."
      ]
    },
    {
      "cell_type": "code",
      "execution_count": 7,
      "metadata": {
        "colab": {
          "base_uri": "https://localhost:8080/",
          "height": 517
        },
        "id": "mWHVZP1TWvOJ",
        "outputId": "57396ead-b2f0-4901-97a9-302e50e9ad31"
      },
      "outputs": [
        {
          "data": {
            "application/vnd.plotly.v1+json": {
              "config": {
                "plotlyServerURL": "https://plot.ly"
              },
              "data": [
                {
                  "alignmentgroup": "True",
                  "hovertemplate": "Tamaño de la compañía=%{x}<br>Salario en USD=%{y}<extra></extra>",
                  "legendgroup": "S",
                  "marker": {
                    "color": "#41b6c4"
                  },
                  "name": "S",
                  "notched": false,
                  "offsetgroup": "S",
                  "orientation": "v",
                  "showlegend": true,
                  "type": "box",
                  "x": [
                    "S",
                    "S",
                    "S",
                    "S",
                    "S",
                    "S",
                    "S",
                    "S",
                    "S",
                    "S",
                    "S",
                    "S",
                    "S",
                    "S",
                    "S",
                    "S",
                    "S",
                    "S",
                    "S",
                    "S",
                    "S",
                    "S",
                    "S",
                    "S",
                    "S",
                    "S",
                    "S",
                    "S",
                    "S",
                    "S",
                    "S",
                    "S",
                    "S",
                    "S",
                    "S",
                    "S",
                    "S",
                    "S",
                    "S",
                    "S",
                    "S",
                    "S",
                    "S",
                    "S",
                    "S",
                    "S",
                    "S",
                    "S",
                    "S",
                    "S",
                    "S",
                    "S",
                    "S",
                    "S",
                    "S",
                    "S",
                    "S",
                    "S",
                    "S",
                    "S",
                    "S",
                    "S",
                    "S",
                    "S",
                    "S",
                    "S",
                    "S",
                    "S",
                    "S",
                    "S",
                    "S",
                    "S",
                    "S",
                    "S",
                    "S",
                    "S",
                    "S",
                    "S",
                    "S",
                    "S",
                    "S",
                    "S",
                    "S"
                  ],
                  "x0": " ",
                  "xaxis": "x",
                  "y": [
                    260000,
                    20000,
                    190000,
                    125000,
                    51321,
                    41689,
                    114047,
                    33511,
                    59303,
                    10000,
                    138000,
                    45760,
                    15966,
                    76958,
                    6072,
                    45896,
                    60000,
                    21669,
                    45618,
                    62726,
                    49268,
                    105000,
                    91237,
                    62726,
                    42197,
                    47282,
                    80000,
                    76833,
                    12000,
                    95746,
                    115000,
                    103160,
                    90000,
                    120000,
                    9466,
                    20000,
                    100000,
                    100000,
                    63711,
                    77364,
                    82500,
                    160000,
                    168000,
                    125000,
                    55000,
                    60000,
                    2859,
                    81000,
                    5679,
                    69741,
                    76833,
                    74000,
                    18000,
                    9272,
                    90000,
                    50000,
                    12901,
                    56738,
                    66022,
                    28609,
                    416000,
                    87738,
                    256000,
                    110000,
                    18053,
                    90000,
                    16904,
                    25532,
                    160000,
                    85000,
                    58000,
                    118187,
                    58000,
                    120000,
                    120000,
                    65000,
                    75000,
                    32974,
                    150000,
                    65000,
                    71444,
                    48000,
                    20000
                  ],
                  "y0": " ",
                  "yaxis": "y"
                },
                {
                  "alignmentgroup": "True",
                  "hovertemplate": "Tamaño de la compañía=%{x}<br>Salario en USD=%{y}<extra></extra>",
                  "legendgroup": "M",
                  "marker": {
                    "color": "#2c7fb8"
                  },
                  "name": "M",
                  "notched": false,
                  "offsetgroup": "M",
                  "orientation": "v",
                  "showlegend": true,
                  "type": "box",
                  "x": [
                    "M",
                    "M",
                    "M",
                    "M",
                    "M",
                    "M",
                    "M",
                    "M",
                    "M",
                    "M",
                    "M",
                    "M",
                    "M",
                    "M",
                    "M",
                    "M",
                    "M",
                    "M",
                    "M",
                    "M",
                    "M",
                    "M",
                    "M",
                    "M",
                    "M",
                    "M",
                    "M",
                    "M",
                    "M",
                    "M",
                    "M",
                    "M",
                    "M",
                    "M",
                    "M",
                    "M",
                    "M",
                    "M",
                    "M",
                    "M",
                    "M",
                    "M",
                    "M",
                    "M",
                    "M",
                    "M",
                    "M",
                    "M",
                    "M",
                    "M",
                    "M",
                    "M",
                    "M",
                    "M",
                    "M",
                    "M",
                    "M",
                    "M",
                    "M",
                    "M",
                    "M",
                    "M",
                    "M",
                    "M",
                    "M",
                    "M",
                    "M",
                    "M",
                    "M",
                    "M",
                    "M",
                    "M",
                    "M",
                    "M",
                    "M",
                    "M",
                    "M",
                    "M",
                    "M",
                    "M",
                    "M",
                    "M",
                    "M",
                    "M",
                    "M",
                    "M",
                    "M",
                    "M",
                    "M",
                    "M",
                    "M",
                    "M",
                    "M",
                    "M",
                    "M",
                    "M",
                    "M",
                    "M",
                    "M",
                    "M",
                    "M",
                    "M",
                    "M",
                    "M",
                    "M",
                    "M",
                    "M",
                    "M",
                    "M",
                    "M",
                    "M",
                    "M",
                    "M",
                    "M",
                    "M",
                    "M",
                    "M",
                    "M",
                    "M",
                    "M",
                    "M",
                    "M",
                    "M",
                    "M",
                    "M",
                    "M",
                    "M",
                    "M",
                    "M",
                    "M",
                    "M",
                    "M",
                    "M",
                    "M",
                    "M",
                    "M",
                    "M",
                    "M",
                    "M",
                    "M",
                    "M",
                    "M",
                    "M",
                    "M",
                    "M",
                    "M",
                    "M",
                    "M",
                    "M",
                    "M",
                    "M",
                    "M",
                    "M",
                    "M",
                    "M",
                    "M",
                    "M",
                    "M",
                    "M",
                    "M",
                    "M",
                    "M",
                    "M",
                    "M",
                    "M",
                    "M",
                    "M",
                    "M",
                    "M",
                    "M",
                    "M",
                    "M",
                    "M",
                    "M",
                    "M",
                    "M",
                    "M",
                    "M",
                    "M",
                    "M",
                    "M",
                    "M",
                    "M",
                    "M",
                    "M",
                    "M",
                    "M",
                    "M",
                    "M",
                    "M",
                    "M",
                    "M",
                    "M",
                    "M",
                    "M",
                    "M",
                    "M",
                    "M",
                    "M",
                    "M",
                    "M",
                    "M",
                    "M",
                    "M",
                    "M",
                    "M",
                    "M",
                    "M",
                    "M",
                    "M",
                    "M",
                    "M",
                    "M",
                    "M",
                    "M",
                    "M",
                    "M",
                    "M",
                    "M",
                    "M",
                    "M",
                    "M",
                    "M",
                    "M",
                    "M",
                    "M",
                    "M",
                    "M",
                    "M",
                    "M",
                    "M",
                    "M",
                    "M",
                    "M",
                    "M",
                    "M",
                    "M",
                    "M",
                    "M",
                    "M",
                    "M",
                    "M",
                    "M",
                    "M",
                    "M",
                    "M",
                    "M",
                    "M",
                    "M",
                    "M",
                    "M",
                    "M",
                    "M",
                    "M",
                    "M",
                    "M",
                    "M",
                    "M",
                    "M",
                    "M",
                    "M",
                    "M",
                    "M",
                    "M",
                    "M",
                    "M",
                    "M",
                    "M",
                    "M",
                    "M",
                    "M",
                    "M",
                    "M",
                    "M",
                    "M",
                    "M",
                    "M",
                    "M",
                    "M",
                    "M",
                    "M",
                    "M",
                    "M",
                    "M",
                    "M",
                    "M",
                    "M",
                    "M",
                    "M",
                    "M",
                    "M",
                    "M",
                    "M",
                    "M",
                    "M",
                    "M",
                    "M",
                    "M",
                    "M",
                    "M",
                    "M",
                    "M",
                    "M",
                    "M",
                    "M",
                    "M",
                    "M",
                    "M",
                    "M",
                    "M",
                    "M",
                    "M",
                    "M",
                    "M",
                    "M",
                    "M",
                    "M",
                    "M",
                    "M",
                    "M",
                    "M",
                    "M",
                    "M",
                    "M",
                    "M",
                    "M"
                  ],
                  "x0": " ",
                  "xaxis": "x",
                  "y": [
                    109024,
                    39916,
                    5707,
                    56000,
                    43331,
                    98000,
                    450000,
                    50180,
                    148261,
                    38776,
                    118000,
                    138350,
                    130800,
                    190200,
                    100000,
                    5409,
                    80000,
                    59102,
                    70000,
                    150000,
                    113476,
                    12000,
                    40189,
                    60000,
                    200000,
                    50000,
                    10354,
                    49646,
                    38400,
                    24000,
                    90000,
                    80000,
                    82744,
                    62649,
                    150000,
                    119059,
                    120000,
                    85000,
                    130026,
                    12000,
                    4000,
                    50000,
                    21844,
                    61467,
                    195000,
                    165000,
                    24823,
                    88654,
                    33808,
                    71786,
                    63810,
                    46809,
                    4000,
                    21637,
                    12103,
                    170000,
                    28399,
                    99703,
                    173762,
                    93150,
                    111775,
                    28016,
                    65013,
                    18907,
                    77684,
                    100000,
                    105000,
                    135000,
                    155000,
                    120600,
                    130000,
                    90000,
                    170000,
                    150000,
                    102100,
                    84900,
                    136620,
                    99360,
                    117789,
                    104702,
                    146000,
                    123000,
                    52351,
                    99000,
                    116000,
                    106260,
                    126500,
                    242000,
                    200000,
                    65438,
                    39263,
                    78526,
                    52351,
                    165220,
                    45807,
                    120160,
                    90320,
                    181940,
                    132320,
                    220110,
                    160080,
                    124190,
                    130000,
                    110000,
                    170000,
                    115500,
                    112900,
                    90320,
                    112900,
                    90320,
                    165400,
                    132320,
                    167000,
                    243900,
                    136600,
                    109280,
                    128875,
                    93700,
                    224000,
                    167875,
                    175000,
                    156600,
                    108800,
                    95550,
                    135000,
                    161342,
                    137141,
                    167000,
                    123000,
                    78526,
                    65438,
                    150000,
                    211500,
                    192400,
                    90700,
                    130000,
                    61300,
                    130000,
                    61300,
                    138600,
                    136000,
                    135000,
                    170000,
                    123000,
                    189650,
                    164996,
                    54957,
                    54957,
                    132000,
                    165400,
                    208775,
                    147800,
                    136994,
                    101570,
                    128875,
                    93700,
                    132320,
                    164000,
                    155000,
                    124333,
                    98158,
                    120000,
                    112900,
                    90320,
                    145000,
                    105400,
                    87932,
                    117789,
                    115934,
                    81666,
                    175000,
                    98158,
                    52351,
                    180000,
                    71982,
                    45807,
                    65949,
                    49461,
                    78526,
                    58894,
                    260000,
                    63900,
                    241000,
                    159000,
                    180000,
                    80000,
                    82900,
                    49461,
                    39263,
                    43966,
                    32974,
                    87932,
                    76940,
                    104702,
                    91614,
                    65949,
                    87932,
                    189650,
                    164996,
                    43966,
                    32974,
                    98158,
                    78526,
                    76940,
                    180000,
                    80000,
                    78791,
                    125000,
                    105000,
                    87932,
                    18442,
                    18442,
                    162674,
                    120000,
                    104890,
                    100000,
                    140000,
                    135000,
                    50000,
                    220000,
                    140000,
                    183228,
                    91614,
                    185100,
                    220000,
                    200000,
                    120000,
                    324000,
                    216000,
                    210000,
                    120000,
                    230000,
                    100000,
                    100000,
                    31875,
                    200000,
                    78791,
                    100000,
                    153000,
                    58035,
                    165000,
                    115000,
                    86703,
                    20000,
                    152500,
                    68147,
                    69336,
                    10000,
                    78000,
                    135000,
                    100000,
                    90320,
                    85000,
                    75000,
                    214000,
                    192600,
                    266400,
                    213120,
                    112900,
                    155000,
                    141300,
                    102100,
                    115934,
                    81666,
                    206699,
                    99100,
                    130000,
                    115000,
                    110500,
                    130000,
                    99050,
                    160000,
                    176000,
                    144000,
                    200100,
                    160000,
                    145000,
                    70500,
                    205300,
                    140400,
                    205300,
                    184700,
                    175100,
                    140250,
                    116150,
                    54000,
                    170000,
                    65438,
                    80000,
                    140000,
                    210000,
                    140000,
                    100000,
                    69000,
                    210000,
                    140000,
                    210000,
                    150075,
                    100000,
                    25000,
                    126500,
                    106260,
                    220110,
                    160080,
                    105000,
                    110925,
                    45807,
                    140000,
                    99000,
                    60000,
                    192564,
                    144854,
                    230000,
                    150000,
                    150260,
                    109280,
                    210000,
                    170000,
                    160000,
                    130000,
                    67000,
                    52000,
                    154000,
                    126000,
                    129000,
                    150000
                  ],
                  "y0": " ",
                  "yaxis": "y"
                },
                {
                  "alignmentgroup": "True",
                  "hovertemplate": "Tamaño de la compañía=%{x}<br>Salario en USD=%{y}<extra></extra>",
                  "legendgroup": "L",
                  "marker": {
                    "color": "#253494"
                  },
                  "name": "L",
                  "notched": false,
                  "offsetgroup": "L",
                  "orientation": "v",
                  "showlegend": true,
                  "type": "box",
                  "x": [
                    "L",
                    "L",
                    "L",
                    "L",
                    "L",
                    "L",
                    "L",
                    "L",
                    "L",
                    "L",
                    "L",
                    "L",
                    "L",
                    "L",
                    "L",
                    "L",
                    "L",
                    "L",
                    "L",
                    "L",
                    "L",
                    "L",
                    "L",
                    "L",
                    "L",
                    "L",
                    "L",
                    "L",
                    "L",
                    "L",
                    "L",
                    "L",
                    "L",
                    "L",
                    "L",
                    "L",
                    "L",
                    "L",
                    "L",
                    "L",
                    "L",
                    "L",
                    "L",
                    "L",
                    "L",
                    "L",
                    "L",
                    "L",
                    "L",
                    "L",
                    "L",
                    "L",
                    "L",
                    "L",
                    "L",
                    "L",
                    "L",
                    "L",
                    "L",
                    "L",
                    "L",
                    "L",
                    "L",
                    "L",
                    "L",
                    "L",
                    "L",
                    "L",
                    "L",
                    "L",
                    "L",
                    "L",
                    "L",
                    "L",
                    "L",
                    "L",
                    "L",
                    "L",
                    "L",
                    "L",
                    "L",
                    "L",
                    "L",
                    "L",
                    "L",
                    "L",
                    "L",
                    "L",
                    "L",
                    "L",
                    "L",
                    "L",
                    "L",
                    "L",
                    "L",
                    "L",
                    "L",
                    "L",
                    "L",
                    "L",
                    "L",
                    "L",
                    "L",
                    "L",
                    "L",
                    "L",
                    "L",
                    "L",
                    "L",
                    "L",
                    "L",
                    "L",
                    "L",
                    "L",
                    "L",
                    "L",
                    "L",
                    "L",
                    "L",
                    "L",
                    "L",
                    "L",
                    "L",
                    "L",
                    "L",
                    "L",
                    "L",
                    "L",
                    "L",
                    "L",
                    "L",
                    "L",
                    "L",
                    "L",
                    "L",
                    "L",
                    "L",
                    "L",
                    "L",
                    "L",
                    "L",
                    "L",
                    "L",
                    "L",
                    "L",
                    "L",
                    "L",
                    "L",
                    "L",
                    "L",
                    "L",
                    "L",
                    "L",
                    "L",
                    "L",
                    "L",
                    "L",
                    "L",
                    "L",
                    "L",
                    "L",
                    "L",
                    "L",
                    "L",
                    "L",
                    "L",
                    "L",
                    "L",
                    "L",
                    "L",
                    "L",
                    "L",
                    "L",
                    "L",
                    "L",
                    "L",
                    "L",
                    "L",
                    "L",
                    "L",
                    "L",
                    "L",
                    "L",
                    "L",
                    "L",
                    "L",
                    "L",
                    "L",
                    "L",
                    "L",
                    "L",
                    "L",
                    "L",
                    "L",
                    "L",
                    "L",
                    "L",
                    "L"
                  ],
                  "x0": " ",
                  "xaxis": "x",
                  "y": [
                    79833,
                    150000,
                    72000,
                    35735,
                    135000,
                    40481,
                    87000,
                    85000,
                    8000,
                    6072,
                    47899,
                    115000,
                    325000,
                    42000,
                    100000,
                    117104,
                    70000,
                    68428,
                    46759,
                    74130,
                    103000,
                    250000,
                    79833,
                    106000,
                    112872,
                    188000,
                    105000,
                    70139,
                    91000,
                    54742,
                    120000,
                    110000,
                    412000,
                    82528,
                    150000,
                    235000,
                    53192,
                    270000,
                    79197,
                    140000,
                    54238,
                    153667,
                    28476,
                    110000,
                    170000,
                    88654,
                    19609,
                    276000,
                    29751,
                    89294,
                    450000,
                    75000,
                    150000,
                    36259,
                    62000,
                    73000,
                    51519,
                    187442,
                    30428,
                    94564,
                    45391,
                    225000,
                    50000,
                    200000,
                    110037,
                    151000,
                    40570,
                    220000,
                    135000,
                    240000,
                    150000,
                    100000,
                    90000,
                    153000,
                    75774,
                    13400,
                    144000,
                    127221,
                    423000,
                    230000,
                    28369,
                    63831,
                    165000,
                    80000,
                    250000,
                    150000,
                    170000,
                    82528,
                    235000,
                    60757,
                    174000,
                    40038,
                    22611,
                    90734,
                    26005,
                    61896,
                    152000,
                    174000,
                    96113,
                    147000,
                    24342,
                    54094,
                    37825,
                    160000,
                    200000,
                    20000,
                    120000,
                    24823,
                    5882,
                    185000,
                    90734,
                    140000,
                    46597,
                    116914,
                    56256,
                    225000,
                    88654,
                    135000,
                    16228,
                    200000,
                    200000,
                    180000,
                    103691,
                    80000,
                    110000,
                    165000,
                    72212,
                    36643,
                    96282,
                    115000,
                    600000,
                    93000,
                    200000,
                    185000,
                    141846,
                    130000,
                    63831,
                    66265,
                    72500,
                    76833,
                    58000,
                    55000,
                    20171,
                    59102,
                    112000,
                    100000,
                    69741,
                    69999,
                    94665,
                    102839,
                    109000,
                    51064,
                    180000,
                    120000,
                    113000,
                    160000,
                    79039,
                    37300,
                    215300,
                    158200,
                    209100,
                    154600,
                    183600,
                    60000,
                    160000,
                    112300,
                    100800,
                    140400,
                    215300,
                    209100,
                    154600,
                    21983,
                    196979,
                    37236,
                    31615,
                    58255,
                    100000,
                    54957,
                    144000,
                    35590,
                    93427,
                    52396,
                    62651,
                    40000,
                    87425,
                    75000,
                    64849,
                    120000,
                    157000,
                    70912,
                    122346,
                    380000,
                    405000,
                    135000,
                    177000,
                    205300,
                    140400,
                    200000
                  ],
                  "y0": " ",
                  "yaxis": "y"
                }
              ],
              "layout": {
                "boxmode": "overlay",
                "height": 500,
                "legend": {
                  "title": {
                    "text": "Tamaño de la compañía"
                  },
                  "tracegroupgap": 0
                },
                "showlegend": false,
                "template": {
                  "data": {
                    "bar": [
                      {
                        "error_x": {
                          "color": "#2a3f5f"
                        },
                        "error_y": {
                          "color": "#2a3f5f"
                        },
                        "marker": {
                          "line": {
                            "color": "#E5ECF6",
                            "width": 0.5
                          },
                          "pattern": {
                            "fillmode": "overlay",
                            "size": 10,
                            "solidity": 0.2
                          }
                        },
                        "type": "bar"
                      }
                    ],
                    "barpolar": [
                      {
                        "marker": {
                          "line": {
                            "color": "#E5ECF6",
                            "width": 0.5
                          },
                          "pattern": {
                            "fillmode": "overlay",
                            "size": 10,
                            "solidity": 0.2
                          }
                        },
                        "type": "barpolar"
                      }
                    ],
                    "carpet": [
                      {
                        "aaxis": {
                          "endlinecolor": "#2a3f5f",
                          "gridcolor": "white",
                          "linecolor": "white",
                          "minorgridcolor": "white",
                          "startlinecolor": "#2a3f5f"
                        },
                        "baxis": {
                          "endlinecolor": "#2a3f5f",
                          "gridcolor": "white",
                          "linecolor": "white",
                          "minorgridcolor": "white",
                          "startlinecolor": "#2a3f5f"
                        },
                        "type": "carpet"
                      }
                    ],
                    "choropleth": [
                      {
                        "colorbar": {
                          "outlinewidth": 0,
                          "ticks": ""
                        },
                        "type": "choropleth"
                      }
                    ],
                    "contour": [
                      {
                        "colorbar": {
                          "outlinewidth": 0,
                          "ticks": ""
                        },
                        "colorscale": [
                          [
                            0,
                            "#0d0887"
                          ],
                          [
                            0.1111111111111111,
                            "#46039f"
                          ],
                          [
                            0.2222222222222222,
                            "#7201a8"
                          ],
                          [
                            0.3333333333333333,
                            "#9c179e"
                          ],
                          [
                            0.4444444444444444,
                            "#bd3786"
                          ],
                          [
                            0.5555555555555556,
                            "#d8576b"
                          ],
                          [
                            0.6666666666666666,
                            "#ed7953"
                          ],
                          [
                            0.7777777777777778,
                            "#fb9f3a"
                          ],
                          [
                            0.8888888888888888,
                            "#fdca26"
                          ],
                          [
                            1,
                            "#f0f921"
                          ]
                        ],
                        "type": "contour"
                      }
                    ],
                    "contourcarpet": [
                      {
                        "colorbar": {
                          "outlinewidth": 0,
                          "ticks": ""
                        },
                        "type": "contourcarpet"
                      }
                    ],
                    "heatmap": [
                      {
                        "colorbar": {
                          "outlinewidth": 0,
                          "ticks": ""
                        },
                        "colorscale": [
                          [
                            0,
                            "#0d0887"
                          ],
                          [
                            0.1111111111111111,
                            "#46039f"
                          ],
                          [
                            0.2222222222222222,
                            "#7201a8"
                          ],
                          [
                            0.3333333333333333,
                            "#9c179e"
                          ],
                          [
                            0.4444444444444444,
                            "#bd3786"
                          ],
                          [
                            0.5555555555555556,
                            "#d8576b"
                          ],
                          [
                            0.6666666666666666,
                            "#ed7953"
                          ],
                          [
                            0.7777777777777778,
                            "#fb9f3a"
                          ],
                          [
                            0.8888888888888888,
                            "#fdca26"
                          ],
                          [
                            1,
                            "#f0f921"
                          ]
                        ],
                        "type": "heatmap"
                      }
                    ],
                    "heatmapgl": [
                      {
                        "colorbar": {
                          "outlinewidth": 0,
                          "ticks": ""
                        },
                        "colorscale": [
                          [
                            0,
                            "#0d0887"
                          ],
                          [
                            0.1111111111111111,
                            "#46039f"
                          ],
                          [
                            0.2222222222222222,
                            "#7201a8"
                          ],
                          [
                            0.3333333333333333,
                            "#9c179e"
                          ],
                          [
                            0.4444444444444444,
                            "#bd3786"
                          ],
                          [
                            0.5555555555555556,
                            "#d8576b"
                          ],
                          [
                            0.6666666666666666,
                            "#ed7953"
                          ],
                          [
                            0.7777777777777778,
                            "#fb9f3a"
                          ],
                          [
                            0.8888888888888888,
                            "#fdca26"
                          ],
                          [
                            1,
                            "#f0f921"
                          ]
                        ],
                        "type": "heatmapgl"
                      }
                    ],
                    "histogram": [
                      {
                        "marker": {
                          "pattern": {
                            "fillmode": "overlay",
                            "size": 10,
                            "solidity": 0.2
                          }
                        },
                        "type": "histogram"
                      }
                    ],
                    "histogram2d": [
                      {
                        "colorbar": {
                          "outlinewidth": 0,
                          "ticks": ""
                        },
                        "colorscale": [
                          [
                            0,
                            "#0d0887"
                          ],
                          [
                            0.1111111111111111,
                            "#46039f"
                          ],
                          [
                            0.2222222222222222,
                            "#7201a8"
                          ],
                          [
                            0.3333333333333333,
                            "#9c179e"
                          ],
                          [
                            0.4444444444444444,
                            "#bd3786"
                          ],
                          [
                            0.5555555555555556,
                            "#d8576b"
                          ],
                          [
                            0.6666666666666666,
                            "#ed7953"
                          ],
                          [
                            0.7777777777777778,
                            "#fb9f3a"
                          ],
                          [
                            0.8888888888888888,
                            "#fdca26"
                          ],
                          [
                            1,
                            "#f0f921"
                          ]
                        ],
                        "type": "histogram2d"
                      }
                    ],
                    "histogram2dcontour": [
                      {
                        "colorbar": {
                          "outlinewidth": 0,
                          "ticks": ""
                        },
                        "colorscale": [
                          [
                            0,
                            "#0d0887"
                          ],
                          [
                            0.1111111111111111,
                            "#46039f"
                          ],
                          [
                            0.2222222222222222,
                            "#7201a8"
                          ],
                          [
                            0.3333333333333333,
                            "#9c179e"
                          ],
                          [
                            0.4444444444444444,
                            "#bd3786"
                          ],
                          [
                            0.5555555555555556,
                            "#d8576b"
                          ],
                          [
                            0.6666666666666666,
                            "#ed7953"
                          ],
                          [
                            0.7777777777777778,
                            "#fb9f3a"
                          ],
                          [
                            0.8888888888888888,
                            "#fdca26"
                          ],
                          [
                            1,
                            "#f0f921"
                          ]
                        ],
                        "type": "histogram2dcontour"
                      }
                    ],
                    "mesh3d": [
                      {
                        "colorbar": {
                          "outlinewidth": 0,
                          "ticks": ""
                        },
                        "type": "mesh3d"
                      }
                    ],
                    "parcoords": [
                      {
                        "line": {
                          "colorbar": {
                            "outlinewidth": 0,
                            "ticks": ""
                          }
                        },
                        "type": "parcoords"
                      }
                    ],
                    "pie": [
                      {
                        "automargin": true,
                        "type": "pie"
                      }
                    ],
                    "scatter": [
                      {
                        "fillpattern": {
                          "fillmode": "overlay",
                          "size": 10,
                          "solidity": 0.2
                        },
                        "type": "scatter"
                      }
                    ],
                    "scatter3d": [
                      {
                        "line": {
                          "colorbar": {
                            "outlinewidth": 0,
                            "ticks": ""
                          }
                        },
                        "marker": {
                          "colorbar": {
                            "outlinewidth": 0,
                            "ticks": ""
                          }
                        },
                        "type": "scatter3d"
                      }
                    ],
                    "scattercarpet": [
                      {
                        "marker": {
                          "colorbar": {
                            "outlinewidth": 0,
                            "ticks": ""
                          }
                        },
                        "type": "scattercarpet"
                      }
                    ],
                    "scattergeo": [
                      {
                        "marker": {
                          "colorbar": {
                            "outlinewidth": 0,
                            "ticks": ""
                          }
                        },
                        "type": "scattergeo"
                      }
                    ],
                    "scattergl": [
                      {
                        "marker": {
                          "colorbar": {
                            "outlinewidth": 0,
                            "ticks": ""
                          }
                        },
                        "type": "scattergl"
                      }
                    ],
                    "scattermapbox": [
                      {
                        "marker": {
                          "colorbar": {
                            "outlinewidth": 0,
                            "ticks": ""
                          }
                        },
                        "type": "scattermapbox"
                      }
                    ],
                    "scatterpolar": [
                      {
                        "marker": {
                          "colorbar": {
                            "outlinewidth": 0,
                            "ticks": ""
                          }
                        },
                        "type": "scatterpolar"
                      }
                    ],
                    "scatterpolargl": [
                      {
                        "marker": {
                          "colorbar": {
                            "outlinewidth": 0,
                            "ticks": ""
                          }
                        },
                        "type": "scatterpolargl"
                      }
                    ],
                    "scatterternary": [
                      {
                        "marker": {
                          "colorbar": {
                            "outlinewidth": 0,
                            "ticks": ""
                          }
                        },
                        "type": "scatterternary"
                      }
                    ],
                    "surface": [
                      {
                        "colorbar": {
                          "outlinewidth": 0,
                          "ticks": ""
                        },
                        "colorscale": [
                          [
                            0,
                            "#0d0887"
                          ],
                          [
                            0.1111111111111111,
                            "#46039f"
                          ],
                          [
                            0.2222222222222222,
                            "#7201a8"
                          ],
                          [
                            0.3333333333333333,
                            "#9c179e"
                          ],
                          [
                            0.4444444444444444,
                            "#bd3786"
                          ],
                          [
                            0.5555555555555556,
                            "#d8576b"
                          ],
                          [
                            0.6666666666666666,
                            "#ed7953"
                          ],
                          [
                            0.7777777777777778,
                            "#fb9f3a"
                          ],
                          [
                            0.8888888888888888,
                            "#fdca26"
                          ],
                          [
                            1,
                            "#f0f921"
                          ]
                        ],
                        "type": "surface"
                      }
                    ],
                    "table": [
                      {
                        "cells": {
                          "fill": {
                            "color": "#EBF0F8"
                          },
                          "line": {
                            "color": "white"
                          }
                        },
                        "header": {
                          "fill": {
                            "color": "#C8D4E3"
                          },
                          "line": {
                            "color": "white"
                          }
                        },
                        "type": "table"
                      }
                    ]
                  },
                  "layout": {
                    "annotationdefaults": {
                      "arrowcolor": "#2a3f5f",
                      "arrowhead": 0,
                      "arrowwidth": 1
                    },
                    "autotypenumbers": "strict",
                    "coloraxis": {
                      "colorbar": {
                        "outlinewidth": 0,
                        "ticks": ""
                      }
                    },
                    "colorscale": {
                      "diverging": [
                        [
                          0,
                          "#8e0152"
                        ],
                        [
                          0.1,
                          "#c51b7d"
                        ],
                        [
                          0.2,
                          "#de77ae"
                        ],
                        [
                          0.3,
                          "#f1b6da"
                        ],
                        [
                          0.4,
                          "#fde0ef"
                        ],
                        [
                          0.5,
                          "#f7f7f7"
                        ],
                        [
                          0.6,
                          "#e6f5d0"
                        ],
                        [
                          0.7,
                          "#b8e186"
                        ],
                        [
                          0.8,
                          "#7fbc41"
                        ],
                        [
                          0.9,
                          "#4d9221"
                        ],
                        [
                          1,
                          "#276419"
                        ]
                      ],
                      "sequential": [
                        [
                          0,
                          "#0d0887"
                        ],
                        [
                          0.1111111111111111,
                          "#46039f"
                        ],
                        [
                          0.2222222222222222,
                          "#7201a8"
                        ],
                        [
                          0.3333333333333333,
                          "#9c179e"
                        ],
                        [
                          0.4444444444444444,
                          "#bd3786"
                        ],
                        [
                          0.5555555555555556,
                          "#d8576b"
                        ],
                        [
                          0.6666666666666666,
                          "#ed7953"
                        ],
                        [
                          0.7777777777777778,
                          "#fb9f3a"
                        ],
                        [
                          0.8888888888888888,
                          "#fdca26"
                        ],
                        [
                          1,
                          "#f0f921"
                        ]
                      ],
                      "sequentialminus": [
                        [
                          0,
                          "#0d0887"
                        ],
                        [
                          0.1111111111111111,
                          "#46039f"
                        ],
                        [
                          0.2222222222222222,
                          "#7201a8"
                        ],
                        [
                          0.3333333333333333,
                          "#9c179e"
                        ],
                        [
                          0.4444444444444444,
                          "#bd3786"
                        ],
                        [
                          0.5555555555555556,
                          "#d8576b"
                        ],
                        [
                          0.6666666666666666,
                          "#ed7953"
                        ],
                        [
                          0.7777777777777778,
                          "#fb9f3a"
                        ],
                        [
                          0.8888888888888888,
                          "#fdca26"
                        ],
                        [
                          1,
                          "#f0f921"
                        ]
                      ]
                    },
                    "colorway": [
                      "#636efa",
                      "#EF553B",
                      "#00cc96",
                      "#ab63fa",
                      "#FFA15A",
                      "#19d3f3",
                      "#FF6692",
                      "#B6E880",
                      "#FF97FF",
                      "#FECB52"
                    ],
                    "font": {
                      "color": "#2a3f5f"
                    },
                    "geo": {
                      "bgcolor": "white",
                      "lakecolor": "white",
                      "landcolor": "#E5ECF6",
                      "showlakes": true,
                      "showland": true,
                      "subunitcolor": "white"
                    },
                    "hoverlabel": {
                      "align": "left"
                    },
                    "hovermode": "closest",
                    "mapbox": {
                      "style": "light"
                    },
                    "paper_bgcolor": "white",
                    "plot_bgcolor": "#E5ECF6",
                    "polar": {
                      "angularaxis": {
                        "gridcolor": "white",
                        "linecolor": "white",
                        "ticks": ""
                      },
                      "bgcolor": "#E5ECF6",
                      "radialaxis": {
                        "gridcolor": "white",
                        "linecolor": "white",
                        "ticks": ""
                      }
                    },
                    "scene": {
                      "xaxis": {
                        "backgroundcolor": "#E5ECF6",
                        "gridcolor": "white",
                        "gridwidth": 2,
                        "linecolor": "white",
                        "showbackground": true,
                        "ticks": "",
                        "zerolinecolor": "white"
                      },
                      "yaxis": {
                        "backgroundcolor": "#E5ECF6",
                        "gridcolor": "white",
                        "gridwidth": 2,
                        "linecolor": "white",
                        "showbackground": true,
                        "ticks": "",
                        "zerolinecolor": "white"
                      },
                      "zaxis": {
                        "backgroundcolor": "#E5ECF6",
                        "gridcolor": "white",
                        "gridwidth": 2,
                        "linecolor": "white",
                        "showbackground": true,
                        "ticks": "",
                        "zerolinecolor": "white"
                      }
                    },
                    "shapedefaults": {
                      "line": {
                        "color": "#2a3f5f"
                      }
                    },
                    "ternary": {
                      "aaxis": {
                        "gridcolor": "white",
                        "linecolor": "white",
                        "ticks": ""
                      },
                      "baxis": {
                        "gridcolor": "white",
                        "linecolor": "white",
                        "ticks": ""
                      },
                      "bgcolor": "#E5ECF6",
                      "caxis": {
                        "gridcolor": "white",
                        "linecolor": "white",
                        "ticks": ""
                      }
                    },
                    "title": {
                      "x": 0.05
                    },
                    "xaxis": {
                      "automargin": true,
                      "gridcolor": "white",
                      "linecolor": "white",
                      "ticks": "",
                      "title": {
                        "standoff": 15
                      },
                      "zerolinecolor": "white",
                      "zerolinewidth": 2
                    },
                    "yaxis": {
                      "automargin": true,
                      "gridcolor": "white",
                      "linecolor": "white",
                      "ticks": "",
                      "title": {
                        "standoff": 15
                      },
                      "zerolinecolor": "white",
                      "zerolinewidth": 2
                    }
                  }
                },
                "title": {
                  "text": "Distribución de salario según el tamaño de la compañía"
                },
                "width": 500,
                "xaxis": {
                  "anchor": "y",
                  "categoryarray": [
                    "S",
                    "M",
                    "L"
                  ],
                  "categoryorder": "array",
                  "domain": [
                    0,
                    1
                  ],
                  "ticktext": [
                    "Grande",
                    "Mediana",
                    "Pequeña"
                  ],
                  "tickvals": [
                    "L",
                    "M",
                    "S"
                  ],
                  "title": {
                    "text": "Tamaño de la compañía"
                  }
                },
                "yaxis": {
                  "anchor": "x",
                  "domain": [
                    0,
                    1
                  ],
                  "title": {
                    "text": "Salario en USD"
                  }
                }
              }
            }
          },
          "metadata": {},
          "output_type": "display_data"
        }
      ],
      "source": [
        "fig = px.box(data,\n",
        "             color=\"company_size\",\n",
        "             x=\"company_size\",\n",
        "             y=\"salary_in_usd\",\n",
        "             title=\"Distribución de salario según el tamaño de la compañía\",\n",
        "             labels = {'company_size': 'Tamaño de la compañía', 'salary_in_usd': 'Salario en USD'},\n",
        "             category_orders={'company_size':['S','M', 'L']},\n",
        "              color_discrete_sequence=(\"#41b6c4\",\"#2c7fb8\",\"#253494\"),\n",
        "             width=500, height=500)\n",
        "\n",
        "fig = fig.update_layout(showlegend=False)\n",
        "fig.update_layout(\n",
        "    xaxis = dict(\n",
        "        tickvals = ['L','M', 'S'],\n",
        "        ticktext = ['Grande', 'Mediana', 'Pequeña'] ))\n",
        "fig.show()"
      ]
    },
    {
      "cell_type": "markdown",
      "metadata": {
        "id": "on1gGzFX9N-f"
      },
      "source": [
        "Mapeo visual: \n",
        "- El eje x representa el tamaño de la empresa, correspondiente a pequeña, mediana o grande; mientras que el eje y representa el salario promedio en dólares.\n",
        "- Además, el color representa el tamaño de la empresa, para potenciar este atributo ordinal. Los colores utilizados corresponden a una escala de colores secuencial, donde el color más claro representa a las empresas pequeñas\n",
        "#mientras que el más oscuro representa a las empresas grandes.\n",
        "\n",
        "Interpretación del gráfico: \n",
        "- Se observa que la mediana más alta se encuentra para las empresas medianas, mientras que la más baja para las pequeñas. Las empresas que presentan un mayor rango intercuartílico son las grandes, mientras que las de menor rango intercuartílico corresponden a las pequeñas, lo que es una medida de la dispersión de los salarios. No se observan valores atípicos para salarios bajos, sin embargo, se observan valores atípicos muy altos para los 3 tamaños de empresas.\n",
        "- En términos generales, los diagramas de caja de las empresas medianas y grandes, son bastante similares, donde la mayor diferencia se presenta en el cuartil 1, siendo aproximadamente 78.000 USD para las medianas, versus 60.000 USD para las grandes."
      ]
    },
    {
      "cell_type": "markdown",
      "metadata": {
        "id": "FJVuNYarwEXL"
      },
      "source": [
        "**Pregunta 4:** Visualice, en un gráfico de líneas, cómo ha evolucionado el salario promedio (en usd) según el tipo de empleo por año, del 2020 al 2022."
      ]
    },
    {
      "cell_type": "code",
      "execution_count": 8,
      "metadata": {
        "colab": {
          "base_uri": "https://localhost:8080/",
          "height": 233
        },
        "id": "Ln3vklLGYZ8r",
        "outputId": "2d6f8e1b-ecdb-4562-e9e6-c3767c46aaea"
      },
      "outputs": [
        {
          "data": {
            "text/html": [
              "<div>\n",
              "<style scoped>\n",
              "    .dataframe tbody tr th:only-of-type {\n",
              "        vertical-align: middle;\n",
              "    }\n",
              "\n",
              "    .dataframe tbody tr th {\n",
              "        vertical-align: top;\n",
              "    }\n",
              "\n",
              "    .dataframe thead th {\n",
              "        text-align: right;\n",
              "    }\n",
              "</style>\n",
              "<table border=\"1\" class=\"dataframe\">\n",
              "  <thead>\n",
              "    <tr style=\"text-align: right;\">\n",
              "      <th></th>\n",
              "      <th>employment_type</th>\n",
              "      <th>work_year</th>\n",
              "      <th>salary_in_usd</th>\n",
              "    </tr>\n",
              "  </thead>\n",
              "  <tbody>\n",
              "    <tr>\n",
              "      <th>0</th>\n",
              "      <td>CT</td>\n",
              "      <td>2020</td>\n",
              "      <td>100000.000000</td>\n",
              "    </tr>\n",
              "    <tr>\n",
              "      <th>1</th>\n",
              "      <td>CT</td>\n",
              "      <td>2021</td>\n",
              "      <td>263666.666667</td>\n",
              "    </tr>\n",
              "    <tr>\n",
              "      <th>2</th>\n",
              "      <td>CT</td>\n",
              "      <td>2022</td>\n",
              "      <td>31875.000000</td>\n",
              "    </tr>\n",
              "  </tbody>\n",
              "</table>\n",
              "</div>"
            ],
            "text/plain": [
              "  employment_type  work_year  salary_in_usd\n",
              "0              CT       2020  100000.000000\n",
              "1              CT       2021  263666.666667\n",
              "2              CT       2022   31875.000000"
            ]
          },
          "execution_count": 8,
          "metadata": {},
          "output_type": "execute_result"
        }
      ],
      "source": [
        "data3=data.groupby([\"employment_type\",\"work_year\"])['salary_in_usd'].mean()\n",
        "data3=data3.reset_index()\n",
        "data3.head(3)"
      ]
    },
    {
      "cell_type": "code",
      "execution_count": 9,
      "metadata": {
        "colab": {
          "base_uri": "https://localhost:8080/",
          "height": 417
        },
        "id": "7Pfd3tplYynf",
        "outputId": "1ab62f59-7046-48d0-8799-d7632275959e"
      },
      "outputs": [
        {
          "data": {
            "application/vnd.plotly.v1+json": {
              "config": {
                "plotlyServerURL": "https://plot.ly"
              },
              "data": [
                {
                  "hovertemplate": "Tipo de empleo=CT<br>Año=%{x}<br>Salario en USD=%{y}<extra></extra>",
                  "legendgroup": "CT",
                  "line": {
                    "color": "#253494",
                    "dash": "solid"
                  },
                  "marker": {
                    "symbol": "circle"
                  },
                  "mode": "lines+markers",
                  "name": "Contrata",
                  "orientation": "v",
                  "showlegend": true,
                  "type": "scatter",
                  "x": [
                    2020,
                    2021,
                    2022
                  ],
                  "xaxis": "x",
                  "y": [
                    100000,
                    263666.6666666667,
                    31875
                  ],
                  "yaxis": "y"
                },
                {
                  "hovertemplate": "Tipo de empleo=FT<br>Año=%{x}<br>Salario en USD=%{y}<extra></extra>",
                  "legendgroup": "FT",
                  "line": {
                    "color": "#2c7fb8",
                    "dash": "solid"
                  },
                  "marker": {
                    "symbol": "circle"
                  },
                  "mode": "lines+markers",
                  "name": "Tiempo completo",
                  "orientation": "v",
                  "showlegend": true,
                  "type": "scatter",
                  "x": [
                    2020,
                    2021,
                    2022
                  ],
                  "xaxis": "x",
                  "y": [
                    98542.66176470589,
                    100520.19417475729,
                    125194.79617834395
                  ],
                  "yaxis": "y"
                },
                {
                  "hovertemplate": "Tipo de empleo=PT<br>Año=%{x}<br>Salario en USD=%{y}<extra></extra>",
                  "legendgroup": "PT",
                  "line": {
                    "color": "#41b6c4",
                    "dash": "solid"
                  },
                  "marker": {
                    "symbol": "circle"
                  },
                  "mode": "lines+markers",
                  "name": "Tiempo parcial",
                  "orientation": "v",
                  "showlegend": true,
                  "type": "scatter",
                  "x": [
                    2020,
                    2021,
                    2022
                  ],
                  "xaxis": "x",
                  "y": [
                    18817.5,
                    23018.833333333332,
                    77478.5
                  ],
                  "yaxis": "y"
                },
                {
                  "hovertemplate": "Tipo de empleo=FL<br>Año=%{x}<br>Salario en USD=%{y}<extra></extra>",
                  "legendgroup": "FL",
                  "line": {
                    "color": "#a1dab4",
                    "dash": "solid"
                  },
                  "marker": {
                    "symbol": "circle"
                  },
                  "mode": "lines+markers",
                  "name": "Independiente",
                  "orientation": "v",
                  "showlegend": true,
                  "type": "scatter",
                  "x": [
                    2020,
                    2021,
                    2022
                  ],
                  "xaxis": "x",
                  "y": [
                    60000,
                    16000,
                    100000
                  ],
                  "yaxis": "y"
                }
              ],
              "layout": {
                "height": 400,
                "legend": {
                  "title": {
                    "text": "Tipo de empleo"
                  },
                  "tracegroupgap": 0
                },
                "template": {
                  "data": {
                    "bar": [
                      {
                        "error_x": {
                          "color": "#2a3f5f"
                        },
                        "error_y": {
                          "color": "#2a3f5f"
                        },
                        "marker": {
                          "line": {
                            "color": "#E5ECF6",
                            "width": 0.5
                          },
                          "pattern": {
                            "fillmode": "overlay",
                            "size": 10,
                            "solidity": 0.2
                          }
                        },
                        "type": "bar"
                      }
                    ],
                    "barpolar": [
                      {
                        "marker": {
                          "line": {
                            "color": "#E5ECF6",
                            "width": 0.5
                          },
                          "pattern": {
                            "fillmode": "overlay",
                            "size": 10,
                            "solidity": 0.2
                          }
                        },
                        "type": "barpolar"
                      }
                    ],
                    "carpet": [
                      {
                        "aaxis": {
                          "endlinecolor": "#2a3f5f",
                          "gridcolor": "white",
                          "linecolor": "white",
                          "minorgridcolor": "white",
                          "startlinecolor": "#2a3f5f"
                        },
                        "baxis": {
                          "endlinecolor": "#2a3f5f",
                          "gridcolor": "white",
                          "linecolor": "white",
                          "minorgridcolor": "white",
                          "startlinecolor": "#2a3f5f"
                        },
                        "type": "carpet"
                      }
                    ],
                    "choropleth": [
                      {
                        "colorbar": {
                          "outlinewidth": 0,
                          "ticks": ""
                        },
                        "type": "choropleth"
                      }
                    ],
                    "contour": [
                      {
                        "colorbar": {
                          "outlinewidth": 0,
                          "ticks": ""
                        },
                        "colorscale": [
                          [
                            0,
                            "#0d0887"
                          ],
                          [
                            0.1111111111111111,
                            "#46039f"
                          ],
                          [
                            0.2222222222222222,
                            "#7201a8"
                          ],
                          [
                            0.3333333333333333,
                            "#9c179e"
                          ],
                          [
                            0.4444444444444444,
                            "#bd3786"
                          ],
                          [
                            0.5555555555555556,
                            "#d8576b"
                          ],
                          [
                            0.6666666666666666,
                            "#ed7953"
                          ],
                          [
                            0.7777777777777778,
                            "#fb9f3a"
                          ],
                          [
                            0.8888888888888888,
                            "#fdca26"
                          ],
                          [
                            1,
                            "#f0f921"
                          ]
                        ],
                        "type": "contour"
                      }
                    ],
                    "contourcarpet": [
                      {
                        "colorbar": {
                          "outlinewidth": 0,
                          "ticks": ""
                        },
                        "type": "contourcarpet"
                      }
                    ],
                    "heatmap": [
                      {
                        "colorbar": {
                          "outlinewidth": 0,
                          "ticks": ""
                        },
                        "colorscale": [
                          [
                            0,
                            "#0d0887"
                          ],
                          [
                            0.1111111111111111,
                            "#46039f"
                          ],
                          [
                            0.2222222222222222,
                            "#7201a8"
                          ],
                          [
                            0.3333333333333333,
                            "#9c179e"
                          ],
                          [
                            0.4444444444444444,
                            "#bd3786"
                          ],
                          [
                            0.5555555555555556,
                            "#d8576b"
                          ],
                          [
                            0.6666666666666666,
                            "#ed7953"
                          ],
                          [
                            0.7777777777777778,
                            "#fb9f3a"
                          ],
                          [
                            0.8888888888888888,
                            "#fdca26"
                          ],
                          [
                            1,
                            "#f0f921"
                          ]
                        ],
                        "type": "heatmap"
                      }
                    ],
                    "heatmapgl": [
                      {
                        "colorbar": {
                          "outlinewidth": 0,
                          "ticks": ""
                        },
                        "colorscale": [
                          [
                            0,
                            "#0d0887"
                          ],
                          [
                            0.1111111111111111,
                            "#46039f"
                          ],
                          [
                            0.2222222222222222,
                            "#7201a8"
                          ],
                          [
                            0.3333333333333333,
                            "#9c179e"
                          ],
                          [
                            0.4444444444444444,
                            "#bd3786"
                          ],
                          [
                            0.5555555555555556,
                            "#d8576b"
                          ],
                          [
                            0.6666666666666666,
                            "#ed7953"
                          ],
                          [
                            0.7777777777777778,
                            "#fb9f3a"
                          ],
                          [
                            0.8888888888888888,
                            "#fdca26"
                          ],
                          [
                            1,
                            "#f0f921"
                          ]
                        ],
                        "type": "heatmapgl"
                      }
                    ],
                    "histogram": [
                      {
                        "marker": {
                          "pattern": {
                            "fillmode": "overlay",
                            "size": 10,
                            "solidity": 0.2
                          }
                        },
                        "type": "histogram"
                      }
                    ],
                    "histogram2d": [
                      {
                        "colorbar": {
                          "outlinewidth": 0,
                          "ticks": ""
                        },
                        "colorscale": [
                          [
                            0,
                            "#0d0887"
                          ],
                          [
                            0.1111111111111111,
                            "#46039f"
                          ],
                          [
                            0.2222222222222222,
                            "#7201a8"
                          ],
                          [
                            0.3333333333333333,
                            "#9c179e"
                          ],
                          [
                            0.4444444444444444,
                            "#bd3786"
                          ],
                          [
                            0.5555555555555556,
                            "#d8576b"
                          ],
                          [
                            0.6666666666666666,
                            "#ed7953"
                          ],
                          [
                            0.7777777777777778,
                            "#fb9f3a"
                          ],
                          [
                            0.8888888888888888,
                            "#fdca26"
                          ],
                          [
                            1,
                            "#f0f921"
                          ]
                        ],
                        "type": "histogram2d"
                      }
                    ],
                    "histogram2dcontour": [
                      {
                        "colorbar": {
                          "outlinewidth": 0,
                          "ticks": ""
                        },
                        "colorscale": [
                          [
                            0,
                            "#0d0887"
                          ],
                          [
                            0.1111111111111111,
                            "#46039f"
                          ],
                          [
                            0.2222222222222222,
                            "#7201a8"
                          ],
                          [
                            0.3333333333333333,
                            "#9c179e"
                          ],
                          [
                            0.4444444444444444,
                            "#bd3786"
                          ],
                          [
                            0.5555555555555556,
                            "#d8576b"
                          ],
                          [
                            0.6666666666666666,
                            "#ed7953"
                          ],
                          [
                            0.7777777777777778,
                            "#fb9f3a"
                          ],
                          [
                            0.8888888888888888,
                            "#fdca26"
                          ],
                          [
                            1,
                            "#f0f921"
                          ]
                        ],
                        "type": "histogram2dcontour"
                      }
                    ],
                    "mesh3d": [
                      {
                        "colorbar": {
                          "outlinewidth": 0,
                          "ticks": ""
                        },
                        "type": "mesh3d"
                      }
                    ],
                    "parcoords": [
                      {
                        "line": {
                          "colorbar": {
                            "outlinewidth": 0,
                            "ticks": ""
                          }
                        },
                        "type": "parcoords"
                      }
                    ],
                    "pie": [
                      {
                        "automargin": true,
                        "type": "pie"
                      }
                    ],
                    "scatter": [
                      {
                        "fillpattern": {
                          "fillmode": "overlay",
                          "size": 10,
                          "solidity": 0.2
                        },
                        "type": "scatter"
                      }
                    ],
                    "scatter3d": [
                      {
                        "line": {
                          "colorbar": {
                            "outlinewidth": 0,
                            "ticks": ""
                          }
                        },
                        "marker": {
                          "colorbar": {
                            "outlinewidth": 0,
                            "ticks": ""
                          }
                        },
                        "type": "scatter3d"
                      }
                    ],
                    "scattercarpet": [
                      {
                        "marker": {
                          "colorbar": {
                            "outlinewidth": 0,
                            "ticks": ""
                          }
                        },
                        "type": "scattercarpet"
                      }
                    ],
                    "scattergeo": [
                      {
                        "marker": {
                          "colorbar": {
                            "outlinewidth": 0,
                            "ticks": ""
                          }
                        },
                        "type": "scattergeo"
                      }
                    ],
                    "scattergl": [
                      {
                        "marker": {
                          "colorbar": {
                            "outlinewidth": 0,
                            "ticks": ""
                          }
                        },
                        "type": "scattergl"
                      }
                    ],
                    "scattermapbox": [
                      {
                        "marker": {
                          "colorbar": {
                            "outlinewidth": 0,
                            "ticks": ""
                          }
                        },
                        "type": "scattermapbox"
                      }
                    ],
                    "scatterpolar": [
                      {
                        "marker": {
                          "colorbar": {
                            "outlinewidth": 0,
                            "ticks": ""
                          }
                        },
                        "type": "scatterpolar"
                      }
                    ],
                    "scatterpolargl": [
                      {
                        "marker": {
                          "colorbar": {
                            "outlinewidth": 0,
                            "ticks": ""
                          }
                        },
                        "type": "scatterpolargl"
                      }
                    ],
                    "scatterternary": [
                      {
                        "marker": {
                          "colorbar": {
                            "outlinewidth": 0,
                            "ticks": ""
                          }
                        },
                        "type": "scatterternary"
                      }
                    ],
                    "surface": [
                      {
                        "colorbar": {
                          "outlinewidth": 0,
                          "ticks": ""
                        },
                        "colorscale": [
                          [
                            0,
                            "#0d0887"
                          ],
                          [
                            0.1111111111111111,
                            "#46039f"
                          ],
                          [
                            0.2222222222222222,
                            "#7201a8"
                          ],
                          [
                            0.3333333333333333,
                            "#9c179e"
                          ],
                          [
                            0.4444444444444444,
                            "#bd3786"
                          ],
                          [
                            0.5555555555555556,
                            "#d8576b"
                          ],
                          [
                            0.6666666666666666,
                            "#ed7953"
                          ],
                          [
                            0.7777777777777778,
                            "#fb9f3a"
                          ],
                          [
                            0.8888888888888888,
                            "#fdca26"
                          ],
                          [
                            1,
                            "#f0f921"
                          ]
                        ],
                        "type": "surface"
                      }
                    ],
                    "table": [
                      {
                        "cells": {
                          "fill": {
                            "color": "#EBF0F8"
                          },
                          "line": {
                            "color": "white"
                          }
                        },
                        "header": {
                          "fill": {
                            "color": "#C8D4E3"
                          },
                          "line": {
                            "color": "white"
                          }
                        },
                        "type": "table"
                      }
                    ]
                  },
                  "layout": {
                    "annotationdefaults": {
                      "arrowcolor": "#2a3f5f",
                      "arrowhead": 0,
                      "arrowwidth": 1
                    },
                    "autotypenumbers": "strict",
                    "coloraxis": {
                      "colorbar": {
                        "outlinewidth": 0,
                        "ticks": ""
                      }
                    },
                    "colorscale": {
                      "diverging": [
                        [
                          0,
                          "#8e0152"
                        ],
                        [
                          0.1,
                          "#c51b7d"
                        ],
                        [
                          0.2,
                          "#de77ae"
                        ],
                        [
                          0.3,
                          "#f1b6da"
                        ],
                        [
                          0.4,
                          "#fde0ef"
                        ],
                        [
                          0.5,
                          "#f7f7f7"
                        ],
                        [
                          0.6,
                          "#e6f5d0"
                        ],
                        [
                          0.7,
                          "#b8e186"
                        ],
                        [
                          0.8,
                          "#7fbc41"
                        ],
                        [
                          0.9,
                          "#4d9221"
                        ],
                        [
                          1,
                          "#276419"
                        ]
                      ],
                      "sequential": [
                        [
                          0,
                          "#0d0887"
                        ],
                        [
                          0.1111111111111111,
                          "#46039f"
                        ],
                        [
                          0.2222222222222222,
                          "#7201a8"
                        ],
                        [
                          0.3333333333333333,
                          "#9c179e"
                        ],
                        [
                          0.4444444444444444,
                          "#bd3786"
                        ],
                        [
                          0.5555555555555556,
                          "#d8576b"
                        ],
                        [
                          0.6666666666666666,
                          "#ed7953"
                        ],
                        [
                          0.7777777777777778,
                          "#fb9f3a"
                        ],
                        [
                          0.8888888888888888,
                          "#fdca26"
                        ],
                        [
                          1,
                          "#f0f921"
                        ]
                      ],
                      "sequentialminus": [
                        [
                          0,
                          "#0d0887"
                        ],
                        [
                          0.1111111111111111,
                          "#46039f"
                        ],
                        [
                          0.2222222222222222,
                          "#7201a8"
                        ],
                        [
                          0.3333333333333333,
                          "#9c179e"
                        ],
                        [
                          0.4444444444444444,
                          "#bd3786"
                        ],
                        [
                          0.5555555555555556,
                          "#d8576b"
                        ],
                        [
                          0.6666666666666666,
                          "#ed7953"
                        ],
                        [
                          0.7777777777777778,
                          "#fb9f3a"
                        ],
                        [
                          0.8888888888888888,
                          "#fdca26"
                        ],
                        [
                          1,
                          "#f0f921"
                        ]
                      ]
                    },
                    "colorway": [
                      "#636efa",
                      "#EF553B",
                      "#00cc96",
                      "#ab63fa",
                      "#FFA15A",
                      "#19d3f3",
                      "#FF6692",
                      "#B6E880",
                      "#FF97FF",
                      "#FECB52"
                    ],
                    "font": {
                      "color": "#2a3f5f"
                    },
                    "geo": {
                      "bgcolor": "white",
                      "lakecolor": "white",
                      "landcolor": "#E5ECF6",
                      "showlakes": true,
                      "showland": true,
                      "subunitcolor": "white"
                    },
                    "hoverlabel": {
                      "align": "left"
                    },
                    "hovermode": "closest",
                    "mapbox": {
                      "style": "light"
                    },
                    "paper_bgcolor": "white",
                    "plot_bgcolor": "#E5ECF6",
                    "polar": {
                      "angularaxis": {
                        "gridcolor": "white",
                        "linecolor": "white",
                        "ticks": ""
                      },
                      "bgcolor": "#E5ECF6",
                      "radialaxis": {
                        "gridcolor": "white",
                        "linecolor": "white",
                        "ticks": ""
                      }
                    },
                    "scene": {
                      "xaxis": {
                        "backgroundcolor": "#E5ECF6",
                        "gridcolor": "white",
                        "gridwidth": 2,
                        "linecolor": "white",
                        "showbackground": true,
                        "ticks": "",
                        "zerolinecolor": "white"
                      },
                      "yaxis": {
                        "backgroundcolor": "#E5ECF6",
                        "gridcolor": "white",
                        "gridwidth": 2,
                        "linecolor": "white",
                        "showbackground": true,
                        "ticks": "",
                        "zerolinecolor": "white"
                      },
                      "zaxis": {
                        "backgroundcolor": "#E5ECF6",
                        "gridcolor": "white",
                        "gridwidth": 2,
                        "linecolor": "white",
                        "showbackground": true,
                        "ticks": "",
                        "zerolinecolor": "white"
                      }
                    },
                    "shapedefaults": {
                      "line": {
                        "color": "#2a3f5f"
                      }
                    },
                    "ternary": {
                      "aaxis": {
                        "gridcolor": "white",
                        "linecolor": "white",
                        "ticks": ""
                      },
                      "baxis": {
                        "gridcolor": "white",
                        "linecolor": "white",
                        "ticks": ""
                      },
                      "bgcolor": "#E5ECF6",
                      "caxis": {
                        "gridcolor": "white",
                        "linecolor": "white",
                        "ticks": ""
                      }
                    },
                    "title": {
                      "x": 0.05
                    },
                    "xaxis": {
                      "automargin": true,
                      "gridcolor": "white",
                      "linecolor": "white",
                      "ticks": "",
                      "title": {
                        "standoff": 15
                      },
                      "zerolinecolor": "white",
                      "zerolinewidth": 2
                    },
                    "yaxis": {
                      "automargin": true,
                      "gridcolor": "white",
                      "linecolor": "white",
                      "ticks": "",
                      "title": {
                        "standoff": 15
                      },
                      "zerolinecolor": "white",
                      "zerolinewidth": 2
                    }
                  }
                },
                "title": {
                  "text": "Evolución del salario promedio"
                },
                "width": 700,
                "xaxis": {
                  "anchor": "y",
                  "domain": [
                    0,
                    1
                  ],
                  "title": {
                    "text": "Año"
                  },
                  "type": "category"
                },
                "yaxis": {
                  "anchor": "x",
                  "domain": [
                    0,
                    1
                  ],
                  "title": {
                    "text": "Salario en USD"
                  }
                }
              }
            }
          },
          "metadata": {},
          "output_type": "display_data"
        }
      ],
      "source": [
        "fig = px.line(data3, x=\"work_year\", y=\"salary_in_usd\",\n",
        "              labels={'work_year':'Año', 'salary_in_usd': 'Salario en USD','employment_type':'Tipo de empleo'},\n",
        "              width=700,height=400,\n",
        "              color='employment_type', markers=True,\n",
        "              title='Evolución del salario promedio',\n",
        "              category_orders={ 'employment_type':['CT', 'FT', 'PT','FL']},\n",
        "               color_discrete_sequence=(\"#253494\",\"#2c7fb8\",\"#41b6c4\",\"#a1dab4\"),\n",
        "              )\n",
        "fig.update_xaxes(type='category')\n",
        "\n",
        "newnames = {'CT':'Contrata','FT': 'Tiempo completo', 'PT':'Tiempo parcial','FL':'Independiente',};\n",
        "fig.for_each_trace(lambda t: t.update(name = newnames[t.name]))\n",
        "fig.show()"
      ]
    },
    {
      "cell_type": "markdown",
      "metadata": {
        "id": "C--Ve1Ur9PAF"
      },
      "source": [
        "Mapeo visual:\n",
        " \n",
        "El eje x representa el año, mientras que el eje y representa el salario promedio en dólares. Además el color representa el tipo de empleo, para lo cual se esocogió una escala de colores secuencial.\n",
        "\n",
        "Interpretación del gráfico:\n",
        "- Se observa que del año 2020 al 2021, el único tipo de empleo que aumentó considerablemente su salario fue el a contrata, los demás se mantuvieron relativamente iguales (tiempo completo y parcial), mientras que el independiente disminuyó.\n",
        "- Del año 2021 al 2022, el único que mostró un descenso, el cual fue muy significativo es el a contrata, mientras que los otros 3 mostraron un aumento.\n",
        "- Si se compara el año inicial 2020, con el final 2022, se observa que el único tipo de empleo que disminuyó su salario es el a contrata, mientras que los demás presentaron un aumento. El tipo de empleo a tiempo parcial fue el que presentó un mayor aumento, sobre un 300%; el independiente presentó un aumento cercano\n",
        "a un 40%; el de tiempo completo presentó un aumento cercano al 25%; y el a contrata presentó una disminución cercana al 70%."
      ]
    },
    {
      "cell_type": "markdown",
      "metadata": {
        "id": "dTz8WggG3V8w"
      },
      "source": [
        "**Pregunta 5 (opcional):** Plantee una nueva pregunta sobre los datos y cree una visualización que permita responderla. La visualización debe tener al menos 3 variables visuales."
      ]
    },
    {
      "cell_type": "markdown",
      "metadata": {
        "id": "rRlHEXZAbQfy"
      },
      "source": [
        "Se propone visualizar la distribución de los salarios, de acuerdo a la cantidad de trabajo remoto, para los 3 empleos más populares."
      ]
    },
    {
      "cell_type": "code",
      "execution_count": 10,
      "metadata": {
        "colab": {
          "base_uri": "https://localhost:8080/"
        },
        "id": "m_MdZ7JsqGe5",
        "outputId": "ae38523a-cc25-4cc9-b558-6ac76693b132"
      },
      "outputs": [
        {
          "data": {
            "text/plain": [
              "job_title\n",
              "Data Scientist               143\n",
              "Data Engineer                132\n",
              "Data Analyst                  97\n",
              "Machine Learning Engineer     41\n",
              "Research Scientist            16\n",
              "Name: count, dtype: int64"
            ]
          },
          "execution_count": 10,
          "metadata": {},
          "output_type": "execute_result"
        }
      ],
      "source": [
        "data[\"job_title\"].value_counts().head(5)"
      ]
    },
    {
      "cell_type": "markdown",
      "metadata": {
        "id": "vQm4ea01qS8B"
      },
      "source": [
        "Los 3 trabajos más populares son: Data Scientist, Data Engineer, Data Analyst y Machine Learning Egineer."
      ]
    },
    {
      "cell_type": "code",
      "execution_count": 11,
      "metadata": {
        "colab": {
          "base_uri": "https://localhost:8080/",
          "height": 215
        },
        "id": "4G3dFfiTBaQq",
        "outputId": "28810044-5a9a-4875-8fcc-b5c098c576b7"
      },
      "outputs": [
        {
          "data": {
            "text/html": [
              "<div>\n",
              "<style scoped>\n",
              "    .dataframe tbody tr th:only-of-type {\n",
              "        vertical-align: middle;\n",
              "    }\n",
              "\n",
              "    .dataframe tbody tr th {\n",
              "        vertical-align: top;\n",
              "    }\n",
              "\n",
              "    .dataframe thead th {\n",
              "        text-align: right;\n",
              "    }\n",
              "</style>\n",
              "<table border=\"1\" class=\"dataframe\">\n",
              "  <thead>\n",
              "    <tr style=\"text-align: right;\">\n",
              "      <th></th>\n",
              "      <th>work_year</th>\n",
              "      <th>experience_level</th>\n",
              "      <th>employment_type</th>\n",
              "      <th>job_title</th>\n",
              "      <th>salary</th>\n",
              "      <th>salary_currency</th>\n",
              "      <th>salary_in_usd</th>\n",
              "      <th>employee_residence</th>\n",
              "      <th>remote_ratio</th>\n",
              "      <th>company_location</th>\n",
              "      <th>company_size</th>\n",
              "      <th>remote_ratio</th>\n",
              "    </tr>\n",
              "  </thead>\n",
              "  <tbody>\n",
              "    <tr>\n",
              "      <th>0</th>\n",
              "      <td>2020</td>\n",
              "      <td>MI</td>\n",
              "      <td>FT</td>\n",
              "      <td>Data Scientist</td>\n",
              "      <td>70000</td>\n",
              "      <td>EUR</td>\n",
              "      <td>79833</td>\n",
              "      <td>DE</td>\n",
              "      <td>0</td>\n",
              "      <td>DE</td>\n",
              "      <td>L</td>\n",
              "      <td>0</td>\n",
              "    </tr>\n",
              "    <tr>\n",
              "      <th>292</th>\n",
              "      <td>2022</td>\n",
              "      <td>MI</td>\n",
              "      <td>FT</td>\n",
              "      <td>Data Scientist</td>\n",
              "      <td>130000</td>\n",
              "      <td>USD</td>\n",
              "      <td>130000</td>\n",
              "      <td>US</td>\n",
              "      <td>0</td>\n",
              "      <td>US</td>\n",
              "      <td>M</td>\n",
              "      <td>0</td>\n",
              "    </tr>\n",
              "    <tr>\n",
              "      <th>565</th>\n",
              "      <td>2022</td>\n",
              "      <td>SE</td>\n",
              "      <td>FT</td>\n",
              "      <td>Data Engineer</td>\n",
              "      <td>54000</td>\n",
              "      <td>USD</td>\n",
              "      <td>54000</td>\n",
              "      <td>US</td>\n",
              "      <td>0</td>\n",
              "      <td>US</td>\n",
              "      <td>M</td>\n",
              "      <td>0</td>\n",
              "    </tr>\n",
              "  </tbody>\n",
              "</table>\n",
              "</div>"
            ],
            "text/plain": [
              "     work_year experience_level employment_type       job_title  salary  \\\n",
              "0         2020               MI              FT  Data Scientist   70000   \n",
              "292       2022               MI              FT  Data Scientist  130000   \n",
              "565       2022               SE              FT   Data Engineer   54000   \n",
              "\n",
              "    salary_currency  salary_in_usd employee_residence  remote_ratio  \\\n",
              "0               EUR          79833                 DE             0   \n",
              "292             USD         130000                 US             0   \n",
              "565             USD          54000                 US             0   \n",
              "\n",
              "    company_location company_size remote_ratio   \n",
              "0                 DE            L             0  \n",
              "292               US            M             0  \n",
              "565               US            M             0  "
            ]
          },
          "execution_count": 11,
          "metadata": {},
          "output_type": "execute_result"
        }
      ],
      "source": [
        "data5=data[data.job_title.isin(['Data Scientist', 'Data Engineer', 'Data Analyst'])].sort_values(by=['remote_ratio'])\n",
        "data5[\"remote_ratio \"]=data5[\"remote_ratio\"].astype(str)\n",
        "data5.head(3)"
      ]
    },
    {
      "cell_type": "code",
      "execution_count": 12,
      "metadata": {
        "colab": {
          "base_uri": "https://localhost:8080/",
          "height": 517
        },
        "id": "I66E5U86Bd_9",
        "outputId": "f5e70e82-c5bc-4b97-81a4-f29b46effb04"
      },
      "outputs": [
        {
          "data": {
            "application/vnd.plotly.v1+json": {
              "config": {
                "plotlyServerURL": "https://plot.ly"
              },
              "data": [
                {
                  "alignmentgroup": "True",
                  "box": {
                    "visible": true
                  },
                  "hovertemplate": "Porcentaje de trabajo remoto=0<br>Empleo=%{x}<br>Salario en USD=%{y}<extra></extra>",
                  "legendgroup": "0",
                  "marker": {
                    "color": "#41b6c4"
                  },
                  "name": "0",
                  "offsetgroup": "0",
                  "orientation": "v",
                  "scalegroup": "True",
                  "showlegend": true,
                  "type": "violin",
                  "x": [
                    "Data Scientist",
                    "Data Scientist",
                    "Data Engineer",
                    "Data Scientist",
                    "Data Analyst",
                    "Data Scientist",
                    "Data Scientist",
                    "Data Scientist",
                    "Data Scientist",
                    "Data Scientist",
                    "Data Analyst",
                    "Data Analyst",
                    "Data Analyst",
                    "Data Scientist",
                    "Data Scientist",
                    "Data Engineer",
                    "Data Scientist",
                    "Data Analyst",
                    "Data Analyst",
                    "Data Analyst",
                    "Data Engineer",
                    "Data Scientist",
                    "Data Engineer",
                    "Data Scientist",
                    "Data Engineer",
                    "Data Engineer",
                    "Data Scientist",
                    "Data Engineer",
                    "Data Engineer",
                    "Data Engineer",
                    "Data Scientist",
                    "Data Scientist",
                    "Data Scientist",
                    "Data Analyst",
                    "Data Scientist",
                    "Data Engineer",
                    "Data Analyst",
                    "Data Scientist",
                    "Data Engineer",
                    "Data Scientist",
                    "Data Engineer",
                    "Data Scientist",
                    "Data Engineer",
                    "Data Engineer",
                    "Data Engineer",
                    "Data Analyst",
                    "Data Engineer",
                    "Data Engineer",
                    "Data Scientist",
                    "Data Analyst",
                    "Data Analyst",
                    "Data Engineer",
                    "Data Engineer",
                    "Data Analyst",
                    "Data Analyst",
                    "Data Analyst",
                    "Data Scientist",
                    "Data Analyst",
                    "Data Scientist",
                    "Data Engineer",
                    "Data Scientist",
                    "Data Scientist",
                    "Data Scientist",
                    "Data Scientist",
                    "Data Scientist",
                    "Data Engineer",
                    "Data Analyst",
                    "Data Scientist",
                    "Data Engineer",
                    "Data Scientist",
                    "Data Scientist",
                    "Data Scientist",
                    "Data Analyst",
                    "Data Engineer",
                    "Data Scientist",
                    "Data Engineer",
                    "Data Engineer",
                    "Data Analyst",
                    "Data Scientist",
                    "Data Scientist",
                    "Data Scientist",
                    "Data Scientist",
                    "Data Analyst",
                    "Data Engineer",
                    "Data Analyst",
                    "Data Engineer",
                    "Data Scientist"
                  ],
                  "x0": " ",
                  "xaxis": "x",
                  "y": [
                    79833,
                    130000,
                    54000,
                    90000,
                    65438,
                    100000,
                    9466,
                    117789,
                    104702,
                    122346,
                    99000,
                    106260,
                    126500,
                    65438,
                    39263,
                    78526,
                    73000,
                    62000,
                    75000,
                    116000,
                    181940,
                    140400,
                    70500,
                    135000,
                    99100,
                    206699,
                    33808,
                    12103,
                    20000,
                    165000,
                    12901,
                    205300,
                    102100,
                    75000,
                    205300,
                    26005,
                    85000,
                    140400,
                    93150,
                    2859,
                    111775,
                    141300,
                    132320,
                    52351,
                    160080,
                    164000,
                    220110,
                    117789,
                    140400,
                    115934,
                    81666,
                    82900,
                    98158,
                    58000,
                    132000,
                    67000,
                    80000,
                    52000,
                    180000,
                    63900,
                    39916,
                    40481,
                    51321,
                    71982,
                    45807,
                    33511,
                    58000,
                    4000,
                    65438,
                    91237,
                    91614,
                    49268,
                    6072,
                    108800,
                    95550,
                    113000,
                    78526,
                    129000,
                    183228,
                    215300,
                    120000,
                    180000,
                    45807,
                    160000,
                    99000,
                    136000,
                    150000
                  ],
                  "y0": " ",
                  "yaxis": "y"
                },
                {
                  "alignmentgroup": "True",
                  "box": {
                    "visible": true
                  },
                  "hovertemplate": "Porcentaje de trabajo remoto=50<br>Empleo=%{x}<br>Salario en USD=%{y}<extra></extra>",
                  "legendgroup": "50",
                  "marker": {
                    "color": "#2c7fb8"
                  },
                  "name": "50",
                  "offsetgroup": "50",
                  "orientation": "v",
                  "scalegroup": "True",
                  "showlegend": true,
                  "type": "violin",
                  "x": [
                    "Data Engineer",
                    "Data Scientist",
                    "Data Scientist",
                    "Data Scientist",
                    "Data Analyst",
                    "Data Engineer",
                    "Data Scientist",
                    "Data Engineer",
                    "Data Scientist",
                    "Data Engineer",
                    "Data Scientist",
                    "Data Scientist",
                    "Data Engineer",
                    "Data Scientist",
                    "Data Scientist",
                    "Data Scientist",
                    "Data Scientist",
                    "Data Scientist",
                    "Data Scientist",
                    "Data Scientist",
                    "Data Engineer",
                    "Data Scientist",
                    "Data Analyst",
                    "Data Scientist",
                    "Data Engineer",
                    "Data Scientist",
                    "Data Engineer",
                    "Data Scientist",
                    "Data Engineer",
                    "Data Analyst",
                    "Data Scientist",
                    "Data Analyst",
                    "Data Scientist",
                    "Data Scientist",
                    "Data Analyst",
                    "Data Scientist",
                    "Data Scientist",
                    "Data Scientist",
                    "Data Engineer",
                    "Data Analyst",
                    "Data Scientist",
                    "Data Engineer",
                    "Data Engineer"
                  ],
                  "x0": " ",
                  "xaxis": "x",
                  "y": [
                    72212,
                    100000,
                    36643,
                    109000,
                    63831,
                    21637,
                    115000,
                    54957,
                    86703,
                    65013,
                    77684,
                    58000,
                    96282,
                    20171,
                    130000,
                    42197,
                    21669,
                    53192,
                    62726,
                    29751,
                    28369,
                    62726,
                    59102,
                    120000,
                    112872,
                    49646,
                    70139,
                    90734,
                    76833,
                    51519,
                    147000,
                    10354,
                    88654,
                    35735,
                    8000,
                    56256,
                    90734,
                    116914,
                    47899,
                    46759,
                    61467,
                    74130,
                    66022
                  ],
                  "y0": " ",
                  "yaxis": "y"
                },
                {
                  "alignmentgroup": "True",
                  "box": {
                    "visible": true
                  },
                  "hovertemplate": "Porcentaje de trabajo remoto=100<br>Empleo=%{x}<br>Salario en USD=%{y}<extra></extra>",
                  "legendgroup": "100",
                  "marker": {
                    "color": "#253494"
                  },
                  "name": "100",
                  "offsetgroup": "100",
                  "orientation": "v",
                  "scalegroup": "True",
                  "showlegend": true,
                  "type": "violin",
                  "x": [
                    "Data Analyst",
                    "Data Analyst",
                    "Data Engineer",
                    "Data Engineer",
                    "Data Engineer",
                    "Data Engineer",
                    "Data Scientist",
                    "Data Scientist",
                    "Data Engineer",
                    "Data Analyst",
                    "Data Engineer",
                    "Data Scientist",
                    "Data Engineer",
                    "Data Scientist",
                    "Data Analyst",
                    "Data Analyst",
                    "Data Scientist",
                    "Data Engineer",
                    "Data Engineer",
                    "Data Engineer",
                    "Data Scientist",
                    "Data Engineer",
                    "Data Engineer",
                    "Data Scientist",
                    "Data Scientist",
                    "Data Analyst",
                    "Data Engineer",
                    "Data Engineer",
                    "Data Analyst",
                    "Data Scientist",
                    "Data Analyst",
                    "Data Analyst",
                    "Data Engineer",
                    "Data Scientist",
                    "Data Engineer",
                    "Data Engineer",
                    "Data Engineer",
                    "Data Engineer",
                    "Data Engineer",
                    "Data Analyst",
                    "Data Analyst",
                    "Data Engineer",
                    "Data Analyst",
                    "Data Engineer",
                    "Data Engineer",
                    "Data Scientist",
                    "Data Analyst",
                    "Data Scientist",
                    "Data Analyst",
                    "Data Analyst",
                    "Data Engineer",
                    "Data Scientist",
                    "Data Analyst",
                    "Data Engineer",
                    "Data Scientist",
                    "Data Scientist",
                    "Data Engineer",
                    "Data Analyst",
                    "Data Engineer",
                    "Data Analyst",
                    "Data Engineer",
                    "Data Analyst",
                    "Data Scientist",
                    "Data Scientist",
                    "Data Scientist",
                    "Data Analyst",
                    "Data Engineer",
                    "Data Engineer",
                    "Data Analyst",
                    "Data Analyst",
                    "Data Analyst",
                    "Data Engineer",
                    "Data Engineer",
                    "Data Engineer",
                    "Data Scientist",
                    "Data Engineer",
                    "Data Engineer",
                    "Data Scientist",
                    "Data Scientist",
                    "Data Engineer",
                    "Data Engineer",
                    "Data Engineer",
                    "Data Engineer",
                    "Data Engineer",
                    "Data Analyst",
                    "Data Engineer",
                    "Data Scientist",
                    "Data Scientist",
                    "Data Scientist",
                    "Data Scientist",
                    "Data Scientist",
                    "Data Analyst",
                    "Data Scientist",
                    "Data Scientist",
                    "Data Analyst",
                    "Data Scientist",
                    "Data Scientist",
                    "Data Scientist",
                    "Data Engineer",
                    "Data Scientist",
                    "Data Scientist",
                    "Data Analyst",
                    "Data Scientist",
                    "Data Scientist",
                    "Data Engineer",
                    "Data Engineer",
                    "Data Engineer",
                    "Data Analyst",
                    "Data Scientist",
                    "Data Engineer",
                    "Data Engineer",
                    "Data Scientist",
                    "Data Scientist",
                    "Data Scientist",
                    "Data Scientist",
                    "Data Engineer",
                    "Data Engineer",
                    "Data Analyst",
                    "Data Scientist",
                    "Data Scientist",
                    "Data Engineer",
                    "Data Scientist",
                    "Data Scientist",
                    "Data Scientist",
                    "Data Analyst",
                    "Data Analyst",
                    "Data Scientist",
                    "Data Scientist",
                    "Data Analyst",
                    "Data Engineer",
                    "Data Scientist",
                    "Data Scientist",
                    "Data Scientist",
                    "Data Analyst",
                    "Data Engineer",
                    "Data Scientist",
                    "Data Scientist",
                    "Data Scientist",
                    "Data Engineer",
                    "Data Analyst",
                    "Data Engineer",
                    "Data Analyst",
                    "Data Analyst",
                    "Data Engineer",
                    "Data Scientist",
                    "Data Analyst",
                    "Data Scientist",
                    "Data Engineer",
                    "Data Scientist",
                    "Data Engineer",
                    "Data Scientist",
                    "Data Analyst",
                    "Data Engineer",
                    "Data Scientist",
                    "Data Scientist",
                    "Data Analyst",
                    "Data Scientist",
                    "Data Engineer",
                    "Data Scientist",
                    "Data Scientist",
                    "Data Analyst",
                    "Data Engineer",
                    "Data Engineer",
                    "Data Analyst",
                    "Data Engineer",
                    "Data Engineer",
                    "Data Engineer",
                    "Data Engineer",
                    "Data Engineer",
                    "Data Scientist",
                    "Data Analyst",
                    "Data Engineer",
                    "Data Engineer",
                    "Data Scientist",
                    "Data Engineer",
                    "Data Engineer",
                    "Data Analyst",
                    "Data Scientist",
                    "Data Scientist",
                    "Data Scientist",
                    "Data Analyst",
                    "Data Analyst",
                    "Data Analyst",
                    "Data Analyst",
                    "Data Scientist",
                    "Data Scientist",
                    "Data Scientist",
                    "Data Engineer",
                    "Data Engineer",
                    "Data Engineer",
                    "Data Engineer",
                    "Data Analyst",
                    "Data Engineer",
                    "Data Engineer",
                    "Data Analyst",
                    "Data Analyst",
                    "Data Scientist",
                    "Data Scientist",
                    "Data Engineer",
                    "Data Engineer",
                    "Data Engineer",
                    "Data Engineer",
                    "Data Analyst",
                    "Data Scientist",
                    "Data Engineer",
                    "Data Analyst",
                    "Data Analyst",
                    "Data Analyst",
                    "Data Engineer",
                    "Data Engineer",
                    "Data Engineer",
                    "Data Analyst",
                    "Data Analyst",
                    "Data Engineer",
                    "Data Engineer",
                    "Data Analyst",
                    "Data Analyst",
                    "Data Scientist",
                    "Data Scientist",
                    "Data Scientist",
                    "Data Scientist",
                    "Data Engineer",
                    "Data Engineer",
                    "Data Engineer",
                    "Data Scientist",
                    "Data Engineer",
                    "Data Analyst",
                    "Data Engineer",
                    "Data Engineer",
                    "Data Analyst",
                    "Data Analyst",
                    "Data Analyst",
                    "Data Engineer",
                    "Data Analyst",
                    "Data Analyst",
                    "Data Analyst",
                    "Data Analyst",
                    "Data Analyst",
                    "Data Analyst",
                    "Data Scientist",
                    "Data Analyst",
                    "Data Analyst"
                  ],
                  "x0": " ",
                  "xaxis": "x",
                  "y": [
                    105000,
                    110925,
                    180000,
                    160080,
                    154600,
                    80000,
                    18442,
                    31615,
                    220110,
                    106260,
                    120000,
                    104890,
                    100000,
                    140000,
                    135000,
                    50000,
                    220000,
                    105000,
                    209100,
                    115000,
                    140000,
                    126000,
                    154000,
                    130000,
                    160000,
                    170000,
                    100800,
                    49461,
                    39263,
                    210000,
                    43966,
                    32974,
                    87932,
                    150000,
                    76940,
                    104702,
                    91614,
                    65949,
                    87932,
                    43966,
                    32974,
                    98158,
                    60000,
                    78526,
                    76940,
                    230000,
                    126500,
                    185100,
                    170000,
                    116150,
                    140250,
                    69336,
                    20000,
                    175100,
                    135000,
                    78000,
                    145000,
                    135000,
                    160000,
                    100000,
                    200100,
                    90320,
                    144000,
                    176000,
                    260000,
                    112900,
                    155000,
                    160000,
                    99050,
                    115934,
                    81666,
                    130000,
                    110500,
                    68147,
                    48000,
                    65000,
                    115000,
                    200000,
                    120000,
                    324000,
                    216000,
                    130000,
                    25000,
                    100000,
                    150075,
                    210000,
                    230000,
                    210000,
                    100000,
                    140000,
                    140000,
                    69000,
                    35590,
                    100000,
                    100000,
                    140000,
                    210000,
                    140000,
                    58035,
                    165000,
                    52396,
                    80000,
                    40000,
                    210000,
                    58894,
                    93700,
                    49461,
                    135000,
                    82500,
                    100000,
                    90000,
                    150000,
                    75774,
                    13400,
                    119059,
                    80000,
                    82528,
                    60000,
                    40038,
                    5679,
                    4000,
                    80000,
                    37825,
                    87738,
                    71786,
                    200000,
                    46809,
                    103691,
                    80000,
                    110000,
                    165000,
                    90000,
                    28399,
                    93000,
                    200000,
                    16904,
                    25532,
                    160000,
                    28016,
                    90000,
                    200000,
                    72000,
                    85000,
                    41689,
                    68428,
                    10000,
                    45760,
                    106000,
                    76958,
                    188000,
                    105000,
                    91000,
                    54742,
                    38776,
                    118000,
                    50000,
                    138350,
                    130800,
                    412000,
                    105000,
                    80000,
                    140000,
                    28476,
                    80000,
                    150000,
                    115000,
                    150000,
                    30428,
                    45391,
                    50000,
                    90000,
                    110000,
                    72500,
                    100000,
                    112000,
                    156600,
                    135000,
                    167000,
                    123000,
                    211500,
                    130000,
                    61300,
                    130000,
                    61300,
                    138600,
                    170000,
                    123000,
                    165400,
                    136994,
                    128875,
                    101570,
                    93700,
                    132320,
                    155000,
                    112900,
                    90320,
                    215300,
                    158200,
                    209100,
                    154600,
                    175000,
                    183600,
                    52351,
                    180000,
                    65949,
                    128875,
                    109280,
                    136600,
                    243900,
                    69741,
                    135000,
                    155000,
                    120600,
                    170000,
                    150000,
                    102100,
                    84900,
                    136620,
                    99360,
                    146000,
                    123000,
                    52351,
                    242000,
                    200000,
                    165220,
                    45807,
                    167000,
                    132320,
                    165400,
                    90320,
                    112900,
                    90320,
                    78526,
                    112900,
                    170000,
                    110000,
                    130000,
                    124190,
                    90320,
                    120160,
                    115500,
                    150000
                  ],
                  "y0": " ",
                  "yaxis": "y"
                }
              ],
              "layout": {
                "height": 500,
                "legend": {
                  "title": {
                    "text": "Porcentaje de trabajo remoto"
                  },
                  "tracegroupgap": 0
                },
                "template": {
                  "data": {
                    "bar": [
                      {
                        "error_x": {
                          "color": "#2a3f5f"
                        },
                        "error_y": {
                          "color": "#2a3f5f"
                        },
                        "marker": {
                          "line": {
                            "color": "#E5ECF6",
                            "width": 0.5
                          },
                          "pattern": {
                            "fillmode": "overlay",
                            "size": 10,
                            "solidity": 0.2
                          }
                        },
                        "type": "bar"
                      }
                    ],
                    "barpolar": [
                      {
                        "marker": {
                          "line": {
                            "color": "#E5ECF6",
                            "width": 0.5
                          },
                          "pattern": {
                            "fillmode": "overlay",
                            "size": 10,
                            "solidity": 0.2
                          }
                        },
                        "type": "barpolar"
                      }
                    ],
                    "carpet": [
                      {
                        "aaxis": {
                          "endlinecolor": "#2a3f5f",
                          "gridcolor": "white",
                          "linecolor": "white",
                          "minorgridcolor": "white",
                          "startlinecolor": "#2a3f5f"
                        },
                        "baxis": {
                          "endlinecolor": "#2a3f5f",
                          "gridcolor": "white",
                          "linecolor": "white",
                          "minorgridcolor": "white",
                          "startlinecolor": "#2a3f5f"
                        },
                        "type": "carpet"
                      }
                    ],
                    "choropleth": [
                      {
                        "colorbar": {
                          "outlinewidth": 0,
                          "ticks": ""
                        },
                        "type": "choropleth"
                      }
                    ],
                    "contour": [
                      {
                        "colorbar": {
                          "outlinewidth": 0,
                          "ticks": ""
                        },
                        "colorscale": [
                          [
                            0,
                            "#0d0887"
                          ],
                          [
                            0.1111111111111111,
                            "#46039f"
                          ],
                          [
                            0.2222222222222222,
                            "#7201a8"
                          ],
                          [
                            0.3333333333333333,
                            "#9c179e"
                          ],
                          [
                            0.4444444444444444,
                            "#bd3786"
                          ],
                          [
                            0.5555555555555556,
                            "#d8576b"
                          ],
                          [
                            0.6666666666666666,
                            "#ed7953"
                          ],
                          [
                            0.7777777777777778,
                            "#fb9f3a"
                          ],
                          [
                            0.8888888888888888,
                            "#fdca26"
                          ],
                          [
                            1,
                            "#f0f921"
                          ]
                        ],
                        "type": "contour"
                      }
                    ],
                    "contourcarpet": [
                      {
                        "colorbar": {
                          "outlinewidth": 0,
                          "ticks": ""
                        },
                        "type": "contourcarpet"
                      }
                    ],
                    "heatmap": [
                      {
                        "colorbar": {
                          "outlinewidth": 0,
                          "ticks": ""
                        },
                        "colorscale": [
                          [
                            0,
                            "#0d0887"
                          ],
                          [
                            0.1111111111111111,
                            "#46039f"
                          ],
                          [
                            0.2222222222222222,
                            "#7201a8"
                          ],
                          [
                            0.3333333333333333,
                            "#9c179e"
                          ],
                          [
                            0.4444444444444444,
                            "#bd3786"
                          ],
                          [
                            0.5555555555555556,
                            "#d8576b"
                          ],
                          [
                            0.6666666666666666,
                            "#ed7953"
                          ],
                          [
                            0.7777777777777778,
                            "#fb9f3a"
                          ],
                          [
                            0.8888888888888888,
                            "#fdca26"
                          ],
                          [
                            1,
                            "#f0f921"
                          ]
                        ],
                        "type": "heatmap"
                      }
                    ],
                    "heatmapgl": [
                      {
                        "colorbar": {
                          "outlinewidth": 0,
                          "ticks": ""
                        },
                        "colorscale": [
                          [
                            0,
                            "#0d0887"
                          ],
                          [
                            0.1111111111111111,
                            "#46039f"
                          ],
                          [
                            0.2222222222222222,
                            "#7201a8"
                          ],
                          [
                            0.3333333333333333,
                            "#9c179e"
                          ],
                          [
                            0.4444444444444444,
                            "#bd3786"
                          ],
                          [
                            0.5555555555555556,
                            "#d8576b"
                          ],
                          [
                            0.6666666666666666,
                            "#ed7953"
                          ],
                          [
                            0.7777777777777778,
                            "#fb9f3a"
                          ],
                          [
                            0.8888888888888888,
                            "#fdca26"
                          ],
                          [
                            1,
                            "#f0f921"
                          ]
                        ],
                        "type": "heatmapgl"
                      }
                    ],
                    "histogram": [
                      {
                        "marker": {
                          "pattern": {
                            "fillmode": "overlay",
                            "size": 10,
                            "solidity": 0.2
                          }
                        },
                        "type": "histogram"
                      }
                    ],
                    "histogram2d": [
                      {
                        "colorbar": {
                          "outlinewidth": 0,
                          "ticks": ""
                        },
                        "colorscale": [
                          [
                            0,
                            "#0d0887"
                          ],
                          [
                            0.1111111111111111,
                            "#46039f"
                          ],
                          [
                            0.2222222222222222,
                            "#7201a8"
                          ],
                          [
                            0.3333333333333333,
                            "#9c179e"
                          ],
                          [
                            0.4444444444444444,
                            "#bd3786"
                          ],
                          [
                            0.5555555555555556,
                            "#d8576b"
                          ],
                          [
                            0.6666666666666666,
                            "#ed7953"
                          ],
                          [
                            0.7777777777777778,
                            "#fb9f3a"
                          ],
                          [
                            0.8888888888888888,
                            "#fdca26"
                          ],
                          [
                            1,
                            "#f0f921"
                          ]
                        ],
                        "type": "histogram2d"
                      }
                    ],
                    "histogram2dcontour": [
                      {
                        "colorbar": {
                          "outlinewidth": 0,
                          "ticks": ""
                        },
                        "colorscale": [
                          [
                            0,
                            "#0d0887"
                          ],
                          [
                            0.1111111111111111,
                            "#46039f"
                          ],
                          [
                            0.2222222222222222,
                            "#7201a8"
                          ],
                          [
                            0.3333333333333333,
                            "#9c179e"
                          ],
                          [
                            0.4444444444444444,
                            "#bd3786"
                          ],
                          [
                            0.5555555555555556,
                            "#d8576b"
                          ],
                          [
                            0.6666666666666666,
                            "#ed7953"
                          ],
                          [
                            0.7777777777777778,
                            "#fb9f3a"
                          ],
                          [
                            0.8888888888888888,
                            "#fdca26"
                          ],
                          [
                            1,
                            "#f0f921"
                          ]
                        ],
                        "type": "histogram2dcontour"
                      }
                    ],
                    "mesh3d": [
                      {
                        "colorbar": {
                          "outlinewidth": 0,
                          "ticks": ""
                        },
                        "type": "mesh3d"
                      }
                    ],
                    "parcoords": [
                      {
                        "line": {
                          "colorbar": {
                            "outlinewidth": 0,
                            "ticks": ""
                          }
                        },
                        "type": "parcoords"
                      }
                    ],
                    "pie": [
                      {
                        "automargin": true,
                        "type": "pie"
                      }
                    ],
                    "scatter": [
                      {
                        "fillpattern": {
                          "fillmode": "overlay",
                          "size": 10,
                          "solidity": 0.2
                        },
                        "type": "scatter"
                      }
                    ],
                    "scatter3d": [
                      {
                        "line": {
                          "colorbar": {
                            "outlinewidth": 0,
                            "ticks": ""
                          }
                        },
                        "marker": {
                          "colorbar": {
                            "outlinewidth": 0,
                            "ticks": ""
                          }
                        },
                        "type": "scatter3d"
                      }
                    ],
                    "scattercarpet": [
                      {
                        "marker": {
                          "colorbar": {
                            "outlinewidth": 0,
                            "ticks": ""
                          }
                        },
                        "type": "scattercarpet"
                      }
                    ],
                    "scattergeo": [
                      {
                        "marker": {
                          "colorbar": {
                            "outlinewidth": 0,
                            "ticks": ""
                          }
                        },
                        "type": "scattergeo"
                      }
                    ],
                    "scattergl": [
                      {
                        "marker": {
                          "colorbar": {
                            "outlinewidth": 0,
                            "ticks": ""
                          }
                        },
                        "type": "scattergl"
                      }
                    ],
                    "scattermapbox": [
                      {
                        "marker": {
                          "colorbar": {
                            "outlinewidth": 0,
                            "ticks": ""
                          }
                        },
                        "type": "scattermapbox"
                      }
                    ],
                    "scatterpolar": [
                      {
                        "marker": {
                          "colorbar": {
                            "outlinewidth": 0,
                            "ticks": ""
                          }
                        },
                        "type": "scatterpolar"
                      }
                    ],
                    "scatterpolargl": [
                      {
                        "marker": {
                          "colorbar": {
                            "outlinewidth": 0,
                            "ticks": ""
                          }
                        },
                        "type": "scatterpolargl"
                      }
                    ],
                    "scatterternary": [
                      {
                        "marker": {
                          "colorbar": {
                            "outlinewidth": 0,
                            "ticks": ""
                          }
                        },
                        "type": "scatterternary"
                      }
                    ],
                    "surface": [
                      {
                        "colorbar": {
                          "outlinewidth": 0,
                          "ticks": ""
                        },
                        "colorscale": [
                          [
                            0,
                            "#0d0887"
                          ],
                          [
                            0.1111111111111111,
                            "#46039f"
                          ],
                          [
                            0.2222222222222222,
                            "#7201a8"
                          ],
                          [
                            0.3333333333333333,
                            "#9c179e"
                          ],
                          [
                            0.4444444444444444,
                            "#bd3786"
                          ],
                          [
                            0.5555555555555556,
                            "#d8576b"
                          ],
                          [
                            0.6666666666666666,
                            "#ed7953"
                          ],
                          [
                            0.7777777777777778,
                            "#fb9f3a"
                          ],
                          [
                            0.8888888888888888,
                            "#fdca26"
                          ],
                          [
                            1,
                            "#f0f921"
                          ]
                        ],
                        "type": "surface"
                      }
                    ],
                    "table": [
                      {
                        "cells": {
                          "fill": {
                            "color": "#EBF0F8"
                          },
                          "line": {
                            "color": "white"
                          }
                        },
                        "header": {
                          "fill": {
                            "color": "#C8D4E3"
                          },
                          "line": {
                            "color": "white"
                          }
                        },
                        "type": "table"
                      }
                    ]
                  },
                  "layout": {
                    "annotationdefaults": {
                      "arrowcolor": "#2a3f5f",
                      "arrowhead": 0,
                      "arrowwidth": 1
                    },
                    "autotypenumbers": "strict",
                    "coloraxis": {
                      "colorbar": {
                        "outlinewidth": 0,
                        "ticks": ""
                      }
                    },
                    "colorscale": {
                      "diverging": [
                        [
                          0,
                          "#8e0152"
                        ],
                        [
                          0.1,
                          "#c51b7d"
                        ],
                        [
                          0.2,
                          "#de77ae"
                        ],
                        [
                          0.3,
                          "#f1b6da"
                        ],
                        [
                          0.4,
                          "#fde0ef"
                        ],
                        [
                          0.5,
                          "#f7f7f7"
                        ],
                        [
                          0.6,
                          "#e6f5d0"
                        ],
                        [
                          0.7,
                          "#b8e186"
                        ],
                        [
                          0.8,
                          "#7fbc41"
                        ],
                        [
                          0.9,
                          "#4d9221"
                        ],
                        [
                          1,
                          "#276419"
                        ]
                      ],
                      "sequential": [
                        [
                          0,
                          "#0d0887"
                        ],
                        [
                          0.1111111111111111,
                          "#46039f"
                        ],
                        [
                          0.2222222222222222,
                          "#7201a8"
                        ],
                        [
                          0.3333333333333333,
                          "#9c179e"
                        ],
                        [
                          0.4444444444444444,
                          "#bd3786"
                        ],
                        [
                          0.5555555555555556,
                          "#d8576b"
                        ],
                        [
                          0.6666666666666666,
                          "#ed7953"
                        ],
                        [
                          0.7777777777777778,
                          "#fb9f3a"
                        ],
                        [
                          0.8888888888888888,
                          "#fdca26"
                        ],
                        [
                          1,
                          "#f0f921"
                        ]
                      ],
                      "sequentialminus": [
                        [
                          0,
                          "#0d0887"
                        ],
                        [
                          0.1111111111111111,
                          "#46039f"
                        ],
                        [
                          0.2222222222222222,
                          "#7201a8"
                        ],
                        [
                          0.3333333333333333,
                          "#9c179e"
                        ],
                        [
                          0.4444444444444444,
                          "#bd3786"
                        ],
                        [
                          0.5555555555555556,
                          "#d8576b"
                        ],
                        [
                          0.6666666666666666,
                          "#ed7953"
                        ],
                        [
                          0.7777777777777778,
                          "#fb9f3a"
                        ],
                        [
                          0.8888888888888888,
                          "#fdca26"
                        ],
                        [
                          1,
                          "#f0f921"
                        ]
                      ]
                    },
                    "colorway": [
                      "#636efa",
                      "#EF553B",
                      "#00cc96",
                      "#ab63fa",
                      "#FFA15A",
                      "#19d3f3",
                      "#FF6692",
                      "#B6E880",
                      "#FF97FF",
                      "#FECB52"
                    ],
                    "font": {
                      "color": "#2a3f5f"
                    },
                    "geo": {
                      "bgcolor": "white",
                      "lakecolor": "white",
                      "landcolor": "#E5ECF6",
                      "showlakes": true,
                      "showland": true,
                      "subunitcolor": "white"
                    },
                    "hoverlabel": {
                      "align": "left"
                    },
                    "hovermode": "closest",
                    "mapbox": {
                      "style": "light"
                    },
                    "paper_bgcolor": "white",
                    "plot_bgcolor": "#E5ECF6",
                    "polar": {
                      "angularaxis": {
                        "gridcolor": "white",
                        "linecolor": "white",
                        "ticks": ""
                      },
                      "bgcolor": "#E5ECF6",
                      "radialaxis": {
                        "gridcolor": "white",
                        "linecolor": "white",
                        "ticks": ""
                      }
                    },
                    "scene": {
                      "xaxis": {
                        "backgroundcolor": "#E5ECF6",
                        "gridcolor": "white",
                        "gridwidth": 2,
                        "linecolor": "white",
                        "showbackground": true,
                        "ticks": "",
                        "zerolinecolor": "white"
                      },
                      "yaxis": {
                        "backgroundcolor": "#E5ECF6",
                        "gridcolor": "white",
                        "gridwidth": 2,
                        "linecolor": "white",
                        "showbackground": true,
                        "ticks": "",
                        "zerolinecolor": "white"
                      },
                      "zaxis": {
                        "backgroundcolor": "#E5ECF6",
                        "gridcolor": "white",
                        "gridwidth": 2,
                        "linecolor": "white",
                        "showbackground": true,
                        "ticks": "",
                        "zerolinecolor": "white"
                      }
                    },
                    "shapedefaults": {
                      "line": {
                        "color": "#2a3f5f"
                      }
                    },
                    "ternary": {
                      "aaxis": {
                        "gridcolor": "white",
                        "linecolor": "white",
                        "ticks": ""
                      },
                      "baxis": {
                        "gridcolor": "white",
                        "linecolor": "white",
                        "ticks": ""
                      },
                      "bgcolor": "#E5ECF6",
                      "caxis": {
                        "gridcolor": "white",
                        "linecolor": "white",
                        "ticks": ""
                      }
                    },
                    "title": {
                      "x": 0.05
                    },
                    "xaxis": {
                      "automargin": true,
                      "gridcolor": "white",
                      "linecolor": "white",
                      "ticks": "",
                      "title": {
                        "standoff": 15
                      },
                      "zerolinecolor": "white",
                      "zerolinewidth": 2
                    },
                    "yaxis": {
                      "automargin": true,
                      "gridcolor": "white",
                      "linecolor": "white",
                      "ticks": "",
                      "title": {
                        "standoff": 15
                      },
                      "zerolinecolor": "white",
                      "zerolinewidth": 2
                    }
                  }
                },
                "title": {
                  "text": "Salario para los trabajos más populares (top 3), en función del trabajo remoto"
                },
                "violinmode": "group",
                "width": 1100,
                "xaxis": {
                  "anchor": "y",
                  "categoryarray": [
                    "Data Scientist",
                    "Data Engineer",
                    "Data Analyst"
                  ],
                  "categoryorder": "array",
                  "domain": [
                    0,
                    1
                  ],
                  "title": {
                    "text": "Empleo"
                  }
                },
                "yaxis": {
                  "anchor": "x",
                  "domain": [
                    0,
                    1
                  ],
                  "title": {
                    "text": "Salario en USD"
                  }
                }
              }
            }
          },
          "metadata": {},
          "output_type": "display_data"
        }
      ],
      "source": [
        "fig = px.violin(data5,\n",
        "                x=\"job_title\" ,\n",
        "                y=\"salary_in_usd\",\n",
        "                color=\"remote_ratio\",\n",
        "                title=\"Salario para los trabajos más populares (top 3), en función del trabajo remoto\",\n",
        "                labels = {'remote_ratio': 'Porcentaje de trabajo remoto','job_title': 'Empleo', 'salary_in_usd': 'Salario en USD'},\n",
        "                box=True,\n",
        "                category_orders={'job_title':['Data Scientist','Data Engineer','Data Analyst']},\n",
        "                 color_discrete_sequence=(\"#41b6c4\",\"#2c7fb8\",\"#253494\"),\n",
        "                width=1100, height=500,\n",
        "                )\n",
        "fig.show()"
      ]
    },
    {
      "cell_type": "markdown",
      "metadata": {
        "id": "yff89yX2b8lU"
      },
      "source": [
        "Mapeo visual: \n",
        "\n",
        "- El eje x representa el nombre del empleo, mientras que el eje y representa el salario promedio en dólares.\n",
        "- Además el color representa la cantidad de trabajo remoto, para lo cual se esocogió una escala de colores secuencial.\n",
        "- Las tres variables visuales que se utilizan son: color, posición (relativa a los cuartiles) y forma.\n",
        "\n",
        "Interpretación del gráfico: \n",
        "\n",
        "- Para los tres empleos, se observa que en términos generales, el tipo de empleo que recibe menor salario es cuyo porcentaje de trabajo remoto corresponde a un 50%, mientras que el que recibe un mayor salario tiene un porcentaje de trabajo remoto igual a un 100%.\n",
        "- Se observa que los violines más alargados corresponden a los empleos de Data Scientist y Data Engineer, cuyos % de trabajo remoto corresponden a un 0% y 100%, lo que implica que el rango total de los salarios es mayor en esos grupos.\n",
        "- Para cada empleo, los sueldos que presentan un menor rango, corresponden a los trabajadores que trabajan 50% remoto. Esto se observa al ser los violines más cortos."
      ]
    },
    {
      "cell_type": "markdown",
      "metadata": {},
      "source": []
    }
  ],
  "metadata": {
    "colab": {
      "provenance": []
    },
    "kernelspec": {
      "display_name": "Python 3",
      "name": "python3"
    },
    "language_info": {
      "codemirror_mode": {
        "name": "ipython",
        "version": 3
      },
      "file_extension": ".py",
      "mimetype": "text/x-python",
      "name": "python",
      "nbconvert_exporter": "python",
      "pygments_lexer": "ipython3",
      "version": "3.9.6"
    }
  },
  "nbformat": 4,
  "nbformat_minor": 0
}
