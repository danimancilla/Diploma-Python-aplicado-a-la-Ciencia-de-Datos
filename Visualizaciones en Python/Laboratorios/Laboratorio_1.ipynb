{
  "cells": [
    {
      "cell_type": "markdown",
      "metadata": {
        "id": "-IKW5lfOWwGR"
      },
      "source": [
        "# Laboratorio 1: Visualización para Exploración de datos\n",
        "\n",
        "Octubre 2023"
      ]
    },
    {
      "cell_type": "markdown",
      "metadata": {
        "id": "1PRpxXz0WzDU"
      },
      "source": [
        "# Instrucciones\n",
        "\n",
        "- Trabajar en grupos de dos o tres personas.\n",
        "- Hacer una copia de este notebook en `File -> Save a copy in Drive`.\n",
        "- Se recomienda que uno de los integrantes transmita su pantalla con el notebook mientras conversan en equipo.\n",
        "- Al final de la sesión, descargar el notebook `File -> Download -> Download .ipynb` y subirlo en la sección Tareas de U-Cursos que se abrirá para esta sesión. Se debe realizar una entrega por grupo.\n"
      ]
    },
    {
      "cell_type": "markdown",
      "metadata": {
        "id": "a21zYpgiXGmQ"
      },
      "source": [
        "**Nombres:** Gabriela Martínez, Daniela Mancilla, Francisca Quijada"
      ]
    },
    {
      "cell_type": "markdown",
      "metadata": {
        "id": "rClq4GVsXJhz"
      },
      "source": [
        "## Preguntas teóricas\n",
        "\n",
        "\n"
      ]
    },
    {
      "cell_type": "markdown",
      "metadata": {
        "id": "_dVFdDKXYXEK"
      },
      "source": [
        "Verdadero o Falso (si es falsa, corrija la afirmación):\n",
        "\n",
        "1. Datos sobre nivel de satisfacción: *{Muy insatisfecho, Insatisfecho, Neutral, Satisfecho, Muy satisfecho}* son categóricos ordinales.\n",
        "\n",
        "**Respuesta: Verdadero**\n",
        "\n",
        "2. El color no es una característica visual preattentive.\n",
        "\n",
        "**Respuesta: Falso. El color sí es una característica preattentive, pues es una variable visual que permite distinguir rápida y automáticamente entre distintos grupos de datos.**\n",
        "\n",
        "3. Las paletas de colores secuenciales son útiles para representar variables categóricas nominales.\n",
        "\n",
        "**Respuesta: Falso. Las paletas de colores son útiles para variables categóricas que pueden ser ordenadas, es decir, variables categóricas ordinales.**\n",
        "\n",
        "4. La variable visual “Color” es adecuada para codificar atributos categóricos con más de veinte valores distintos.\n",
        "\n",
        "**Respuesta: Falso. Ninguna variable visual por sí sola es adecuada para representar un número tan elevado de valores distintos.**"
      ]
    },
    {
      "cell_type": "markdown",
      "metadata": {
        "id": "-6QSvaFmZwrJ"
      },
      "source": [
        "### **Pregunta 5**\n",
        "\n",
        "Considere las siguientes visualizaciones y describa:\n",
        "\n",
        "1. Su mapeo visual (qué atributos gráficos se usan para representar qué variable de los datos).\n",
        "2. Sus deficiencias (en caso de haberlas)\n",
        "3. Describa una visualización alternativa (no necesita graficar) para comunicar eficazmente la información presentada.\n"
      ]
    },
    {
      "cell_type": "markdown",
      "metadata": {
        "id": "aQy8P0a2aDVP"
      },
      "source": [
        "Visualización 1\n",
        "\n",
        "<img src=\"https://raw.githubusercontent.com/cinthiasanchez/visualization/main/Ejemplo_visualizacion.jpeg\" alt=\"visualizacion 1\" width=\"800\"/>\n",
        "\n",
        "**Respuesta:**\n",
        "\n",
        "1. **Mapeo visual**: El eje x representa el porcentaje de uso de un asistente de voz, en particular: porcentaje de uso diario (morado oscuro), porcentaje mensual (naranjo) y porcentaje de al menos una vez (morado claro). El eje y representan los distintos usos/solicitudes al asistente de voz.\n",
        "\n",
        "2. **Deficiencias**. Por un lado, es automático comparar los porcentajes de uso diario, dado que los datos están ordenados según esa variable. Sin embargo, por otro lado, es más difícil la comparación de los porcentajes mensuales y de al menos una vez.\n",
        "A pesar de que la información de los porcentajes están en el gráfico, es necesario prestar atención para distinguir el orden. Al mismo tiempo, la cantidad de porcentajes hace que el gráfico se vea sobrecargado.\n",
        "Adicionalmente, algunos porcentajes se encuentran ubicados a la derecha de las barras, debido a que el largo de la barra no es lo suficientemente grande para la etiqueta. Esto le da un grado de desorden a la presentación de los datos.\n",
        "Con respecto a los colores utilizados, sería recomendable cambiar el color naranjo, por uno intermedio entre el morado oscuro y claro (como si fuera una paleta de colores), pues la cantidad de uso puede ser considera una variable categórica ordinal.\n",
        "\n",
        "3. **Visualización alternativa**.\n",
        "Se proponen dos visualizaciones alternativas: I) Separar la información en tres gráficos de barras distintos, de acuerdo a los usos diarios, mensuales y al menos una vez. II) Representar la información en un gráfico de línea, con 3 líneas distintas asociadas a cada intervalo de tiempo.\n",
        "\n",
        "\n",
        "\n",
        "\n",
        "\n"
      ]
    },
    {
      "cell_type": "markdown",
      "metadata": {
        "id": "LhQMV2f8uPMX"
      },
      "source": [
        "Visualización 2\n",
        "\n",
        "<img src=\"https://raw.githubusercontent.com/cinthiasanchez/visualization/main/Ejemplo_visualizacion_2.png\" alt=\"visualizacion 2\" width=\"800\"/>\n",
        "\n",
        "**Respuesta:**\n",
        "\n",
        "1. **Mapeo visual**. El eje x representa distintos lugares: Thunder Bay, Ontario y Canadá. El eje y representa el porcentaje de inmigrantes en relación a la población del año 2016. Los colores representan distintos intervalos de tiempo: antes de 1981, entre 1981 y 1990, entre 1991 y 2000, entre 2001 y 2010, y entre 2011 y 2016.\n",
        "2. **Deficiencias**. No es fácil determinar los porcentajes asociados a los distintos intervalos de tiempo. Por ejemplo, si observamos las dos barras de la derecha, no es directo comparar los porcentajes asociados al color gris. Adicionalmente, podría ser útil conocer los habitantes del año 2016 en cada lugar, pues el título no es claro con respecto a qué población de habitantes se calculan los porcentajes.\n",
        "Con respecto a los colores utilizados, los intervalos de tiempo pueden ser considerados una variable categórica ordinal, por lo que se sugiere utilizar una paleta de colores.\n",
        "3. **Visualización alternativa**. Se propone separar la información en cinco gráficos de barras distintos, de acuerdo a cada intervalo de tiempo. De esta manera se podría comparar los porcentajes fácilmente, entre los 3 lugares distintos.\n",
        "\n"
      ]
    },
    {
      "cell_type": "markdown",
      "metadata": {
        "id": "ZuFErMboa83c"
      },
      "source": [
        "## Preguntas prácticas"
      ]
    },
    {
      "cell_type": "markdown",
      "metadata": {
        "id": "tuhcfwFMbBFl"
      },
      "source": [
        "\n",
        "Considere el set de datos del titanic que contiene los siguientes atributos:\n",
        "\n",
        "* PassengerId: identificador del pasajero\n",
        "* Survived: si el pasajero sobrevivió o no\n",
        "* Pclass: clase del ticket en la que viajó\n",
        "* Name: nombre del pasajero\n",
        "* Sex: sexo\n",
        "* Age: edad\n",
        "* SibSp: número de hermanos o cónyuges en el Titanic\n",
        "* Parch: número de padres o hijos en el Titanic\n",
        "* Ticket: número de ticket\n",
        "* Fare: tarifa del pasajero\n",
        "* Cabin: número de cabina\n",
        "* Embarked: puerto de embarcación\n"
      ]
    },
    {
      "cell_type": "code",
      "execution_count": null,
      "metadata": {
        "colab": {
          "base_uri": "https://localhost:8080/",
          "height": 275
        },
        "id": "ivsZFDolbCOQ",
        "outputId": "5d838ceb-eb6c-4b58-dbad-e90ed1ada64b"
      },
      "outputs": [
        {
          "data": {
            "text/html": [
              "\n",
              "  <div id=\"df-a49c042e-70d3-43c3-883c-24f84b140cd8\" class=\"colab-df-container\">\n",
              "    <div>\n",
              "<style scoped>\n",
              "    .dataframe tbody tr th:only-of-type {\n",
              "        vertical-align: middle;\n",
              "    }\n",
              "\n",
              "    .dataframe tbody tr th {\n",
              "        vertical-align: top;\n",
              "    }\n",
              "\n",
              "    .dataframe thead th {\n",
              "        text-align: right;\n",
              "    }\n",
              "</style>\n",
              "<table border=\"1\" class=\"dataframe\">\n",
              "  <thead>\n",
              "    <tr style=\"text-align: right;\">\n",
              "      <th></th>\n",
              "      <th>PassengerId</th>\n",
              "      <th>Survived</th>\n",
              "      <th>Pclass</th>\n",
              "      <th>Name</th>\n",
              "      <th>Sex</th>\n",
              "      <th>Age</th>\n",
              "      <th>SibSp</th>\n",
              "      <th>Parch</th>\n",
              "      <th>Ticket</th>\n",
              "      <th>Fare</th>\n",
              "      <th>Cabin</th>\n",
              "      <th>Embarked</th>\n",
              "    </tr>\n",
              "  </thead>\n",
              "  <tbody>\n",
              "    <tr>\n",
              "      <th>0</th>\n",
              "      <td>1</td>\n",
              "      <td>0</td>\n",
              "      <td>3</td>\n",
              "      <td>Braund, Mr. Owen Harris</td>\n",
              "      <td>male</td>\n",
              "      <td>22.0</td>\n",
              "      <td>1</td>\n",
              "      <td>0</td>\n",
              "      <td>A/5 21171</td>\n",
              "      <td>7.2500</td>\n",
              "      <td>NaN</td>\n",
              "      <td>S</td>\n",
              "    </tr>\n",
              "    <tr>\n",
              "      <th>1</th>\n",
              "      <td>2</td>\n",
              "      <td>1</td>\n",
              "      <td>1</td>\n",
              "      <td>Cumings, Mrs. John Bradley (Florence Briggs Th...</td>\n",
              "      <td>female</td>\n",
              "      <td>38.0</td>\n",
              "      <td>1</td>\n",
              "      <td>0</td>\n",
              "      <td>PC 17599</td>\n",
              "      <td>71.2833</td>\n",
              "      <td>C85</td>\n",
              "      <td>C</td>\n",
              "    </tr>\n",
              "    <tr>\n",
              "      <th>2</th>\n",
              "      <td>3</td>\n",
              "      <td>1</td>\n",
              "      <td>3</td>\n",
              "      <td>Heikkinen, Miss. Laina</td>\n",
              "      <td>female</td>\n",
              "      <td>26.0</td>\n",
              "      <td>0</td>\n",
              "      <td>0</td>\n",
              "      <td>STON/O2. 3101282</td>\n",
              "      <td>7.9250</td>\n",
              "      <td>NaN</td>\n",
              "      <td>S</td>\n",
              "    </tr>\n",
              "    <tr>\n",
              "      <th>3</th>\n",
              "      <td>4</td>\n",
              "      <td>1</td>\n",
              "      <td>1</td>\n",
              "      <td>Futrelle, Mrs. Jacques Heath (Lily May Peel)</td>\n",
              "      <td>female</td>\n",
              "      <td>35.0</td>\n",
              "      <td>1</td>\n",
              "      <td>0</td>\n",
              "      <td>113803</td>\n",
              "      <td>53.1000</td>\n",
              "      <td>C123</td>\n",
              "      <td>S</td>\n",
              "    </tr>\n",
              "    <tr>\n",
              "      <th>4</th>\n",
              "      <td>5</td>\n",
              "      <td>0</td>\n",
              "      <td>3</td>\n",
              "      <td>Allen, Mr. William Henry</td>\n",
              "      <td>male</td>\n",
              "      <td>35.0</td>\n",
              "      <td>0</td>\n",
              "      <td>0</td>\n",
              "      <td>373450</td>\n",
              "      <td>8.0500</td>\n",
              "      <td>NaN</td>\n",
              "      <td>S</td>\n",
              "    </tr>\n",
              "  </tbody>\n",
              "</table>\n",
              "</div>\n",
              "    <div class=\"colab-df-buttons\">\n",
              "\n",
              "  <div class=\"colab-df-container\">\n",
              "    <button class=\"colab-df-convert\" onclick=\"convertToInteractive('df-a49c042e-70d3-43c3-883c-24f84b140cd8')\"\n",
              "            title=\"Convert this dataframe to an interactive table.\"\n",
              "            style=\"display:none;\">\n",
              "\n",
              "  <svg xmlns=\"http://www.w3.org/2000/svg\" height=\"24px\" viewBox=\"0 -960 960 960\">\n",
              "    <path d=\"M120-120v-720h720v720H120Zm60-500h600v-160H180v160Zm220 220h160v-160H400v160Zm0 220h160v-160H400v160ZM180-400h160v-160H180v160Zm440 0h160v-160H620v160ZM180-180h160v-160H180v160Zm440 0h160v-160H620v160Z\"/>\n",
              "  </svg>\n",
              "    </button>\n",
              "\n",
              "  <style>\n",
              "    .colab-df-container {\n",
              "      display:flex;\n",
              "      gap: 12px;\n",
              "    }\n",
              "\n",
              "    .colab-df-convert {\n",
              "      background-color: #E8F0FE;\n",
              "      border: none;\n",
              "      border-radius: 50%;\n",
              "      cursor: pointer;\n",
              "      display: none;\n",
              "      fill: #1967D2;\n",
              "      height: 32px;\n",
              "      padding: 0 0 0 0;\n",
              "      width: 32px;\n",
              "    }\n",
              "\n",
              "    .colab-df-convert:hover {\n",
              "      background-color: #E2EBFA;\n",
              "      box-shadow: 0px 1px 2px rgba(60, 64, 67, 0.3), 0px 1px 3px 1px rgba(60, 64, 67, 0.15);\n",
              "      fill: #174EA6;\n",
              "    }\n",
              "\n",
              "    .colab-df-buttons div {\n",
              "      margin-bottom: 4px;\n",
              "    }\n",
              "\n",
              "    [theme=dark] .colab-df-convert {\n",
              "      background-color: #3B4455;\n",
              "      fill: #D2E3FC;\n",
              "    }\n",
              "\n",
              "    [theme=dark] .colab-df-convert:hover {\n",
              "      background-color: #434B5C;\n",
              "      box-shadow: 0px 1px 3px 1px rgba(0, 0, 0, 0.15);\n",
              "      filter: drop-shadow(0px 1px 2px rgba(0, 0, 0, 0.3));\n",
              "      fill: #FFFFFF;\n",
              "    }\n",
              "  </style>\n",
              "\n",
              "    <script>\n",
              "      const buttonEl =\n",
              "        document.querySelector('#df-a49c042e-70d3-43c3-883c-24f84b140cd8 button.colab-df-convert');\n",
              "      buttonEl.style.display =\n",
              "        google.colab.kernel.accessAllowed ? 'block' : 'none';\n",
              "\n",
              "      async function convertToInteractive(key) {\n",
              "        const element = document.querySelector('#df-a49c042e-70d3-43c3-883c-24f84b140cd8');\n",
              "        const dataTable =\n",
              "          await google.colab.kernel.invokeFunction('convertToInteractive',\n",
              "                                                    [key], {});\n",
              "        if (!dataTable) return;\n",
              "\n",
              "        const docLinkHtml = 'Like what you see? Visit the ' +\n",
              "          '<a target=\"_blank\" href=https://colab.research.google.com/notebooks/data_table.ipynb>data table notebook</a>'\n",
              "          + ' to learn more about interactive tables.';\n",
              "        element.innerHTML = '';\n",
              "        dataTable['output_type'] = 'display_data';\n",
              "        await google.colab.output.renderOutput(dataTable, element);\n",
              "        const docLink = document.createElement('div');\n",
              "        docLink.innerHTML = docLinkHtml;\n",
              "        element.appendChild(docLink);\n",
              "      }\n",
              "    </script>\n",
              "  </div>\n",
              "\n",
              "\n",
              "<div id=\"df-7e5826e5-e8d3-443d-9f22-f40d2a8927b4\">\n",
              "  <button class=\"colab-df-quickchart\" onclick=\"quickchart('df-7e5826e5-e8d3-443d-9f22-f40d2a8927b4')\"\n",
              "            title=\"Suggest charts.\"\n",
              "            style=\"display:none;\">\n",
              "\n",
              "<svg xmlns=\"http://www.w3.org/2000/svg\" height=\"24px\"viewBox=\"0 0 24 24\"\n",
              "     width=\"24px\">\n",
              "    <g>\n",
              "        <path d=\"M19 3H5c-1.1 0-2 .9-2 2v14c0 1.1.9 2 2 2h14c1.1 0 2-.9 2-2V5c0-1.1-.9-2-2-2zM9 17H7v-7h2v7zm4 0h-2V7h2v10zm4 0h-2v-4h2v4z\"/>\n",
              "    </g>\n",
              "</svg>\n",
              "  </button>\n",
              "\n",
              "<style>\n",
              "  .colab-df-quickchart {\n",
              "      --bg-color: #E8F0FE;\n",
              "      --fill-color: #1967D2;\n",
              "      --hover-bg-color: #E2EBFA;\n",
              "      --hover-fill-color: #174EA6;\n",
              "      --disabled-fill-color: #AAA;\n",
              "      --disabled-bg-color: #DDD;\n",
              "  }\n",
              "\n",
              "  [theme=dark] .colab-df-quickchart {\n",
              "      --bg-color: #3B4455;\n",
              "      --fill-color: #D2E3FC;\n",
              "      --hover-bg-color: #434B5C;\n",
              "      --hover-fill-color: #FFFFFF;\n",
              "      --disabled-bg-color: #3B4455;\n",
              "      --disabled-fill-color: #666;\n",
              "  }\n",
              "\n",
              "  .colab-df-quickchart {\n",
              "    background-color: var(--bg-color);\n",
              "    border: none;\n",
              "    border-radius: 50%;\n",
              "    cursor: pointer;\n",
              "    display: none;\n",
              "    fill: var(--fill-color);\n",
              "    height: 32px;\n",
              "    padding: 0;\n",
              "    width: 32px;\n",
              "  }\n",
              "\n",
              "  .colab-df-quickchart:hover {\n",
              "    background-color: var(--hover-bg-color);\n",
              "    box-shadow: 0 1px 2px rgba(60, 64, 67, 0.3), 0 1px 3px 1px rgba(60, 64, 67, 0.15);\n",
              "    fill: var(--button-hover-fill-color);\n",
              "  }\n",
              "\n",
              "  .colab-df-quickchart-complete:disabled,\n",
              "  .colab-df-quickchart-complete:disabled:hover {\n",
              "    background-color: var(--disabled-bg-color);\n",
              "    fill: var(--disabled-fill-color);\n",
              "    box-shadow: none;\n",
              "  }\n",
              "\n",
              "  .colab-df-spinner {\n",
              "    border: 2px solid var(--fill-color);\n",
              "    border-color: transparent;\n",
              "    border-bottom-color: var(--fill-color);\n",
              "    animation:\n",
              "      spin 1s steps(1) infinite;\n",
              "  }\n",
              "\n",
              "  @keyframes spin {\n",
              "    0% {\n",
              "      border-color: transparent;\n",
              "      border-bottom-color: var(--fill-color);\n",
              "      border-left-color: var(--fill-color);\n",
              "    }\n",
              "    20% {\n",
              "      border-color: transparent;\n",
              "      border-left-color: var(--fill-color);\n",
              "      border-top-color: var(--fill-color);\n",
              "    }\n",
              "    30% {\n",
              "      border-color: transparent;\n",
              "      border-left-color: var(--fill-color);\n",
              "      border-top-color: var(--fill-color);\n",
              "      border-right-color: var(--fill-color);\n",
              "    }\n",
              "    40% {\n",
              "      border-color: transparent;\n",
              "      border-right-color: var(--fill-color);\n",
              "      border-top-color: var(--fill-color);\n",
              "    }\n",
              "    60% {\n",
              "      border-color: transparent;\n",
              "      border-right-color: var(--fill-color);\n",
              "    }\n",
              "    80% {\n",
              "      border-color: transparent;\n",
              "      border-right-color: var(--fill-color);\n",
              "      border-bottom-color: var(--fill-color);\n",
              "    }\n",
              "    90% {\n",
              "      border-color: transparent;\n",
              "      border-bottom-color: var(--fill-color);\n",
              "    }\n",
              "  }\n",
              "</style>\n",
              "\n",
              "  <script>\n",
              "    async function quickchart(key) {\n",
              "      const quickchartButtonEl =\n",
              "        document.querySelector('#' + key + ' button');\n",
              "      quickchartButtonEl.disabled = true;  // To prevent multiple clicks.\n",
              "      quickchartButtonEl.classList.add('colab-df-spinner');\n",
              "      try {\n",
              "        const charts = await google.colab.kernel.invokeFunction(\n",
              "            'suggestCharts', [key], {});\n",
              "      } catch (error) {\n",
              "        console.error('Error during call to suggestCharts:', error);\n",
              "      }\n",
              "      quickchartButtonEl.classList.remove('colab-df-spinner');\n",
              "      quickchartButtonEl.classList.add('colab-df-quickchart-complete');\n",
              "    }\n",
              "    (() => {\n",
              "      let quickchartButtonEl =\n",
              "        document.querySelector('#df-7e5826e5-e8d3-443d-9f22-f40d2a8927b4 button');\n",
              "      quickchartButtonEl.style.display =\n",
              "        google.colab.kernel.accessAllowed ? 'block' : 'none';\n",
              "    })();\n",
              "  </script>\n",
              "</div>\n",
              "    </div>\n",
              "  </div>\n"
            ],
            "text/plain": [
              "   PassengerId  Survived  Pclass  \\\n",
              "0            1         0       3   \n",
              "1            2         1       1   \n",
              "2            3         1       3   \n",
              "3            4         1       1   \n",
              "4            5         0       3   \n",
              "\n",
              "                                                Name     Sex   Age  SibSp  \\\n",
              "0                            Braund, Mr. Owen Harris    male  22.0      1   \n",
              "1  Cumings, Mrs. John Bradley (Florence Briggs Th...  female  38.0      1   \n",
              "2                             Heikkinen, Miss. Laina  female  26.0      0   \n",
              "3       Futrelle, Mrs. Jacques Heath (Lily May Peel)  female  35.0      1   \n",
              "4                           Allen, Mr. William Henry    male  35.0      0   \n",
              "\n",
              "   Parch            Ticket     Fare Cabin Embarked  \n",
              "0      0         A/5 21171   7.2500   NaN        S  \n",
              "1      0          PC 17599  71.2833   C85        C  \n",
              "2      0  STON/O2. 3101282   7.9250   NaN        S  \n",
              "3      0            113803  53.1000  C123        S  \n",
              "4      0            373450   8.0500   NaN        S  "
            ]
          },
          "execution_count": 2,
          "metadata": {},
          "output_type": "execute_result"
        }
      ],
      "source": [
        "import pandas as pd\n",
        "\n",
        "titanic = pd.read_csv(\"https://raw.githubusercontent.com/cinthiasanchez/Data-Mining/main/titanic.csv\")\n",
        "titanic.head()"
      ]
    },
    {
      "cell_type": "markdown",
      "metadata": {
        "id": "LyVBlyb8fqZ2"
      },
      "source": [
        "### **Pregunta 1**\n",
        "\n",
        "¿Cuáles son las dimensiones del dataset, es decir, cuántas filas y columnas tiene? Adjunte código e imprima el resultado."
      ]
    },
    {
      "cell_type": "code",
      "execution_count": null,
      "metadata": {
        "colab": {
          "base_uri": "https://localhost:8080/"
        },
        "id": "vXGn4vMb_h9z",
        "outputId": "4e84038e-2708-478a-a28e-9e027ca15811"
      },
      "outputs": [
        {
          "data": {
            "text/plain": [
              "(891, 12)"
            ]
          },
          "execution_count": 3,
          "metadata": {},
          "output_type": "execute_result"
        }
      ],
      "source": [
        "titanic.shape"
      ]
    },
    {
      "cell_type": "markdown",
      "metadata": {
        "id": "felNhSgPfsUz"
      },
      "source": [
        "Respuesta: El dataset tiene 12 columnas y 891 filas."
      ]
    },
    {
      "cell_type": "markdown",
      "metadata": {
        "id": "UBTSOMr_gzgT"
      },
      "source": [
        "### **Pregunta 2**\n",
        "\n",
        "¿El dataset tiene datos faltantes?. De ser afirmativo, ¿Cuáles columnas tienen este problema? Adjunte código e imprima el resultado."
      ]
    },
    {
      "cell_type": "code",
      "execution_count": null,
      "metadata": {
        "colab": {
          "base_uri": "https://localhost:8080/"
        },
        "id": "tv7LpWW7_uWO",
        "outputId": "214ff135-88b3-415a-af15-ab03e167097c"
      },
      "outputs": [
        {
          "data": {
            "text/plain": [
              "PassengerId      0\n",
              "Survived         0\n",
              "Pclass           0\n",
              "Name             0\n",
              "Sex              0\n",
              "Age            177\n",
              "SibSp            0\n",
              "Parch            0\n",
              "Ticket           0\n",
              "Fare             0\n",
              "Cabin          687\n",
              "Embarked         2\n",
              "dtype: int64"
            ]
          },
          "execution_count": 5,
          "metadata": {},
          "output_type": "execute_result"
        }
      ],
      "source": [
        "titanic.isnull().sum()"
      ]
    },
    {
      "cell_type": "markdown",
      "metadata": {
        "id": "bxVpjqjqhAE-"
      },
      "source": [
        " Respuesta: Las columnas que tienen datos nulos son Age (177 faltantes), Cabin (687 faltantes) y Embarked (2 faltantes)."
      ]
    },
    {
      "cell_type": "markdown",
      "metadata": {
        "id": "_5Bc0sfNg_V0"
      },
      "source": [
        "### **Pregunta 3**\n",
        "\n",
        "¿Cuántos pasajeros sobrevivieron y cuántos no?. Atributo `Survived`. *Hint: la función value_counts() puede ser útil.* Adjunte código e imprima el resultado."
      ]
    },
    {
      "cell_type": "code",
      "execution_count": null,
      "metadata": {
        "colab": {
          "base_uri": "https://localhost:8080/"
        },
        "id": "7MuERizmANzx",
        "outputId": "4d157289-724f-4e60-b1ca-4bc06e7aff29"
      },
      "outputs": [
        {
          "data": {
            "text/plain": [
              "0    549\n",
              "1    342\n",
              "Name: Survived, dtype: int64"
            ]
          },
          "execution_count": 7,
          "metadata": {},
          "output_type": "execute_result"
        }
      ],
      "source": [
        "titanic[\"Survived\"].value_counts()"
      ]
    },
    {
      "cell_type": "markdown",
      "metadata": {
        "id": "CPshdn7ykLgm"
      },
      "source": [
        "Respuesta: Sobrevivieron 342 pasajeros y no sobrevivieron 549 pasajeros."
      ]
    },
    {
      "cell_type": "markdown",
      "metadata": {
        "id": "3ru9yeKOfHwB"
      },
      "source": [
        "### **Pregunta 4**\n",
        "\n",
        "Del dataset anterior, señale qué atributos son categóricos (indique si son nominales u ordinales) y cuáles son numéricos (indique si son intervalos o razón). **Nota:** En esta pregunta no necesita adjuntar código.\n",
        "\n",
        "**Respuesta:**\n",
        "\n",
        "*  Categóricos nominales: PassengerId, Survived, Name, Sex, Ticket, Cabin, Embarked\n",
        "*  Categóricos ordinales: Pclass\n",
        "*  Númericos intervalos:\n",
        "*  Numéricos ratio: Age, SibSp, Parch, Fare"
      ]
    },
    {
      "cell_type": "markdown",
      "metadata": {
        "id": "xKYfeFJ1f2qd"
      },
      "source": [
        "### **Pregunta 5**\n",
        "\n",
        "Usando matplotlib o seaborn, genere al menos dos gráficos que le permitan explorar el dataset. Por ejemplo, un gráfico de barras, o un gráfico de dispersión, etc. Agregue un título y etiquetas necesarias para que la visualización se entienda por sí misma.\n",
        "- Indique el objetivo de su gráfico. Puede empezar planteando una pregunta sobre los datos.\n",
        "- Describa el mapeo visual (qué atributos gráficos se usan para representar qué variable de los datos).\n",
        "- Comente sus principales observaciones en base al gráfico.\n",
        "\n",
        "**Nota:** Si aplica alguna técnica de pre-procesamiento de datos, debe describirla."
      ]
    },
    {
      "cell_type": "code",
      "execution_count": null,
      "metadata": {
        "id": "VJEfrzUqExO6"
      },
      "outputs": [],
      "source": [
        "import matplotlib.pyplot as plt\n",
        "import seaborn as sns"
      ]
    },
    {
      "cell_type": "markdown",
      "metadata": {
        "id": "ofnv2e9YKcE8"
      },
      "source": [
        "**Gráfico 1**"
      ]
    },
    {
      "cell_type": "markdown",
      "metadata": {
        "id": "q_H1XQC9G4dL"
      },
      "source": [
        "**Objetivo**\n",
        "\n",
        "El objetivo del gráfico es visualizar si existe una relación entre la edad y clase, así como también entre la edad y el sexo."
      ]
    },
    {
      "cell_type": "markdown",
      "metadata": {
        "id": "TddnS8cDHTqT"
      },
      "source": [
        "**Mapeo visual**\n",
        "\n",
        "En los diagramas de caja, el eje x representa la clase, mientras que el eje y representa la edad. Además, los colores representan al sexo, donde el azul corresponde al sexo masculino (male) y el naranjo al sexo femenino (female)."
      ]
    },
    {
      "cell_type": "code",
      "execution_count": null,
      "metadata": {
        "colab": {
          "base_uri": "https://localhost:8080/",
          "height": 472
        },
        "id": "izkHPg4jE0aS",
        "outputId": "f9dcb8cb-c731-4748-cb65-1bcba8f301fb"
      },
      "outputs": [
        {
          "data": {
            "image/png": "[encoded data removed]",
            "text/plain": [
              "<Figure size 640x480 with 1 Axes>"
            ]
          },
          "metadata": {},
          "output_type": "display_data"
        }
      ],
      "source": [
        "sns.boxplot(data=titanic, x=\"Pclass\", y=\"Age\", hue=\"Sex\");\n",
        "plt.xlabel(\"Clase\");\n",
        "plt.ylabel(\"Edad\");\n",
        "plt.title(\"Edad en función de la clase y el sexo\");\n",
        "plt.legend(bbox_to_anchor=(1.3, 1),title=\"Sexo\");"
      ]
    },
    {
      "cell_type": "markdown",
      "metadata": {
        "id": "xNvyZ60GHsq0"
      },
      "source": [
        "**Observaciones**\n",
        "\n",
        "- Se observa que los valores de las medianas de las edades disminuyen desde la 1ra clase hacia la 3ra clase, tanto para hombres como para mujeres.\n",
        "\n",
        "- Si se analizan las edades por clase, en las tres categorías, la mediana de la edad de las mujeres es más baja que la de los hombres.\n",
        "\n",
        "- De las 3 clases, la 1ra es la que muestra un mayor rango intercuartílico, que corresponde a una medida de la dispersión de los datos.\n",
        "\n",
        "- La mayor cantidad de datos atípicos pertenecen a los hombres de la 2da y 3ra clase."
      ]
    },
    {
      "cell_type": "markdown",
      "metadata": {
        "id": "Vqz43iolKfEF"
      },
      "source": [
        "**Gráfico 2**"
      ]
    },
    {
      "cell_type": "markdown",
      "metadata": {
        "id": "CW0Y_DRRPmFC"
      },
      "source": [
        "**Objetivo**\n",
        "\n",
        "El objetivo del gráfico es analizar si existe una relación entre la edad (o rango etario) con el porcentaje de supervivencia, así como también entre la clase y el porcentaje de supervivencia."
      ]
    },
    {
      "cell_type": "markdown",
      "metadata": {
        "id": "UqVkOQveP0xI"
      },
      "source": [
        "**Mapeo visual**\n",
        "\n",
        "En el gráfico de barras, el eje x representa el rango etario, que corresponden a las categorías joven (0-20 años), adulto joven (21-40 años), adulto (41 a 60 años) y adulto mayor (61-80 años), y el eje y representa la razón de supervivencia. Adicionalmente, la clase se representa con la paleta de colores \"flare\" pues corresponde a una variable categórica ordinal.\n",
        "\n",
        "Para esto se procesaron los datos, agregando una nueva columna según el rango etario."
      ]
    },
    {
      "cell_type": "code",
      "execution_count": null,
      "metadata": {
        "colab": {
          "base_uri": "https://localhost:8080/",
          "height": 300
        },
        "id": "oPyqV-LKK1rw",
        "outputId": "31c7e70d-9ea2-48c1-a2ea-6e12aca11d45"
      },
      "outputs": [
        {
          "data": {
            "text/html": [
              "\n",
              "  <div id=\"df-45d9aa78-671c-44c5-8be3-8f73fd754b74\" class=\"colab-df-container\">\n",
              "    <div>\n",
              "<style scoped>\n",
              "    .dataframe tbody tr th:only-of-type {\n",
              "        vertical-align: middle;\n",
              "    }\n",
              "\n",
              "    .dataframe tbody tr th {\n",
              "        vertical-align: top;\n",
              "    }\n",
              "\n",
              "    .dataframe thead th {\n",
              "        text-align: right;\n",
              "    }\n",
              "</style>\n",
              "<table border=\"1\" class=\"dataframe\">\n",
              "  <thead>\n",
              "    <tr style=\"text-align: right;\">\n",
              "      <th></th>\n",
              "      <th>PassengerId</th>\n",
              "      <th>Survived</th>\n",
              "      <th>Pclass</th>\n",
              "      <th>Name</th>\n",
              "      <th>Sex</th>\n",
              "      <th>Age</th>\n",
              "      <th>SibSp</th>\n",
              "      <th>Parch</th>\n",
              "      <th>Ticket</th>\n",
              "      <th>Fare</th>\n",
              "      <th>Cabin</th>\n",
              "      <th>Embarked</th>\n",
              "      <th>Rango_etario</th>\n",
              "    </tr>\n",
              "  </thead>\n",
              "  <tbody>\n",
              "    <tr>\n",
              "      <th>0</th>\n",
              "      <td>1</td>\n",
              "      <td>0</td>\n",
              "      <td>3</td>\n",
              "      <td>Braund, Mr. Owen Harris</td>\n",
              "      <td>male</td>\n",
              "      <td>22.0</td>\n",
              "      <td>1</td>\n",
              "      <td>0</td>\n",
              "      <td>A/5 21171</td>\n",
              "      <td>7.2500</td>\n",
              "      <td>NaN</td>\n",
              "      <td>S</td>\n",
              "      <td>Adulto joven (21-40)</td>\n",
              "    </tr>\n",
              "    <tr>\n",
              "      <th>1</th>\n",
              "      <td>2</td>\n",
              "      <td>1</td>\n",
              "      <td>1</td>\n",
              "      <td>Cumings, Mrs. John Bradley (Florence Briggs Th...</td>\n",
              "      <td>female</td>\n",
              "      <td>38.0</td>\n",
              "      <td>1</td>\n",
              "      <td>0</td>\n",
              "      <td>PC 17599</td>\n",
              "      <td>71.2833</td>\n",
              "      <td>C85</td>\n",
              "      <td>C</td>\n",
              "      <td>Adulto joven (21-40)</td>\n",
              "    </tr>\n",
              "    <tr>\n",
              "      <th>2</th>\n",
              "      <td>3</td>\n",
              "      <td>1</td>\n",
              "      <td>3</td>\n",
              "      <td>Heikkinen, Miss. Laina</td>\n",
              "      <td>female</td>\n",
              "      <td>26.0</td>\n",
              "      <td>0</td>\n",
              "      <td>0</td>\n",
              "      <td>STON/O2. 3101282</td>\n",
              "      <td>7.9250</td>\n",
              "      <td>NaN</td>\n",
              "      <td>S</td>\n",
              "      <td>Adulto joven (21-40)</td>\n",
              "    </tr>\n",
              "  </tbody>\n",
              "</table>\n",
              "</div>\n",
              "    <div class=\"colab-df-buttons\">\n",
              "\n",
              "  <div class=\"colab-df-container\">\n",
              "    <button class=\"colab-df-convert\" onclick=\"convertToInteractive('df-45d9aa78-671c-44c5-8be3-8f73fd754b74')\"\n",
              "            title=\"Convert this dataframe to an interactive table.\"\n",
              "            style=\"display:none;\">\n",
              "\n",
              "  <svg xmlns=\"http://www.w3.org/2000/svg\" height=\"24px\" viewBox=\"0 -960 960 960\">\n",
              "    <path d=\"M120-120v-720h720v720H120Zm60-500h600v-160H180v160Zm220 220h160v-160H400v160Zm0 220h160v-160H400v160ZM180-400h160v-160H180v160Zm440 0h160v-160H620v160ZM180-180h160v-160H180v160Zm440 0h160v-160H620v160Z\"/>\n",
              "  </svg>\n",
              "    </button>\n",
              "\n",
              "  <style>\n",
              "    .colab-df-container {\n",
              "      display:flex;\n",
              "      gap: 12px;\n",
              "    }\n",
              "\n",
              "    .colab-df-convert {\n",
              "      background-color: #E8F0FE;\n",
              "      border: none;\n",
              "      border-radius: 50%;\n",
              "      cursor: pointer;\n",
              "      display: none;\n",
              "      fill: #1967D2;\n",
              "      height: 32px;\n",
              "      padding: 0 0 0 0;\n",
              "      width: 32px;\n",
              "    }\n",
              "\n",
              "    .colab-df-convert:hover {\n",
              "      background-color: #E2EBFA;\n",
              "      box-shadow: 0px 1px 2px rgba(60, 64, 67, 0.3), 0px 1px 3px 1px rgba(60, 64, 67, 0.15);\n",
              "      fill: #174EA6;\n",
              "    }\n",
              "\n",
              "    .colab-df-buttons div {\n",
              "      margin-bottom: 4px;\n",
              "    }\n",
              "\n",
              "    [theme=dark] .colab-df-convert {\n",
              "      background-color: #3B4455;\n",
              "      fill: #D2E3FC;\n",
              "    }\n",
              "\n",
              "    [theme=dark] .colab-df-convert:hover {\n",
              "      background-color: #434B5C;\n",
              "      box-shadow: 0px 1px 3px 1px rgba(0, 0, 0, 0.15);\n",
              "      filter: drop-shadow(0px 1px 2px rgba(0, 0, 0, 0.3));\n",
              "      fill: #FFFFFF;\n",
              "    }\n",
              "  </style>\n",
              "\n",
              "    <script>\n",
              "      const buttonEl =\n",
              "        document.querySelector('#df-45d9aa78-671c-44c5-8be3-8f73fd754b74 button.colab-df-convert');\n",
              "      buttonEl.style.display =\n",
              "        google.colab.kernel.accessAllowed ? 'block' : 'none';\n",
              "\n",
              "      async function convertToInteractive(key) {\n",
              "        const element = document.querySelector('#df-45d9aa78-671c-44c5-8be3-8f73fd754b74');\n",
              "        const dataTable =\n",
              "          await google.colab.kernel.invokeFunction('convertToInteractive',\n",
              "                                                    [key], {});\n",
              "        if (!dataTable) return;\n",
              "\n",
              "        const docLinkHtml = 'Like what you see? Visit the ' +\n",
              "          '<a target=\"_blank\" href=https://colab.research.google.com/notebooks/data_table.ipynb>data table notebook</a>'\n",
              "          + ' to learn more about interactive tables.';\n",
              "        element.innerHTML = '';\n",
              "        dataTable['output_type'] = 'display_data';\n",
              "        await google.colab.output.renderOutput(dataTable, element);\n",
              "        const docLink = document.createElement('div');\n",
              "        docLink.innerHTML = docLinkHtml;\n",
              "        element.appendChild(docLink);\n",
              "      }\n",
              "    </script>\n",
              "  </div>\n",
              "\n",
              "\n",
              "<div id=\"df-3af1c250-4454-46d6-970d-7a375b147662\">\n",
              "  <button class=\"colab-df-quickchart\" onclick=\"quickchart('df-3af1c250-4454-46d6-970d-7a375b147662')\"\n",
              "            title=\"Suggest charts.\"\n",
              "            style=\"display:none;\">\n",
              "\n",
              "<svg xmlns=\"http://www.w3.org/2000/svg\" height=\"24px\"viewBox=\"0 0 24 24\"\n",
              "     width=\"24px\">\n",
              "    <g>\n",
              "        <path d=\"M19 3H5c-1.1 0-2 .9-2 2v14c0 1.1.9 2 2 2h14c1.1 0 2-.9 2-2V5c0-1.1-.9-2-2-2zM9 17H7v-7h2v7zm4 0h-2V7h2v10zm4 0h-2v-4h2v4z\"/>\n",
              "    </g>\n",
              "</svg>\n",
              "  </button>\n",
              "\n",
              "<style>\n",
              "  .colab-df-quickchart {\n",
              "      --bg-color: #E8F0FE;\n",
              "      --fill-color: #1967D2;\n",
              "      --hover-bg-color: #E2EBFA;\n",
              "      --hover-fill-color: #174EA6;\n",
              "      --disabled-fill-color: #AAA;\n",
              "      --disabled-bg-color: #DDD;\n",
              "  }\n",
              "\n",
              "  [theme=dark] .colab-df-quickchart {\n",
              "      --bg-color: #3B4455;\n",
              "      --fill-color: #D2E3FC;\n",
              "      --hover-bg-color: #434B5C;\n",
              "      --hover-fill-color: #FFFFFF;\n",
              "      --disabled-bg-color: #3B4455;\n",
              "      --disabled-fill-color: #666;\n",
              "  }\n",
              "\n",
              "  .colab-df-quickchart {\n",
              "    background-color: var(--bg-color);\n",
              "    border: none;\n",
              "    border-radius: 50%;\n",
              "    cursor: pointer;\n",
              "    display: none;\n",
              "    fill: var(--fill-color);\n",
              "    height: 32px;\n",
              "    padding: 0;\n",
              "    width: 32px;\n",
              "  }\n",
              "\n",
              "  .colab-df-quickchart:hover {\n",
              "    background-color: var(--hover-bg-color);\n",
              "    box-shadow: 0 1px 2px rgba(60, 64, 67, 0.3), 0 1px 3px 1px rgba(60, 64, 67, 0.15);\n",
              "    fill: var(--button-hover-fill-color);\n",
              "  }\n",
              "\n",
              "  .colab-df-quickchart-complete:disabled,\n",
              "  .colab-df-quickchart-complete:disabled:hover {\n",
              "    background-color: var(--disabled-bg-color);\n",
              "    fill: var(--disabled-fill-color);\n",
              "    box-shadow: none;\n",
              "  }\n",
              "\n",
              "  .colab-df-spinner {\n",
              "    border: 2px solid var(--fill-color);\n",
              "    border-color: transparent;\n",
              "    border-bottom-color: var(--fill-color);\n",
              "    animation:\n",
              "      spin 1s steps(1) infinite;\n",
              "  }\n",
              "\n",
              "  @keyframes spin {\n",
              "    0% {\n",
              "      border-color: transparent;\n",
              "      border-bottom-color: var(--fill-color);\n",
              "      border-left-color: var(--fill-color);\n",
              "    }\n",
              "    20% {\n",
              "      border-color: transparent;\n",
              "      border-left-color: var(--fill-color);\n",
              "      border-top-color: var(--fill-color);\n",
              "    }\n",
              "    30% {\n",
              "      border-color: transparent;\n",
              "      border-left-color: var(--fill-color);\n",
              "      border-top-color: var(--fill-color);\n",
              "      border-right-color: var(--fill-color);\n",
              "    }\n",
              "    40% {\n",
              "      border-color: transparent;\n",
              "      border-right-color: var(--fill-color);\n",
              "      border-top-color: var(--fill-color);\n",
              "    }\n",
              "    60% {\n",
              "      border-color: transparent;\n",
              "      border-right-color: var(--fill-color);\n",
              "    }\n",
              "    80% {\n",
              "      border-color: transparent;\n",
              "      border-right-color: var(--fill-color);\n",
              "      border-bottom-color: var(--fill-color);\n",
              "    }\n",
              "    90% {\n",
              "      border-color: transparent;\n",
              "      border-bottom-color: var(--fill-color);\n",
              "    }\n",
              "  }\n",
              "</style>\n",
              "\n",
              "  <script>\n",
              "    async function quickchart(key) {\n",
              "      const quickchartButtonEl =\n",
              "        document.querySelector('#' + key + ' button');\n",
              "      quickchartButtonEl.disabled = true;  // To prevent multiple clicks.\n",
              "      quickchartButtonEl.classList.add('colab-df-spinner');\n",
              "      try {\n",
              "        const charts = await google.colab.kernel.invokeFunction(\n",
              "            'suggestCharts', [key], {});\n",
              "      } catch (error) {\n",
              "        console.error('Error during call to suggestCharts:', error);\n",
              "      }\n",
              "      quickchartButtonEl.classList.remove('colab-df-spinner');\n",
              "      quickchartButtonEl.classList.add('colab-df-quickchart-complete');\n",
              "    }\n",
              "    (() => {\n",
              "      let quickchartButtonEl =\n",
              "        document.querySelector('#df-3af1c250-4454-46d6-970d-7a375b147662 button');\n",
              "      quickchartButtonEl.style.display =\n",
              "        google.colab.kernel.accessAllowed ? 'block' : 'none';\n",
              "    })();\n",
              "  </script>\n",
              "</div>\n",
              "    </div>\n",
              "  </div>\n"
            ],
            "text/plain": [
              "   PassengerId  Survived  Pclass  \\\n",
              "0            1         0       3   \n",
              "1            2         1       1   \n",
              "2            3         1       3   \n",
              "\n",
              "                                                Name     Sex   Age  SibSp  \\\n",
              "0                            Braund, Mr. Owen Harris    male  22.0      1   \n",
              "1  Cumings, Mrs. John Bradley (Florence Briggs Th...  female  38.0      1   \n",
              "2                             Heikkinen, Miss. Laina  female  26.0      0   \n",
              "\n",
              "   Parch            Ticket     Fare Cabin Embarked          Rango_etario  \n",
              "0      0         A/5 21171   7.2500   NaN        S  Adulto joven (21-40)  \n",
              "1      0          PC 17599  71.2833   C85        C  Adulto joven (21-40)  \n",
              "2      0  STON/O2. 3101282   7.9250   NaN        S  Adulto joven (21-40)  "
            ]
          },
          "execution_count": 11,
          "metadata": {},
          "output_type": "execute_result"
        }
      ],
      "source": [
        "new=titanic.assign(Rango_etario=pd.cut(titanic['Age'], bins=[0,20, 40, 60, 80], right=True, labels=[\"Joven (0-20)\", \"Adulto joven (21-40)\", \"Adulto (41-60)\", \"Adulto mayor (61-80)\"]))\n",
        "new.head(3)"
      ]
    },
    {
      "cell_type": "code",
      "execution_count": null,
      "metadata": {
        "colab": {
          "base_uri": "https://localhost:8080/",
          "height": 574
        },
        "id": "XoevduBcL8To",
        "outputId": "e3d8d306-6098-47d7-c088-0cabc2a763e5"
      },
      "outputs": [
        {
          "data": {
            "image/png": "[encoded data removed]",
            "text/plain": [
              "<Figure size 640x480 with 1 Axes>"
            ]
          },
          "metadata": {},
          "output_type": "display_data"
        }
      ],
      "source": [
        "sns.barplot(data=new, x=\"Rango_etario\", y=\"Survived\", hue=\"Pclass\", palette='flare',errorbar=None)\n",
        "plt.xlabel(\"Rango etario\");\n",
        "plt.ylabel(\"Razón de supervivencia\");\n",
        "plt.title(\"Razón de supervivencia en función del rango etario y la clase\");\n",
        "plt.legend(bbox_to_anchor=(1.2, 1),title=\"Clase\");\n",
        "plt.xticks(rotation=45);\n"
      ]
    },
    {
      "cell_type": "markdown",
      "metadata": {
        "id": "29zGXGPJQPZD"
      },
      "source": [
        "**Observaciones**\n",
        "\n",
        "- Se observa que existe una mayor razón de supervivencia para la 1ra clase, seguida por la 2da clase, y finalmente por la 3ra clase.  Esto ocurre para todos los rangos etarios, excepto para el último (adulto mayor). Esta diferencia se debe a la poca cantidad de personas que existen en ese rango, lo que da origen a un gran error estadístico. Para complementar esta afirmación, se realizó un histograma (más abajo) que muestra la cantidad de pasajeros según la edad.\n",
        "\n",
        "- Además, se observa que la mayor razón de sobrevivientes es para pasajeros jóvenes. Es decir, a mayor edad hubo menos razón de supervencia, si se comparan las distintas clases entre sí. Nuevamente, esto no es válido para el rango etario más alto, por la razón mencionada anteriormente.\n"
      ]
    },
    {
      "cell_type": "code",
      "execution_count": null,
      "metadata": {
        "colab": {
          "base_uri": "https://localhost:8080/",
          "height": 411
        },
        "id": "dDv-Exh1Oxp1",
        "outputId": "353f45e5-73a8-4491-9d5d-b3ed5f1e9d94"
      },
      "outputs": [
        {
          "data": {
            "image/png": "[encoded data removed]",
            "text/plain": [
              "<Figure size 300x400 with 1 Axes>"
            ]
          },
          "metadata": {},
          "output_type": "display_data"
        }
      ],
      "source": [
        "plt.figure(figsize=(3, 4))\n",
        "sns.histplot(data=titanic, x=\"Age\",bins=4);\n",
        "plt.xlabel(\"Edad\");\n",
        "plt.ylabel(\"Cantidad de pasajeros\");\n",
        "plt.title(\"Cantidad de pasajeros en función de la edad\");"
      ]
    },
    {
      "cell_type": "markdown",
      "metadata": {
        "id": "7B1J0FQfNpS3"
      },
      "source": [
        "**Gráfico 3**"
      ]
    },
    {
      "cell_type": "markdown",
      "metadata": {
        "id": "YSd8aVOexNdJ"
      },
      "source": [
        "**Objetivo**\n",
        "\n",
        "El objetivo del gráfico es analizar si existe una relación entre la edad (o rango etario) con el porcentaje de supervivencia, así como también entre la el sexo y el porcentaje de supervivencia."
      ]
    },
    {
      "cell_type": "markdown",
      "metadata": {
        "id": "MtbTMcxiwuTq"
      },
      "source": [
        "**Mapeo visual**\n",
        "\n",
        "En el gráfico de barras, el eje x representa el rango etario, y el eje y representa la razón de supervivencia. Adicionalmente, los colores azul y naranjo representan el sexo, masculino y femenino, respectivamente."
      ]
    },
    {
      "cell_type": "code",
      "execution_count": null,
      "metadata": {
        "colab": {
          "base_uri": "https://localhost:8080/",
          "height": 574
        },
        "id": "BpeqV_ZNMX8l",
        "outputId": "259b43b5-e17e-4e02-841d-27f65783e64f"
      },
      "outputs": [
        {
          "data": {
            "image/png": "[encoded data removed]",
            "text/plain": [
              "<Figure size 640x480 with 1 Axes>"
            ]
          },
          "metadata": {},
          "output_type": "display_data"
        }
      ],
      "source": [
        "sns.barplot(data=new, x=\"Rango_etario\", y=\"Survived\", hue=\"Sex\", errorbar=None);\n",
        "plt.xlabel(\"Rango etario\");\n",
        "plt.ylabel(\"Razón de supervivencia\");\n",
        "plt.title(\"Razón de supervivencia en función del rango etario y el sexo\");\n",
        "plt.legend(title=\"Sexo\");\n",
        "plt.xticks(rotation=45);"
      ]
    },
    {
      "cell_type": "markdown",
      "metadata": {
        "id": "e4wqyJ7yHhdz"
      },
      "source": [
        "**Observaciones**\n",
        "\n",
        "- Se observa que el porcentaje de supervivencia de las mujeres es mayor a la de los hombres, para todos los rangos de edad.\n",
        "\n",
        "- Se observa que al comparar los distintos rangos etarios,\n",
        "para las mujeres, a mayor edad mayor razón de supervivencia. Mientras que se observa lo opuesto para los hombres.\n"
      ]
    },
    {
      "cell_type": "markdown",
      "metadata": {
        "id": "RsvxX-MUTkdt"
      },
      "source": [
        "**Comentarios finales**\n",
        "\n",
        "Nos llamó la atención que la conclusión del gráfico 2 (mayor supervivencia a menor edad) pareciera contradecir las conclusiones del gráfico 3 (la relación entre edad y supervivencia no es tan evidente).\n",
        "\n",
        "Debido a que el número de pasajeros por rango etario no es igual, sumado al hecho que el número de hombres es mayor al número de mujeres (como se observa en gráfico de más abajo), es difícil estimar la cantidad real de supervivientes de acuerdo a cada categoría.\n",
        "\n"
      ]
    },
    {
      "cell_type": "code",
      "execution_count": 35,
      "metadata": {
        "colab": {
          "base_uri": "https://localhost:8080/",
          "height": 411
        },
        "id": "10t8_tXCT32_",
        "outputId": "a0001db0-8a19-4b47-e806-443d4df2da55"
      },
      "outputs": [
        {
          "data": {
            "image/png": "[encoded data removed]",
            "text/plain": [
              "<Figure size 300x400 with 1 Axes>"
            ]
          },
          "metadata": {},
          "output_type": "display_data"
        }
      ],
      "source": [
        "plt.figure(figsize=(3, 4))\n",
        "sns.histplot(data=titanic, x=\"Age\", hue=\"Sex\",multiple=\"stack\",bins=4);\n",
        "plt.xlabel(\"Edad\");\n",
        "plt.ylabel(\"Cantidad de pasajeros\");\n",
        "plt.title(\"Cantidad de pasajeros en función de la edad y el sexo\");"
      ]
    }
  ],
  "metadata": {
    "colab": {
      "provenance": []
    },
    "kernelspec": {
      "display_name": "Python 3",
      "name": "python3"
    },
    "language_info": {
      "name": "python"
    }
  },
  "nbformat": 4,
  "nbformat_minor": 0
}
